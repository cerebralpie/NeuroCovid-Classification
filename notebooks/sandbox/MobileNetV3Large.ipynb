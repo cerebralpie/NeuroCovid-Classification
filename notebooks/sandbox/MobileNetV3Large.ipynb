{
 "cells": [
  {
   "cell_type": "code",
   "execution_count": 31,
   "id": "initial_id",
   "metadata": {
    "collapsed": true,
    "ExecuteTime": {
     "end_time": "2024-02-10T21:30:39.410234694Z",
     "start_time": "2024-02-10T21:30:39.257052379Z"
    }
   },
   "outputs": [],
   "source": [
    "import os\n",
    "import numpy as np\n",
    "import cv2\n",
    "from glob import glob\n",
    "import tensorflow as tf\n",
    "import matplotlib.pyplot as plt\n",
    "from sklearn.model_selection import train_test_split\n",
    "\n",
    "from tensorflow.keras.layers import (\n",
    "    Conv2D, Activation, BatchNormalization,\n",
    "    UpSampling2D, Input, Concatenate\n",
    ")\n",
    "from tensorflow.keras.models import Model\n",
    "from tensorflow.keras.applications import MobileNet, MobileNetV3Small\n",
    "from tensorflow.keras.callbacks import EarlyStopping, ReduceLROnPlateau\n",
    "from tensorflow.keras.metrics import Recall, Precision\n",
    "from tensorflow.keras import backend as K"
   ]
  },
  {
   "cell_type": "code",
   "execution_count": 32,
   "outputs": [],
   "source": [
    "tf.keras.backend.clear_session()"
   ],
   "metadata": {
    "collapsed": false,
    "ExecuteTime": {
     "end_time": "2024-02-10T21:30:39.477349432Z",
     "start_time": "2024-02-10T21:30:39.416343831Z"
    }
   },
   "id": "d00d57e2072808b4"
  },
  {
   "cell_type": "code",
   "execution_count": 33,
   "outputs": [],
   "source": [
    "np.random.seed(42)\n",
    "tf.random.set_seed(42)"
   ],
   "metadata": {
    "collapsed": false,
    "ExecuteTime": {
     "end_time": "2024-02-10T21:30:39.491814879Z",
     "start_time": "2024-02-10T21:30:39.439312330Z"
    }
   },
   "id": "dbfbd5e8e9469f86"
  },
  {
   "cell_type": "markdown",
   "source": [
    "# Hyperparameters"
   ],
   "metadata": {
    "collapsed": false
   },
   "id": "48477fc8a27fed1"
  },
  {
   "cell_type": "code",
   "execution_count": 34,
   "outputs": [],
   "source": [
    "IMAGE_SIZE = 256\n",
    "EPOCHS = 100\n",
    "BATCH_SIZE = 8\n",
    "LR = 1e-4\n",
    "\n",
    "PATH = \".\""
   ],
   "metadata": {
    "collapsed": false,
    "ExecuteTime": {
     "end_time": "2024-02-10T21:30:39.521862228Z",
     "start_time": "2024-02-10T21:30:39.477846760Z"
    }
   },
   "id": "e0c60d4790f2ae1d"
  },
  {
   "cell_type": "markdown",
   "source": [
    "# Dataset"
   ],
   "metadata": {
    "collapsed": false
   },
   "id": "a2fac62a7d1dab17"
  },
  {
   "cell_type": "code",
   "execution_count": 35,
   "outputs": [],
   "source": [
    "def load_data(path, split=0.1):\n",
    "    images = sorted(glob(os.path.join(path, \"images/*\")))\n",
    "    masks = sorted(glob(os.path.join(path, \"masks/*\")))\n",
    "    \n",
    "    total_size = len(images)\n",
    "    valid_size = int(total_size * split)\n",
    "    test_size = int(total_size * split)\n",
    "    \n",
    "    train_x, valid_x = train_test_split(images, test_size=valid_size, random_state=42)\n",
    "    train_y, valid_y = train_test_split(masks, test_size=valid_size, random_state=42)\n",
    "    \n",
    "    train_x, test_x = train_test_split(train_x, test_size=test_size, random_state=42)\n",
    "    train_y, test_y = train_test_split(train_y, test_size=test_size, random_state=42)\n",
    "    \n",
    "    return (train_x, train_y), (valid_x, valid_y), (test_x, test_y)"
   ],
   "metadata": {
    "collapsed": false,
    "ExecuteTime": {
     "end_time": "2024-02-10T21:30:39.569224949Z",
     "start_time": "2024-02-10T21:30:39.518710605Z"
    }
   },
   "id": "e3658b173ee7b0ba"
  },
  {
   "cell_type": "code",
   "execution_count": 36,
   "outputs": [],
   "source": [
    "def read_image(path):\n",
    "    path = path.decode()\n",
    "    x = cv2.imread(path, cv2.IMREAD_COLOR)\n",
    "    x = cv2.resize(x, (IMAGE_SIZE, IMAGE_SIZE))\n",
    "    x = x / 255.0\n",
    "    \n",
    "    return x\n",
    "\n",
    "def read_mask(path):\n",
    "    path = path.decode()\n",
    "    x = cv2.imread(path, cv2.IMREAD_GRAYSCALE)\n",
    "    x = cv2.resize(x, (IMAGE_SIZE, IMAGE_SIZE))\n",
    "    x = x / 255.0\n",
    "    x = np.expand_dims(x, axis=-1)\n",
    "    \n",
    "    return x"
   ],
   "metadata": {
    "collapsed": false,
    "ExecuteTime": {
     "end_time": "2024-02-10T21:30:39.593527936Z",
     "start_time": "2024-02-10T21:30:39.530554562Z"
    }
   },
   "id": "2d9f7293746a5822"
  },
  {
   "cell_type": "markdown",
   "source": [
    "## Building the tf.data pipeline"
   ],
   "metadata": {
    "collapsed": false
   },
   "id": "d6e57e781fac350c"
  },
  {
   "cell_type": "code",
   "execution_count": 37,
   "outputs": [],
   "source": [
    "def tf_parse(x, y):\n",
    "    def _parse(x, y):\n",
    "        x = read_image(x)\n",
    "        y = read_mask(y)\n",
    "        \n",
    "        return x, y\n",
    "    \n",
    "    x, y = tf.numpy_function(_parse, [x, y], [tf.float64, tf.float64])\n",
    "    x.set_shape([IMAGE_SIZE, IMAGE_SIZE, 3])\n",
    "    y.set_shape([IMAGE_SIZE, IMAGE_SIZE, 1])\n",
    "    \n",
    "    return x, y\n",
    "\n",
    "\n",
    "def tf_dataset(x, y, batch=BATCH_SIZE):\n",
    "    dataset = tf.data.Dataset.from_tensor_slices((x, y))\n",
    "    dataset = dataset.map(tf_parse)\n",
    "    dataset = dataset.batch(batch)\n",
    "    dataset = dataset.repeat()\n",
    "    \n",
    "    return dataset"
   ],
   "metadata": {
    "collapsed": false,
    "ExecuteTime": {
     "end_time": "2024-02-10T21:30:39.726145662Z",
     "start_time": "2024-02-10T21:30:39.589168647Z"
    }
   },
   "id": "72ca9871e6bced21"
  },
  {
   "cell_type": "code",
   "execution_count": 38,
   "outputs": [
    {
     "name": "stdout",
     "output_type": "stream",
     "text": [
      "Training data:  264\n",
      "Validation data:  33\n",
      "Testing data:  33\n"
     ]
    }
   ],
   "source": [
    "(train_x, train_y), (valid_x, valid_y), (test_x, test_y) = load_data(PATH)\n",
    "\n",
    "print(\"Training data: \", len(train_x))\n",
    "print(\"Validation data: \", len(valid_x))\n",
    "print(\"Testing data: \", len(test_x))"
   ],
   "metadata": {
    "collapsed": false,
    "ExecuteTime": {
     "end_time": "2024-02-10T21:30:39.727660199Z",
     "start_time": "2024-02-10T21:30:39.685660783Z"
    }
   },
   "id": "cdde467ec76a7134"
  },
  {
   "cell_type": "code",
   "execution_count": 39,
   "outputs": [],
   "source": [
    "def read_and_rgb(x):\n",
    "    x = cv2.imread(x)\n",
    "    x = cv2.cvtColor(x, cv2.COLOR_BGR2RGB)\n",
    "    \n",
    "    return x"
   ],
   "metadata": {
    "collapsed": false,
    "ExecuteTime": {
     "end_time": "2024-02-10T21:30:39.747034985Z",
     "start_time": "2024-02-10T21:30:39.716896894Z"
    }
   },
   "id": "92969583039193eb"
  },
  {
   "cell_type": "markdown",
   "source": [
    "# Model"
   ],
   "metadata": {
    "collapsed": false
   },
   "id": "f42b0cda2708f956"
  },
  {
   "cell_type": "code",
   "execution_count": 40,
   "outputs": [],
   "source": [
    "#inputs = Input(shape=(IMAGE_SIZE, IMAGE_SIZE, 3), name=\"input_image\")\n",
    "#encoder = MobileNetV2(input_tensor=inputs, weights=\"imagenet\", include_top=False, alpha=0.35)"
   ],
   "metadata": {
    "collapsed": false,
    "ExecuteTime": {
     "end_time": "2024-02-10T21:30:39.803055139Z",
     "start_time": "2024-02-10T21:30:39.737722585Z"
    }
   },
   "id": "4033d33220a87da0"
  },
  {
   "cell_type": "code",
   "execution_count": 41,
   "outputs": [],
   "source": [
    "#encoder.summary()"
   ],
   "metadata": {
    "collapsed": false,
    "ExecuteTime": {
     "end_time": "2024-02-10T21:30:39.851777386Z",
     "start_time": "2024-02-10T21:30:39.789049296Z"
    }
   },
   "id": "a581d2c76ed42dac"
  },
  {
   "cell_type": "code",
   "execution_count": 42,
   "outputs": [],
   "source": [
    "#inputs = Input(shape=(IMAGE_SIZE, IMAGE_SIZE, 3), name=\"input_image\")\n",
    "#encoder2 = MobileNetV3Large(input_tensor=inputs, weights='imagenet', include_top=False, alpha=1)"
   ],
   "metadata": {
    "collapsed": false,
    "ExecuteTime": {
     "end_time": "2024-02-10T21:30:39.874404528Z",
     "start_time": "2024-02-10T21:30:39.850617161Z"
    }
   },
   "id": "30664b637187b4d0"
  },
  {
   "cell_type": "code",
   "execution_count": 43,
   "outputs": [],
   "source": [
    "#encoder2.summary()"
   ],
   "metadata": {
    "collapsed": false,
    "ExecuteTime": {
     "end_time": "2024-02-10T21:30:39.925438261Z",
     "start_time": "2024-02-10T21:30:39.859232041Z"
    }
   },
   "id": "c31747234eb773a8"
  },
  {
   "cell_type": "code",
   "execution_count": 44,
   "outputs": [],
   "source": [
    "def model():\n",
    "    inputs = Input(shape=(IMAGE_SIZE, IMAGE_SIZE, 3), name=\"input_image\")\n",
    "\n",
    "    encoder = MobileNetV3Small(input_tensor=inputs, weights='imagenet', include_top=False, alpha=1)\n",
    "    # skip_connection_names = [\"input_image\", \"block_1_expand_relu\", \"block_3_expand_relu\", \"block_6_expand_relu\"]\n",
    "    skip_connection_names = [\"input_image\", \"re_lu_2\", \"re_lu_6\", \"multiply_1\", \"multiply_13\"]\n",
    "    encoder_output = encoder.get_layer(\"multiply_19\").output\n",
    "    #skip_connection_names = [\"input_image\", \"re_lu\", \"re_lu_3\", \"re_lu_7\"]\n",
    "    #encoder_output = encoder.get_layer(\"re_lu_16\").output\n",
    "\n",
    "    f = [16, 32, 48, 64, 80]\n",
    "    x = encoder_output\n",
    "    for i in range(1, len(skip_connection_names)+1, 1):\n",
    "        x_skip = encoder.get_layer(skip_connection_names[-i]).output\n",
    "        x = UpSampling2D((2, 2))(x)\n",
    "        x = Concatenate()([x, x_skip])\n",
    "\n",
    "        x = Conv2D(f[-i], (3, 3), padding=\"same\")(x)\n",
    "        x = BatchNormalization()(x)\n",
    "        x = Activation(\"relu\")(x)\n",
    "\n",
    "        x = Conv2D(f[-i], (3, 3), padding=\"same\")(x)\n",
    "        x = BatchNormalization()(x)\n",
    "        x = Activation(\"relu\")(x)\n",
    "\n",
    "    x = Conv2D(1, (1, 1), padding=\"same\")(x)\n",
    "    x = Activation(\"sigmoid\")(x)\n",
    "\n",
    "    model = Model(inputs, x)\n",
    "    return model"
   ],
   "metadata": {
    "collapsed": false,
    "ExecuteTime": {
     "end_time": "2024-02-10T21:30:39.948614240Z",
     "start_time": "2024-02-10T21:30:39.918693468Z"
    }
   },
   "id": "7cb7ab97cdc88a24"
  },
  {
   "cell_type": "code",
   "execution_count": 45,
   "outputs": [
    {
     "name": "stdout",
     "output_type": "stream",
     "text": [
      "WARNING:tensorflow:`input_shape` is undefined or non-square, or `rows` is not 224. Weights for input shape (224, 224) will be loaded as the default.\n"
     ]
    },
    {
     "ename": "KeyError",
     "evalue": "'small_224_1_float'",
     "output_type": "error",
     "traceback": [
      "\u001B[0;31m---------------------------------------------------------------------------\u001B[0m",
      "\u001B[0;31mKeyError\u001B[0m                                  Traceback (most recent call last)",
      "Cell \u001B[0;32mIn[45], line 1\u001B[0m\n\u001B[0;32m----> 1\u001B[0m model \u001B[38;5;241m=\u001B[39m \u001B[43mmodel\u001B[49m\u001B[43m(\u001B[49m\u001B[43m)\u001B[49m\n\u001B[1;32m      2\u001B[0m model\u001B[38;5;241m.\u001B[39msummary()\n",
      "Cell \u001B[0;32mIn[44], line 4\u001B[0m, in \u001B[0;36mmodel\u001B[0;34m()\u001B[0m\n\u001B[1;32m      1\u001B[0m \u001B[38;5;28;01mdef\u001B[39;00m \u001B[38;5;21mmodel\u001B[39m():\n\u001B[1;32m      2\u001B[0m     inputs \u001B[38;5;241m=\u001B[39m Input(shape\u001B[38;5;241m=\u001B[39m(IMAGE_SIZE, IMAGE_SIZE, \u001B[38;5;241m3\u001B[39m), name\u001B[38;5;241m=\u001B[39m\u001B[38;5;124m\"\u001B[39m\u001B[38;5;124minput_image\u001B[39m\u001B[38;5;124m\"\u001B[39m)\n\u001B[0;32m----> 4\u001B[0m     encoder \u001B[38;5;241m=\u001B[39m \u001B[43mMobileNetV3Small\u001B[49m\u001B[43m(\u001B[49m\u001B[43minput_tensor\u001B[49m\u001B[38;5;241;43m=\u001B[39;49m\u001B[43minputs\u001B[49m\u001B[43m,\u001B[49m\u001B[43m \u001B[49m\u001B[43mweights\u001B[49m\u001B[38;5;241;43m=\u001B[39;49m\u001B[38;5;124;43m'\u001B[39;49m\u001B[38;5;124;43mimagenet\u001B[39;49m\u001B[38;5;124;43m'\u001B[39;49m\u001B[43m,\u001B[49m\u001B[43m \u001B[49m\u001B[43minclude_top\u001B[49m\u001B[38;5;241;43m=\u001B[39;49m\u001B[38;5;28;43;01mFalse\u001B[39;49;00m\u001B[43m,\u001B[49m\u001B[43m \u001B[49m\u001B[43malpha\u001B[49m\u001B[38;5;241;43m=\u001B[39;49m\u001B[38;5;241;43m1\u001B[39;49m\u001B[43m)\u001B[49m\n\u001B[1;32m      5\u001B[0m     \u001B[38;5;66;03m# skip_connection_names = [\"input_image\", \"block_1_expand_relu\", \"block_3_expand_relu\", \"block_6_expand_relu\"]\u001B[39;00m\n\u001B[1;32m      6\u001B[0m     skip_connection_names \u001B[38;5;241m=\u001B[39m [\u001B[38;5;124m\"\u001B[39m\u001B[38;5;124minput_image\u001B[39m\u001B[38;5;124m\"\u001B[39m, \u001B[38;5;124m\"\u001B[39m\u001B[38;5;124mre_lu_2\u001B[39m\u001B[38;5;124m\"\u001B[39m, \u001B[38;5;124m\"\u001B[39m\u001B[38;5;124mre_lu_6\u001B[39m\u001B[38;5;124m\"\u001B[39m, \u001B[38;5;124m\"\u001B[39m\u001B[38;5;124mmultiply_1\u001B[39m\u001B[38;5;124m\"\u001B[39m, \u001B[38;5;124m\"\u001B[39m\u001B[38;5;124mmultiply_13\u001B[39m\u001B[38;5;124m\"\u001B[39m]\n",
      "File \u001B[0;32m~/PycharmProjects/NeuroCovid-Classification/NeuroCovid/lib/python3.11/site-packages/keras/src/applications/mobilenet_v3.py:468\u001B[0m, in \u001B[0;36mMobileNetV3Small\u001B[0;34m(input_shape, alpha, minimalistic, include_top, weights, input_tensor, classes, pooling, dropout_rate, classifier_activation, include_preprocessing)\u001B[0m\n\u001B[1;32m    463\u001B[0m     x \u001B[38;5;241m=\u001B[39m _inverted_res_block(\n\u001B[1;32m    464\u001B[0m         x, \u001B[38;5;241m6\u001B[39m, depth(\u001B[38;5;241m96\u001B[39m), kernel, \u001B[38;5;241m1\u001B[39m, se_ratio, activation, \u001B[38;5;241m10\u001B[39m\n\u001B[1;32m    465\u001B[0m     )\n\u001B[1;32m    466\u001B[0m     \u001B[38;5;28;01mreturn\u001B[39;00m x\n\u001B[0;32m--> 468\u001B[0m \u001B[38;5;28;01mreturn\u001B[39;00m \u001B[43mMobileNetV3\u001B[49m\u001B[43m(\u001B[49m\n\u001B[1;32m    469\u001B[0m \u001B[43m    \u001B[49m\u001B[43mstack_fn\u001B[49m\u001B[43m,\u001B[49m\n\u001B[1;32m    470\u001B[0m \u001B[43m    \u001B[49m\u001B[38;5;241;43m1024\u001B[39;49m\u001B[43m,\u001B[49m\n\u001B[1;32m    471\u001B[0m \u001B[43m    \u001B[49m\u001B[43minput_shape\u001B[49m\u001B[43m,\u001B[49m\n\u001B[1;32m    472\u001B[0m \u001B[43m    \u001B[49m\u001B[43malpha\u001B[49m\u001B[43m,\u001B[49m\n\u001B[1;32m    473\u001B[0m \u001B[43m    \u001B[49m\u001B[38;5;124;43m\"\u001B[39;49m\u001B[38;5;124;43msmall\u001B[39;49m\u001B[38;5;124;43m\"\u001B[39;49m\u001B[43m,\u001B[49m\n\u001B[1;32m    474\u001B[0m \u001B[43m    \u001B[49m\u001B[43mminimalistic\u001B[49m\u001B[43m,\u001B[49m\n\u001B[1;32m    475\u001B[0m \u001B[43m    \u001B[49m\u001B[43minclude_top\u001B[49m\u001B[43m,\u001B[49m\n\u001B[1;32m    476\u001B[0m \u001B[43m    \u001B[49m\u001B[43mweights\u001B[49m\u001B[43m,\u001B[49m\n\u001B[1;32m    477\u001B[0m \u001B[43m    \u001B[49m\u001B[43minput_tensor\u001B[49m\u001B[43m,\u001B[49m\n\u001B[1;32m    478\u001B[0m \u001B[43m    \u001B[49m\u001B[43mclasses\u001B[49m\u001B[43m,\u001B[49m\n\u001B[1;32m    479\u001B[0m \u001B[43m    \u001B[49m\u001B[43mpooling\u001B[49m\u001B[43m,\u001B[49m\n\u001B[1;32m    480\u001B[0m \u001B[43m    \u001B[49m\u001B[43mdropout_rate\u001B[49m\u001B[43m,\u001B[49m\n\u001B[1;32m    481\u001B[0m \u001B[43m    \u001B[49m\u001B[43mclassifier_activation\u001B[49m\u001B[43m,\u001B[49m\n\u001B[1;32m    482\u001B[0m \u001B[43m    \u001B[49m\u001B[43minclude_preprocessing\u001B[49m\u001B[43m,\u001B[49m\n\u001B[1;32m    483\u001B[0m \u001B[43m\u001B[49m\u001B[43m)\u001B[49m\n",
      "File \u001B[0;32m~/PycharmProjects/NeuroCovid-Classification/NeuroCovid/lib/python3.11/site-packages/keras/src/applications/mobilenet_v3.py:407\u001B[0m, in \u001B[0;36mMobileNetV3\u001B[0;34m(stack_fn, last_point_ch, input_shape, alpha, model_type, minimalistic, include_top, weights, input_tensor, classes, pooling, dropout_rate, classifier_activation, include_preprocessing)\u001B[0m\n\u001B[1;32m    405\u001B[0m \u001B[38;5;28;01melse\u001B[39;00m:\n\u001B[1;32m    406\u001B[0m     file_name \u001B[38;5;241m=\u001B[39m \u001B[38;5;124m\"\u001B[39m\u001B[38;5;124mweights_mobilenet_v3_\u001B[39m\u001B[38;5;124m\"\u001B[39m \u001B[38;5;241m+\u001B[39m model_name \u001B[38;5;241m+\u001B[39m \u001B[38;5;124m\"\u001B[39m\u001B[38;5;124m_no_top_v2.h5\u001B[39m\u001B[38;5;124m\"\u001B[39m\n\u001B[0;32m--> 407\u001B[0m     file_hash \u001B[38;5;241m=\u001B[39m \u001B[43mWEIGHTS_HASHES\u001B[49m\u001B[43m[\u001B[49m\u001B[43mmodel_name\u001B[49m\u001B[43m]\u001B[49m[\u001B[38;5;241m1\u001B[39m]\n\u001B[1;32m    408\u001B[0m weights_path \u001B[38;5;241m=\u001B[39m data_utils\u001B[38;5;241m.\u001B[39mget_file(\n\u001B[1;32m    409\u001B[0m     file_name,\n\u001B[1;32m    410\u001B[0m     BASE_WEIGHT_PATH \u001B[38;5;241m+\u001B[39m file_name,\n\u001B[1;32m    411\u001B[0m     cache_subdir\u001B[38;5;241m=\u001B[39m\u001B[38;5;124m\"\u001B[39m\u001B[38;5;124mmodels\u001B[39m\u001B[38;5;124m\"\u001B[39m,\n\u001B[1;32m    412\u001B[0m     file_hash\u001B[38;5;241m=\u001B[39mfile_hash,\n\u001B[1;32m    413\u001B[0m )\n\u001B[1;32m    414\u001B[0m model\u001B[38;5;241m.\u001B[39mload_weights(weights_path)\n",
      "\u001B[0;31mKeyError\u001B[0m: 'small_224_1_float'"
     ]
    }
   ],
   "source": [
    "model = model()\n",
    "model.summary()"
   ],
   "metadata": {
    "collapsed": false,
    "ExecuteTime": {
     "end_time": "2024-02-10T21:30:42.373996483Z",
     "start_time": "2024-02-10T21:30:39.938748343Z"
    }
   },
   "id": "835814936f8685a0"
  },
  {
   "cell_type": "markdown",
   "source": [
    "# Metrics"
   ],
   "metadata": {
    "collapsed": false
   },
   "id": "e477381f9326821b"
  },
  {
   "cell_type": "code",
   "execution_count": null,
   "outputs": [],
   "source": [
    "smooth = 1e-15\n",
    "\n",
    "def dice_coef(y_true, y_pred):\n",
    "    y_true = tf.keras.layers.Flatten()(y_true)\n",
    "    y_pred = tf.keras.layers.Flatten()(y_pred)\n",
    "    intersection = tf.reduce_sum(y_true * y_pred)\n",
    "    return (2. * intersection + smooth) / (tf.reduce_sum(y_true) + tf.reduce_sum(y_pred) + smooth)\n",
    "\n",
    "def dice_loss(y_true, y_pred):\n",
    "    return 1.0 - dice_coef(y_true, y_pred)"
   ],
   "metadata": {
    "collapsed": false,
    "ExecuteTime": {
     "start_time": "2024-02-10T21:30:42.370992419Z"
    }
   },
   "id": "693fa3d44ec5f402"
  },
  {
   "cell_type": "markdown",
   "source": [
    "# Training"
   ],
   "metadata": {
    "collapsed": false
   },
   "id": "eb633d1685b61d74"
  },
  {
   "cell_type": "code",
   "execution_count": null,
   "outputs": [],
   "source": [
    "train_dataset = tf_dataset(train_x, train_y, batch=BATCH_SIZE)\n",
    "valid_dataset = tf_dataset(valid_x, valid_y, batch=BATCH_SIZE)"
   ],
   "metadata": {
    "collapsed": false,
    "ExecuteTime": {
     "start_time": "2024-02-10T21:30:42.372867881Z"
    }
   },
   "id": "80b3964a5e0b917f"
  },
  {
   "cell_type": "code",
   "execution_count": null,
   "outputs": [],
   "source": [
    "opt = tf.keras.optimizers.Nadam(LR)\n",
    "metrics = [dice_coef, Recall(), Precision()]\n",
    "model.compile(loss=dice_loss, optimizer=opt, metrics=metrics)"
   ],
   "metadata": {
    "collapsed": false,
    "ExecuteTime": {
     "start_time": "2024-02-10T21:30:42.377923864Z"
    }
   },
   "id": "d1b02cd3cfe49d6d"
  },
  {
   "cell_type": "code",
   "execution_count": null,
   "outputs": [],
   "source": [
    "callbacks = [\n",
    "    ReduceLROnPlateau(monitor='val_loss', factor=0.1, patience=4),\n",
    "    EarlyStopping(monitor='val_loss', patience=10, restore_best_weights=True)\n",
    "]"
   ],
   "metadata": {
    "collapsed": false,
    "ExecuteTime": {
     "end_time": "2024-02-10T21:30:42.408858876Z",
     "start_time": "2024-02-10T21:30:42.383054273Z"
    }
   },
   "id": "838e3b59a1664270"
  },
  {
   "cell_type": "code",
   "execution_count": null,
   "outputs": [],
   "source": [
    "train_steps = len(train_x) // BATCH_SIZE\n",
    "valid_steps = len(valid_x) // BATCH_SIZE\n",
    "\n",
    "if len(train_x) % BATCH_SIZE != 0:\n",
    "    train_steps += 1\n",
    "if len(valid_x) % BATCH_SIZE != 0:\n",
    "    valid_steps += 1\n",
    "    \n",
    "model.fit(\n",
    "    train_dataset,\n",
    "    validation_data=valid_dataset,\n",
    "    epochs=EPOCHS,\n",
    "    steps_per_epoch=train_steps,\n",
    "    validation_steps=valid_steps,\n",
    "    callbacks=callbacks\n",
    ")"
   ],
   "metadata": {
    "collapsed": false,
    "ExecuteTime": {
     "start_time": "2024-02-10T21:30:42.388257760Z"
    }
   },
   "id": "73083239f48d587d"
  },
  {
   "cell_type": "code",
   "execution_count": null,
   "outputs": [],
   "source": [
    "test_dataset = tf_dataset(test_x, test_y, batch=BATCH_SIZE)\n",
    "\n",
    "test_steps = len(test_x) // BATCH_SIZE\n",
    "if len(test_x) % BATCH_SIZE != 0:\n",
    "    test_steps += 1\n",
    "    \n",
    "model.evaluate(test_dataset, steps=test_steps)"
   ],
   "metadata": {
    "collapsed": false,
    "ExecuteTime": {
     "start_time": "2024-02-10T21:30:42.392515384Z"
    }
   },
   "id": "532b0056c5b5b13a"
  },
  {
   "cell_type": "markdown",
   "source": [
    "# Results"
   ],
   "metadata": {
    "collapsed": false
   },
   "id": "3359fe5102296faf"
  },
  {
   "cell_type": "code",
   "execution_count": null,
   "outputs": [],
   "source": [
    "def read_image(path):\n",
    "    x = cv2.imread(path, cv2.IMREAD_COLOR)\n",
    "    x = cv2.cvtColor(x, cv2.COLOR_BGR2RGB)\n",
    "    x = cv2.resize(x, (IMAGE_SIZE, IMAGE_SIZE))\n",
    "    x = x/255.0\n",
    "    return x\n",
    "\n",
    "def read_mask(path):\n",
    "    x = cv2.imread(path, cv2.IMREAD_GRAYSCALE)\n",
    "    x = cv2.resize(x, (IMAGE_SIZE, IMAGE_SIZE))\n",
    "    x = np.expand_dims(x, axis=-1)\n",
    "    x = x/255.0\n",
    "    return x"
   ],
   "metadata": {
    "collapsed": false,
    "ExecuteTime": {
     "start_time": "2024-02-10T21:30:42.422197827Z"
    }
   },
   "id": "a4757b8538aeb982"
  },
  {
   "cell_type": "code",
   "execution_count": null,
   "outputs": [],
   "source": [
    "def mask_parse(mask):\n",
    "    mask = np.squeeze(mask)\n",
    "    mask = [mask, mask, mask]\n",
    "    mask = np.transpose(mask, (1, 2, 0))\n",
    "    return mask"
   ],
   "metadata": {
    "collapsed": false,
    "ExecuteTime": {
     "start_time": "2024-02-10T21:30:42.422527118Z"
    }
   },
   "id": "b418951e4678a6fa"
  },
  {
   "cell_type": "code",
   "execution_count": null,
   "outputs": [],
   "source": [
    "for i, (x, y) in enumerate(zip(test_x[:10], test_y[:10])):\n",
    "    x = read_image(x)\n",
    "    y = read_mask(y)\n",
    "    y_pred = model.predict(np.expand_dims(x, axis=0))[0] > 0.5\n",
    "    h, w, _ = x.shape\n",
    "    white_line = np.ones((h, 10, 3))\n",
    "\n",
    "    all_images = [\n",
    "        x, white_line,\n",
    "        mask_parse(y), white_line,\n",
    "        mask_parse(y_pred)\n",
    "    ]\n",
    "    image = np.concatenate(all_images, axis=1)\n",
    "\n",
    "    fig = plt.figure(figsize=(12, 12))\n",
    "    a = fig.add_subplot(1, 1, 1)\n",
    "    imgplot = plt.imshow(image)"
   ],
   "metadata": {
    "collapsed": false,
    "ExecuteTime": {
     "start_time": "2024-02-10T21:30:42.422763508Z"
    }
   },
   "id": "48d8ea77a1967bc0"
  },
  {
   "cell_type": "code",
   "execution_count": null,
   "outputs": [],
   "source": [],
   "metadata": {
    "collapsed": false,
    "ExecuteTime": {
     "start_time": "2024-02-10T21:30:42.422967748Z"
    }
   },
   "id": "1e1271395f6054f6"
  }
 ],
 "metadata": {
  "kernelspec": {
   "display_name": "Python 3",
   "language": "python",
   "name": "python3"
  },
  "language_info": {
   "codemirror_mode": {
    "name": "ipython",
    "version": 2
   },
   "file_extension": ".py",
   "mimetype": "text/x-python",
   "name": "python",
   "nbconvert_exporter": "python",
   "pygments_lexer": "ipython2",
   "version": "2.7.6"
  }
 },
 "nbformat": 4,
 "nbformat_minor": 5
}
