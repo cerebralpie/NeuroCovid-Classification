{
 "cells": [
  {
   "cell_type": "code",
   "execution_count": 1,
   "id": "initial_id",
   "metadata": {
    "collapsed": true,
    "ExecuteTime": {
     "end_time": "2024-02-08T19:54:58.114904892Z",
     "start_time": "2024-02-08T19:54:54.513044427Z"
    }
   },
   "outputs": [
    {
     "name": "stderr",
     "output_type": "stream",
     "text": [
      "2024-02-08 16:54:54.996190: E external/local_xla/xla/stream_executor/cuda/cuda_dnn.cc:9261] Unable to register cuDNN factory: Attempting to register factory for plugin cuDNN when one has already been registered\n",
      "2024-02-08 16:54:54.996232: E external/local_xla/xla/stream_executor/cuda/cuda_fft.cc:607] Unable to register cuFFT factory: Attempting to register factory for plugin cuFFT when one has already been registered\n",
      "2024-02-08 16:54:54.997604: E external/local_xla/xla/stream_executor/cuda/cuda_blas.cc:1515] Unable to register cuBLAS factory: Attempting to register factory for plugin cuBLAS when one has already been registered\n",
      "2024-02-08 16:54:55.006703: I tensorflow/core/platform/cpu_feature_guard.cc:182] This TensorFlow binary is optimized to use available CPU instructions in performance-critical operations.\n",
      "To enable the following instructions: AVX2 FMA, in other operations, rebuild TensorFlow with the appropriate compiler flags.\n",
      "2024-02-08 16:54:56.191008: W tensorflow/compiler/tf2tensorrt/utils/py_utils.cc:38] TF-TRT Warning: Could not find TensorRT\n"
     ]
    },
    {
     "name": "stdout",
     "output_type": "stream",
     "text": [
      "-----------------------------------------\n",
      "keras-unet init: TF version is >= 2.0.0 - using `tf.keras` instead of `Keras`\n",
      "-----------------------------------------\n"
     ]
    }
   ],
   "source": [
    "import tensorflow as tf\n",
    "import numpy as np\n",
    "from pathlib import Path\n",
    "\n",
    "from tensorflow.keras import layers\n",
    "from tensorflow.keras.applications import VGG19\n",
    "from tensorflow.keras.callbacks import EarlyStopping, ModelCheckpoint\n",
    "from tensorflow.keras.losses import BinaryCrossentropy\n",
    "from tensorflow.keras.metrics import MeanIoU\n",
    "from tensorflow.keras.models import Model\n",
    "\n",
    "import src.utils as nc_utils\n",
    "import src.metrics as nc_metrics"
   ]
  },
  {
   "cell_type": "code",
   "outputs": [],
   "source": [
    "def dice_coef(y_true, y_pred, smooth=1e-4):\n",
    "    y_true = layers.Flatten()(y_true)\n",
    "    y_pred = layers.Flatten()(y_pred)\n",
    "    intersection = tf.reduce_sum(y_true * y_pred)\n",
    "    return (2. * intersection + smooth) / (tf.reduce_sum(y_true) + tf.reduce_sum(y_pred) + smooth)"
   ],
   "metadata": {
    "collapsed": false
   },
   "id": "d7b223bbfa1aba60"
  },
  {
   "cell_type": "code",
   "outputs": [
    {
     "name": "stderr",
     "output_type": "stream",
     "text": [
      "2024-02-08 16:54:58.166471: I external/local_xla/xla/stream_executor/cuda/cuda_executor.cc:901] successful NUMA node read from SysFS had negative value (-1), but there must be at least one NUMA node, so returning NUMA node zero. See more at https://github.com/torvalds/linux/blob/v6.0/Documentation/ABI/testing/sysfs-bus-pci#L344-L355\n",
      "2024-02-08 16:54:58.214745: I external/local_xla/xla/stream_executor/cuda/cuda_executor.cc:901] successful NUMA node read from SysFS had negative value (-1), but there must be at least one NUMA node, so returning NUMA node zero. See more at https://github.com/torvalds/linux/blob/v6.0/Documentation/ABI/testing/sysfs-bus-pci#L344-L355\n",
      "2024-02-08 16:54:58.215011: I external/local_xla/xla/stream_executor/cuda/cuda_executor.cc:901] successful NUMA node read from SysFS had negative value (-1), but there must be at least one NUMA node, so returning NUMA node zero. See more at https://github.com/torvalds/linux/blob/v6.0/Documentation/ABI/testing/sysfs-bus-pci#L344-L355\n",
      "2024-02-08 16:54:58.216001: I external/local_xla/xla/stream_executor/cuda/cuda_executor.cc:901] successful NUMA node read from SysFS had negative value (-1), but there must be at least one NUMA node, so returning NUMA node zero. See more at https://github.com/torvalds/linux/blob/v6.0/Documentation/ABI/testing/sysfs-bus-pci#L344-L355\n",
      "2024-02-08 16:54:58.216272: I external/local_xla/xla/stream_executor/cuda/cuda_executor.cc:901] successful NUMA node read from SysFS had negative value (-1), but there must be at least one NUMA node, so returning NUMA node zero. See more at https://github.com/torvalds/linux/blob/v6.0/Documentation/ABI/testing/sysfs-bus-pci#L344-L355\n",
      "2024-02-08 16:54:58.216474: I external/local_xla/xla/stream_executor/cuda/cuda_executor.cc:901] successful NUMA node read from SysFS had negative value (-1), but there must be at least one NUMA node, so returning NUMA node zero. See more at https://github.com/torvalds/linux/blob/v6.0/Documentation/ABI/testing/sysfs-bus-pci#L344-L355\n",
      "2024-02-08 16:54:58.263091: I external/local_xla/xla/stream_executor/cuda/cuda_executor.cc:901] successful NUMA node read from SysFS had negative value (-1), but there must be at least one NUMA node, so returning NUMA node zero. See more at https://github.com/torvalds/linux/blob/v6.0/Documentation/ABI/testing/sysfs-bus-pci#L344-L355\n",
      "2024-02-08 16:54:58.263384: I external/local_xla/xla/stream_executor/cuda/cuda_executor.cc:901] successful NUMA node read from SysFS had negative value (-1), but there must be at least one NUMA node, so returning NUMA node zero. See more at https://github.com/torvalds/linux/blob/v6.0/Documentation/ABI/testing/sysfs-bus-pci#L344-L355\n",
      "2024-02-08 16:54:58.263602: I external/local_xla/xla/stream_executor/cuda/cuda_executor.cc:901] successful NUMA node read from SysFS had negative value (-1), but there must be at least one NUMA node, so returning NUMA node zero. See more at https://github.com/torvalds/linux/blob/v6.0/Documentation/ABI/testing/sysfs-bus-pci#L344-L355\n",
      "2024-02-08 16:54:58.263756: I tensorflow/core/common_runtime/gpu/gpu_device.cc:1929] Created device /job:localhost/replica:0/task:0/device:GPU:0 with 1475 MB memory:  -> device: 0, name: NVIDIA GeForce 920MX, pci bus id: 0000:01:00.0, compute capability: 5.0\n"
     ]
    }
   ],
   "source": [
    "strategy = nc_utils.start_session()"
   ],
   "metadata": {
    "collapsed": false,
    "ExecuteTime": {
     "end_time": "2024-02-08T19:54:58.269741279Z",
     "start_time": "2024-02-08T19:54:58.127583588Z"
    }
   },
   "id": "b3d5a7124a08a3eb",
   "execution_count": 3
  },
  {
   "cell_type": "code",
   "outputs": [],
   "source": [
    "np.random.seed(42)\n",
    "tf.random.set_seed(42)\n",
    "\n",
    "ROOT_DIR = Path(\".\")\n",
    "IMAGE_SIZE = 256\n",
    "IMAGE_SHAPE = (IMAGE_SIZE, IMAGE_SIZE)\n",
    "INPUT_SHAPE = (IMAGE_SIZE, IMAGE_SIZE, 3)\n",
    "BATCH_SIZE = 16\n",
    "LR = 1e-4\n",
    "EPOCHS = 300"
   ],
   "metadata": {
    "collapsed": false,
    "ExecuteTime": {
     "end_time": "2024-02-08T19:54:58.326929785Z",
     "start_time": "2024-02-08T19:54:58.274674730Z"
    }
   },
   "id": "4bd5cff88a88192d",
   "execution_count": 4
  },
  {
   "cell_type": "code",
   "outputs": [],
   "source": [
    "(x_train_paths, y_train_paths), (x_valid_paths, y_valid_paths), (x_test_paths,\n",
    " y_test_paths) = nc_utils.load_data(\n",
    "    data_root_directory=ROOT_DIR,\n",
    "    split=0.1\n",
    ")"
   ],
   "metadata": {
    "collapsed": false,
    "ExecuteTime": {
     "end_time": "2024-02-08T19:54:58.328212285Z",
     "start_time": "2024-02-08T19:54:58.319270747Z"
    }
   },
   "id": "4f7b706559569842",
   "execution_count": 5
  },
  {
   "cell_type": "code",
   "outputs": [],
   "source": [
    "train_dataset = nc_utils.get_tensorflow_dataset(\n",
    "    image_mask_paths=(x_train_paths, y_train_paths),\n",
    "    image_size=IMAGE_SIZE,\n",
    "    batch_size=BATCH_SIZE\n",
    ")"
   ],
   "metadata": {
    "collapsed": false,
    "ExecuteTime": {
     "end_time": "2024-02-08T19:54:58.502675392Z",
     "start_time": "2024-02-08T19:54:58.319861701Z"
    }
   },
   "id": "83845ce3601178d2",
   "execution_count": 7
  },
  {
   "cell_type": "code",
   "outputs": [],
   "source": [
    "validation_dataset = nc_utils.get_tensorflow_dataset(\n",
    "    image_mask_paths=(x_valid_paths, y_valid_paths),\n",
    "    image_size=IMAGE_SIZE,\n",
    "    batch_size=BATCH_SIZE\n",
    ")"
   ],
   "metadata": {
    "collapsed": false,
    "ExecuteTime": {
     "end_time": "2024-02-08T19:54:58.543900462Z",
     "start_time": "2024-02-08T19:54:58.498963233Z"
    }
   },
   "id": "a05ebaa91778ee8c",
   "execution_count": 8
  },
  {
   "cell_type": "code",
   "outputs": [],
   "source": [
    "test_dataset = nc_utils.get_tensorflow_dataset(\n",
    "    image_mask_paths=(x_test_paths, y_test_paths),\n",
    "    image_size=IMAGE_SIZE,\n",
    "    batch_size=BATCH_SIZE\n",
    ")"
   ],
   "metadata": {
    "collapsed": false,
    "ExecuteTime": {
     "end_time": "2024-02-08T19:54:58.559849035Z",
     "start_time": "2024-02-08T19:54:58.542659931Z"
    }
   },
   "id": "fc7998c55740ada2",
   "execution_count": 9
  },
  {
   "cell_type": "markdown",
   "source": [
    "# Model creation"
   ],
   "metadata": {
    "collapsed": false
   },
   "id": "e738b1a08f29a6af"
  },
  {
   "cell_type": "code",
   "outputs": [],
   "source": [
    "# Initiating mode on GPU\n",
    "with strategy.scope():\n",
    "    inputs = layers.Input(shape=(IMAGE_SIZE, IMAGE_SIZE, 3), name=\"input_image\")\n",
    "\n",
    "    encoder = VGG19(input_tensor=inputs, weights=\"imagenet\", include_top=False)\n",
    "    # skip_connection_names = [\"input_image\", \"block_1_expand_relu\", \"block_3_expand_relu\", \"block_6_expand_relu\"]\n",
    "    skip_connection_names = [\"input_image\", \"block1_pool\", \"block2_pool\", \"block3_pool\", \"block4_pool\"]\n",
    "    encoder_output = encoder.get_layer(\"block5_pool\").output\n",
    "    #skip_connection_names = [\"input_image\", \"re_lu\", \"re_lu_3\", \"re_lu_7\"]\n",
    "    #encoder_output = encoder.get_layer(\"re_lu_16\").output\n",
    "\n",
    "    f = [16, 32, 48, 64, 80]\n",
    "    x = encoder_output\n",
    "    for i in range(1, len(skip_connection_names)+1, 1):\n",
    "        x_skip = encoder.get_layer(skip_connection_names[-i]).output\n",
    "        x = layers.UpSampling2D((2, 2))(x)\n",
    "        x = layers.Concatenate()([x, x_skip])\n",
    "\n",
    "        x = layers.Conv2D(f[-i], (3, 3), padding=\"same\")(x)\n",
    "        x = layers.BatchNormalization()(x)\n",
    "        x = layers.Activation(\"relu\")(x)\n",
    "\n",
    "        x = layers.Conv2D(f[-i], (3, 3), padding=\"same\")(x)\n",
    "        x = layers.BatchNormalization()(x)\n",
    "        x = layers.Activation(\"relu\")(x)\n",
    "\n",
    "    x = layers.Conv2D(1, (1, 1), padding=\"same\")(x)\n",
    "    x = layers.Activation(\"sigmoid\")(x)\n",
    "\n",
    "    model = Model(inputs, x)"
   ],
   "metadata": {
    "collapsed": false,
    "ExecuteTime": {
     "end_time": "2024-02-08T19:54:59.620286949Z",
     "start_time": "2024-02-08T19:54:58.550379997Z"
    }
   },
   "id": "9f26010ac5b8ecd1",
   "execution_count": 10
  },
  {
   "cell_type": "code",
   "outputs": [],
   "source": [
    "model.compile(optimizer=tf.keras.optimizers.Nadam(LR),\n",
    "              loss=BinaryCrossentropy,\n",
    "              metrics=[nc_metrics.cdc, dice_coef, MeanIoU])"
   ],
   "metadata": {
    "collapsed": false,
    "ExecuteTime": {
     "end_time": "2024-02-08T19:54:59.663757566Z",
     "start_time": "2024-02-08T19:54:59.628664427Z"
    }
   },
   "id": "afc3f546be16eb03",
   "execution_count": 11
  },
  {
   "cell_type": "code",
   "outputs": [],
   "source": [
    "# Defining an Early Stopping and Model Checkpoints\n",
    "early_stopping = EarlyStopping(monitor = 'val_loss',\n",
    "                              patience = 5, mode = 'min',\n",
    "                              restore_best_weights = True)\n",
    "\n",
    "checkpoint = ModelCheckpoint('unet_best_model.h5',\n",
    "                            monitor = 'val_loss',\n",
    "                            save_best_only = True)"
   ],
   "metadata": {
    "collapsed": false,
    "ExecuteTime": {
     "end_time": "2024-02-08T19:54:59.664969927Z",
     "start_time": "2024-02-08T19:54:59.656802553Z"
    }
   },
   "id": "70506ce66f716340",
   "execution_count": 12
  },
  {
   "cell_type": "code",
   "outputs": [],
   "source": [
    "train_steps = len(x_train_paths) // BATCH_SIZE\n",
    "valid_steps = len(x_valid_paths) // BATCH_SIZE\n",
    "\n",
    "if len(x_train_paths) % BATCH_SIZE != 0:\n",
    "    train_steps += 1\n",
    "if len(x_valid_paths) % BATCH_SIZE != 0:\n",
    "    valid_steps += 1"
   ],
   "metadata": {
    "collapsed": false,
    "ExecuteTime": {
     "end_time": "2024-02-08T19:54:59.677740509Z",
     "start_time": "2024-02-08T19:54:59.666309237Z"
    }
   },
   "id": "52d08b2fb9dffae9",
   "execution_count": 13
  },
  {
   "cell_type": "code",
   "outputs": [
    {
     "name": "stdout",
     "output_type": "stream",
     "text": [
      "Epoch 1/30\n",
      "An error occurred: Graph execution error:\n",
      "\n",
      "Detected at node PyFunc defined at (most recent call last):\n",
      "<stack traces unavailable>\n",
      "FileNotFoundError: Image not found at path: b'images/tumor (159).png'\n",
      "Traceback (most recent call last):\n",
      "\n",
      "  File \"/home/leonardo/python_venvs/NeuroCovid-Classification-3-10/lib/python3.10/site-packages/tensorflow/python/ops/script_ops.py\", line 270, in __call__\n",
      "    ret = func(*args)\n",
      "\n",
      "  File \"/home/leonardo/python_venvs/NeuroCovid-Classification-3-10/lib/python3.10/site-packages/tensorflow/python/autograph/impl/api.py\", line 643, in wrapper\n",
      "    return func(*args, **kwargs)\n",
      "\n",
      "  File \"/tmp/__autograph_generated_fileiy6jxwlm.py\", line 37, in _read_and_process_image_and_mask\n",
      "    image_array = ag__.converted_call(ag__.ld(read_image), (), dict(image_path=ag__.ld(sub_image_path), image_shape=(ag__.ld(image_size), ag__.ld(image_size)), grayscale=False), fscope_1)\n",
      "\n",
      "  File \"/home/leonardo/python_venvs/NeuroCovid-Classification-3-10/lib/python3.10/site-packages/tensorflow/python/autograph/impl/api.py\", line 335, in converted_call\n",
      "    return _call_unconverted(f, args, kwargs, options, False)\n",
      "\n",
      "  File \"/home/leonardo/python_venvs/NeuroCovid-Classification-3-10/lib/python3.10/site-packages/tensorflow/python/autograph/impl/api.py\", line 459, in _call_unconverted\n",
      "    return f(*args, **kwargs)\n",
      "\n",
      "  File \"/home/leonardo/PycharmProjects/NeuroCovid-Classification/src/utils.py\", line 174, in read_image\n",
      "    raise FileNotFoundError(f\"Image not found at path: {path}\")\n",
      "\n",
      "FileNotFoundError: Image not found at path: b'images/tumor (159).png'\n",
      "\n",
      "\n",
      "\t [[{{node PyFunc}}]]\n",
      "\t [[MultiDeviceIteratorGetNextFromShard]]\n",
      "\t [[RemoteCall]]\n",
      "\t [[IteratorGetNext]] [Op:__inference_train_function_11726]\n"
     ]
    },
    {
     "name": "stderr",
     "output_type": "stream",
     "text": [
      "[ WARN:0@13.932] global loadsave.cpp:248 findDecoder imread_('b'images/tumor (159).png''): can't open/read file: check file path/integrity\n",
      "2024-02-08 16:55:11.672181: W tensorflow/core/framework/op_kernel.cc:1827] UNKNOWN: FileNotFoundError: Image not found at path: b'images/tumor (159).png'\n",
      "Traceback (most recent call last):\n",
      "\n",
      "  File \"/home/leonardo/python_venvs/NeuroCovid-Classification-3-10/lib/python3.10/site-packages/tensorflow/python/ops/script_ops.py\", line 270, in __call__\n",
      "    ret = func(*args)\n",
      "\n",
      "  File \"/home/leonardo/python_venvs/NeuroCovid-Classification-3-10/lib/python3.10/site-packages/tensorflow/python/autograph/impl/api.py\", line 643, in wrapper\n",
      "    return func(*args, **kwargs)\n",
      "\n",
      "  File \"/tmp/__autograph_generated_fileiy6jxwlm.py\", line 37, in _read_and_process_image_and_mask\n",
      "    image_array = ag__.converted_call(ag__.ld(read_image), (), dict(image_path=ag__.ld(sub_image_path), image_shape=(ag__.ld(image_size), ag__.ld(image_size)), grayscale=False), fscope_1)\n",
      "\n",
      "  File \"/home/leonardo/python_venvs/NeuroCovid-Classification-3-10/lib/python3.10/site-packages/tensorflow/python/autograph/impl/api.py\", line 335, in converted_call\n",
      "    return _call_unconverted(f, args, kwargs, options, False)\n",
      "\n",
      "  File \"/home/leonardo/python_venvs/NeuroCovid-Classification-3-10/lib/python3.10/site-packages/tensorflow/python/autograph/impl/api.py\", line 459, in _call_unconverted\n",
      "    return f(*args, **kwargs)\n",
      "\n",
      "  File \"/home/leonardo/PycharmProjects/NeuroCovid-Classification/src/utils.py\", line 174, in read_image\n",
      "    raise FileNotFoundError(f\"Image not found at path: {path}\")\n",
      "\n",
      "FileNotFoundError: Image not found at path: b'images/tumor (159).png'\n",
      "\n",
      "\n",
      "[ WARN:0@13.934] global loadsave.cpp:248 findDecoder imread_('b'images/tumor (115).png''): can't open/read file: check file path/integrity\n",
      "2024-02-08 16:55:11.741938: W tensorflow/core/framework/op_kernel.cc:1827] UNKNOWN: FileNotFoundError: Image not found at path: b'images/tumor (115).png'\n",
      "Traceback (most recent call last):\n",
      "\n",
      "  File \"/home/leonardo/python_venvs/NeuroCovid-Classification-3-10/lib/python3.10/site-packages/tensorflow/python/ops/script_ops.py\", line 270, in __call__\n",
      "    ret = func(*args)\n",
      "\n",
      "  File \"/home/leonardo/python_venvs/NeuroCovid-Classification-3-10/lib/python3.10/site-packages/tensorflow/python/autograph/impl/api.py\", line 643, in wrapper\n",
      "    return func(*args, **kwargs)\n",
      "\n",
      "  File \"/tmp/__autograph_generated_fileiy6jxwlm.py\", line 37, in _read_and_process_image_and_mask\n",
      "    image_array = ag__.converted_call(ag__.ld(read_image), (), dict(image_path=ag__.ld(sub_image_path), image_shape=(ag__.ld(image_size), ag__.ld(image_size)), grayscale=False), fscope_1)\n",
      "\n",
      "  File \"/home/leonardo/python_venvs/NeuroCovid-Classification-3-10/lib/python3.10/site-packages/tensorflow/python/autograph/impl/api.py\", line 335, in converted_call\n",
      "    return _call_unconverted(f, args, kwargs, options, False)\n",
      "\n",
      "  File \"/home/leonardo/python_venvs/NeuroCovid-Classification-3-10/lib/python3.10/site-packages/tensorflow/python/autograph/impl/api.py\", line 459, in _call_unconverted\n",
      "    return f(*args, **kwargs)\n",
      "\n",
      "  File \"/home/leonardo/PycharmProjects/NeuroCovid-Classification/src/utils.py\", line 174, in read_image\n",
      "    raise FileNotFoundError(f\"Image not found at path: {path}\")\n",
      "\n",
      "FileNotFoundError: Image not found at path: b'images/tumor (115).png'\n",
      "\n",
      "\n",
      "[ WARN:1@14.004] global loadsave.cpp:248 findDecoder imread_('b'images/tumor (89).png''): can't open/read file: check file path/integrity\n",
      "2024-02-08 16:55:11.743877: W tensorflow/core/framework/op_kernel.cc:1827] UNKNOWN: FileNotFoundError: Image not found at path: b'images/tumor (89).png'\n",
      "Traceback (most recent call last):\n",
      "\n",
      "  File \"/home/leonardo/python_venvs/NeuroCovid-Classification-3-10/lib/python3.10/site-packages/tensorflow/python/ops/script_ops.py\", line 270, in __call__\n",
      "    ret = func(*args)\n",
      "\n",
      "  File \"/home/leonardo/python_venvs/NeuroCovid-Classification-3-10/lib/python3.10/site-packages/tensorflow/python/autograph/impl/api.py\", line 643, in wrapper\n",
      "    return func(*args, **kwargs)\n",
      "\n",
      "  File \"/tmp/__autograph_generated_fileiy6jxwlm.py\", line 37, in _read_and_process_image_and_mask\n",
      "    image_array = ag__.converted_call(ag__.ld(read_image), (), dict(image_path=ag__.ld(sub_image_path), image_shape=(ag__.ld(image_size), ag__.ld(image_size)), grayscale=False), fscope_1)\n",
      "\n",
      "  File \"/home/leonardo/python_venvs/NeuroCovid-Classification-3-10/lib/python3.10/site-packages/tensorflow/python/autograph/impl/api.py\", line 335, in converted_call\n",
      "    return _call_unconverted(f, args, kwargs, options, False)\n",
      "\n",
      "  File \"/home/leonardo/python_venvs/NeuroCovid-Classification-3-10/lib/python3.10/site-packages/tensorflow/python/autograph/impl/api.py\", line 459, in _call_unconverted\n",
      "    return f(*args, **kwargs)\n",
      "\n",
      "  File \"/home/leonardo/PycharmProjects/NeuroCovid-Classification/src/utils.py\", line 174, in read_image\n",
      "    raise FileNotFoundError(f\"Image not found at path: {path}\")\n",
      "\n",
      "FileNotFoundError: Image not found at path: b'images/tumor (89).png'\n",
      "\n",
      "\n",
      "[ WARN:0@14.005] global loadsave.cpp:248 findDecoder imread_('b'images/tumor (32).png''): can't open/read file: check file path/integrity\n",
      "2024-02-08 16:55:11.745182: W tensorflow/core/framework/op_kernel.cc:1827] UNKNOWN: FileNotFoundError: Image not found at path: b'images/tumor (32).png'\n",
      "Traceback (most recent call last):\n",
      "\n",
      "  File \"/home/leonardo/python_venvs/NeuroCovid-Classification-3-10/lib/python3.10/site-packages/tensorflow/python/ops/script_ops.py\", line 270, in __call__\n",
      "    ret = func(*args)\n",
      "\n",
      "  File \"/home/leonardo/python_venvs/NeuroCovid-Classification-3-10/lib/python3.10/site-packages/tensorflow/python/autograph/impl/api.py\", line 643, in wrapper\n",
      "    return func(*args, **kwargs)\n",
      "\n",
      "  File \"/tmp/__autograph_generated_fileiy6jxwlm.py\", line 37, in _read_and_process_image_and_mask\n",
      "    image_array = ag__.converted_call(ag__.ld(read_image), (), dict(image_path=ag__.ld(sub_image_path), image_shape=(ag__.ld(image_size), ag__.ld(image_size)), grayscale=False), fscope_1)\n",
      "\n",
      "  File \"/home/leonardo/python_venvs/NeuroCovid-Classification-3-10/lib/python3.10/site-packages/tensorflow/python/autograph/impl/api.py\", line 335, in converted_call\n",
      "    return _call_unconverted(f, args, kwargs, options, False)\n",
      "\n",
      "  File \"/home/leonardo/python_venvs/NeuroCovid-Classification-3-10/lib/python3.10/site-packages/tensorflow/python/autograph/impl/api.py\", line 459, in _call_unconverted\n",
      "    return f(*args, **kwargs)\n",
      "\n",
      "  File \"/home/leonardo/PycharmProjects/NeuroCovid-Classification/src/utils.py\", line 174, in read_image\n",
      "    raise FileNotFoundError(f\"Image not found at path: {path}\")\n",
      "\n",
      "FileNotFoundError: Image not found at path: b'images/tumor (32).png'\n",
      "\n",
      "\n",
      "[ WARN:1@14.008] global loadsave.cpp:248 findDecoder imread_('b'images/tumor (204).png''): can't open/read file: check file path/integrity\n"
     ]
    }
   ],
   "source": [
    "# Training and Testing Model\n",
    "try:\n",
    "    history = model.fit(\n",
    "        train_dataset,\n",
    "        epochs=EPOCHS,\n",
    "        validation_data=validation_dataset,\n",
    "        steps_per_epoch=train_steps,\n",
    "        validation_steps=valid_steps,\n",
    "        callbacks=[early_stopping, checkpoint])\n",
    "except Exception as e:\n",
    "    print(\"An error occurred:\", e)"
   ],
   "metadata": {
    "collapsed": false,
    "ExecuteTime": {
     "end_time": "2024-02-08T19:55:11.755523122Z",
     "start_time": "2024-02-08T19:54:59.673701174Z"
    }
   },
   "id": "b8202d2537574bae",
   "execution_count": 14
  },
  {
   "cell_type": "code",
   "outputs": [],
   "source": [],
   "metadata": {
    "collapsed": false,
    "ExecuteTime": {
     "end_time": "2024-02-08T19:55:11.763951646Z",
     "start_time": "2024-02-08T19:55:11.754695857Z"
    }
   },
   "id": "c01cf903381317f4",
   "execution_count": 14
  }
 ],
 "metadata": {
  "kernelspec": {
   "display_name": "Python 3",
   "language": "python",
   "name": "python3"
  },
  "language_info": {
   "codemirror_mode": {
    "name": "ipython",
    "version": 2
   },
   "file_extension": ".py",
   "mimetype": "text/x-python",
   "name": "python",
   "nbconvert_exporter": "python",
   "pygments_lexer": "ipython2",
   "version": "2.7.6"
  }
 },
 "nbformat": 4,
 "nbformat_minor": 5
}
