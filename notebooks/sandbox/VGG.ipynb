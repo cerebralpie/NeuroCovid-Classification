{
 "cells": [
  {
   "cell_type": "code",
   "execution_count": 1,
   "id": "initial_id",
   "metadata": {
    "collapsed": true,
    "ExecuteTime": {
     "end_time": "2024-02-07T00:21:06.315079953Z",
     "start_time": "2024-02-07T00:20:58.827866679Z"
    }
   },
   "outputs": [
    {
     "name": "stderr",
     "output_type": "stream",
     "text": [
      "2024-02-06 21:21:00.366320: E external/local_xla/xla/stream_executor/cuda/cuda_dnn.cc:9261] Unable to register cuDNN factory: Attempting to register factory for plugin cuDNN when one has already been registered\n",
      "2024-02-06 21:21:00.366374: E external/local_xla/xla/stream_executor/cuda/cuda_fft.cc:607] Unable to register cuFFT factory: Attempting to register factory for plugin cuFFT when one has already been registered\n",
      "2024-02-06 21:21:00.419952: E external/local_xla/xla/stream_executor/cuda/cuda_blas.cc:1515] Unable to register cuBLAS factory: Attempting to register factory for plugin cuBLAS when one has already been registered\n",
      "2024-02-06 21:21:00.536769: I tensorflow/core/platform/cpu_feature_guard.cc:182] This TensorFlow binary is optimized to use available CPU instructions in performance-critical operations.\n",
      "To enable the following instructions: AVX2 FMA, in other operations, rebuild TensorFlow with the appropriate compiler flags.\n",
      "2024-02-06 21:21:02.769253: W tensorflow/compiler/tf2tensorrt/utils/py_utils.cc:38] TF-TRT Warning: Could not find TensorRT\n"
     ]
    }
   ],
   "source": [
    "import os\n",
    "import numpy as np\n",
    "import cv2\n",
    "from glob import glob\n",
    "import tensorflow as tf\n",
    "import matplotlib.pyplot as plt\n",
    "from sklearn.model_selection import train_test_split\n",
    "\n",
    "from tensorflow.keras.layers import (\n",
    "    Conv2D, Activation, BatchNormalization,\n",
    "    UpSampling2D, Input, Concatenate\n",
    ")\n",
    "from tensorflow.keras.models import Model\n",
    "from tensorflow.keras.applications import VGG19\n",
    "from tensorflow.keras.callbacks import EarlyStopping, ReduceLROnPlateau\n",
    "from tensorflow.keras.metrics import Recall, Precision\n",
    "from tensorflow.keras import backend as K\n",
    "from src.metrics import (\n",
    "    cdc, cdc_loss, bahd\n",
    ")"
   ]
  },
  {
   "cell_type": "code",
   "outputs": [],
   "source": [],
   "metadata": {
    "collapsed": false,
    "ExecuteTime": {
     "end_time": "2024-02-07T00:21:06.338316152Z",
     "start_time": "2024-02-07T00:21:06.311329708Z"
    }
   },
   "id": "47cf2ce949054c3d",
   "execution_count": 1
  },
  {
   "cell_type": "code",
   "outputs": [
    {
     "name": "stderr",
     "output_type": "stream",
     "text": [
      "2024-02-06 21:21:06.390126: I external/local_xla/xla/stream_executor/cuda/cuda_executor.cc:901] successful NUMA node read from SysFS had negative value (-1), but there must be at least one NUMA node, so returning NUMA node zero. See more at https://github.com/torvalds/linux/blob/v6.0/Documentation/ABI/testing/sysfs-bus-pci#L344-L355\n",
      "2024-02-06 21:21:06.608627: I external/local_xla/xla/stream_executor/cuda/cuda_executor.cc:901] successful NUMA node read from SysFS had negative value (-1), but there must be at least one NUMA node, so returning NUMA node zero. See more at https://github.com/torvalds/linux/blob/v6.0/Documentation/ABI/testing/sysfs-bus-pci#L344-L355\n",
      "2024-02-06 21:21:06.609021: I external/local_xla/xla/stream_executor/cuda/cuda_executor.cc:901] successful NUMA node read from SysFS had negative value (-1), but there must be at least one NUMA node, so returning NUMA node zero. See more at https://github.com/torvalds/linux/blob/v6.0/Documentation/ABI/testing/sysfs-bus-pci#L344-L355\n"
     ]
    },
    {
     "data": {
      "text/plain": "[PhysicalDevice(name='/physical_device:GPU:0', device_type='GPU')]"
     },
     "execution_count": 2,
     "metadata": {},
     "output_type": "execute_result"
    }
   ],
   "source": [
    "tf.config.list_physical_devices('GPU')"
   ],
   "metadata": {
    "collapsed": false,
    "ExecuteTime": {
     "end_time": "2024-02-07T00:21:06.648578821Z",
     "start_time": "2024-02-07T00:21:06.317603347Z"
    }
   },
   "id": "9ddac8f7c09934ac",
   "execution_count": 2
  },
  {
   "cell_type": "code",
   "execution_count": 3,
   "outputs": [],
   "source": [
    "tf.keras.backend.clear_session()"
   ],
   "metadata": {
    "collapsed": false,
    "ExecuteTime": {
     "end_time": "2024-02-07T00:21:06.651972830Z",
     "start_time": "2024-02-07T00:21:06.633087019Z"
    }
   },
   "id": "d00d57e2072808b4"
  },
  {
   "cell_type": "code",
   "execution_count": 4,
   "outputs": [],
   "source": [
    "np.random.seed(42)\n",
    "tf.random.set_seed(42)"
   ],
   "metadata": {
    "collapsed": false,
    "ExecuteTime": {
     "end_time": "2024-02-07T00:21:06.841606530Z",
     "start_time": "2024-02-07T00:21:06.643688719Z"
    }
   },
   "id": "dbfbd5e8e9469f86"
  },
  {
   "cell_type": "markdown",
   "source": [
    "# Hyperparameters"
   ],
   "metadata": {
    "collapsed": false
   },
   "id": "48477fc8a27fed1"
  },
  {
   "cell_type": "code",
   "execution_count": 5,
   "outputs": [],
   "source": [
    "IMAGE_SIZE = 256\n",
    "EPOCHS = 300\n",
    "BATCH_SIZE = 4\n",
    "LR = 1e-4\n",
    "\n",
    "PATH = \".\""
   ],
   "metadata": {
    "collapsed": false,
    "ExecuteTime": {
     "end_time": "2024-02-07T00:21:06.867793105Z",
     "start_time": "2024-02-07T00:21:06.663374992Z"
    }
   },
   "id": "e0c60d4790f2ae1d"
  },
  {
   "cell_type": "markdown",
   "source": [
    "# Dataset"
   ],
   "metadata": {
    "collapsed": false
   },
   "id": "a2fac62a7d1dab17"
  },
  {
   "cell_type": "code",
   "execution_count": 6,
   "outputs": [],
   "source": [
    "def load_data(path, split=0.1):\n",
    "    images = sorted(glob(os.path.join(path, \"images/*\")))\n",
    "    masks = sorted(glob(os.path.join(path, \"masks/*\")))\n",
    "    \n",
    "    total_size = len(images)\n",
    "    valid_size = int(total_size * split)\n",
    "    test_size = int(total_size * split)\n",
    "    \n",
    "    train_x, valid_x = train_test_split(images, test_size=valid_size, random_state=42)\n",
    "    train_y, valid_y = train_test_split(masks, test_size=valid_size, random_state=42)\n",
    "    \n",
    "    train_x, test_x = train_test_split(train_x, test_size=test_size, random_state=42)\n",
    "    train_y, test_y = train_test_split(train_y, test_size=test_size, random_state=42)\n",
    "    \n",
    "    return (train_x, train_y), (valid_x, valid_y), (test_x, test_y)"
   ],
   "metadata": {
    "collapsed": false,
    "ExecuteTime": {
     "end_time": "2024-02-07T00:21:06.892417685Z",
     "start_time": "2024-02-07T00:21:06.678463415Z"
    }
   },
   "id": "e3658b173ee7b0ba"
  },
  {
   "cell_type": "code",
   "execution_count": 7,
   "outputs": [],
   "source": [
    "def read_image(path):\n",
    "    path = path.decode()\n",
    "    x = cv2.imread(path, cv2.IMREAD_COLOR)\n",
    "    x = cv2.resize(x, (IMAGE_SIZE, IMAGE_SIZE))\n",
    "    x = x / 255.0\n",
    "    \n",
    "    return x\n",
    "\n",
    "def read_mask(path):\n",
    "    path = path.decode()\n",
    "    x = cv2.imread(path, cv2.IMREAD_GRAYSCALE)\n",
    "    x = cv2.resize(x, (IMAGE_SIZE, IMAGE_SIZE))\n",
    "    x = x / 255.0\n",
    "    x = np.expand_dims(x, axis=-1)\n",
    "    \n",
    "    return x"
   ],
   "metadata": {
    "collapsed": false,
    "ExecuteTime": {
     "end_time": "2024-02-07T00:21:06.971213697Z",
     "start_time": "2024-02-07T00:21:06.687396009Z"
    }
   },
   "id": "2d9f7293746a5822"
  },
  {
   "cell_type": "markdown",
   "source": [
    "## Building the tf.data pipeline"
   ],
   "metadata": {
    "collapsed": false
   },
   "id": "d6e57e781fac350c"
  },
  {
   "cell_type": "code",
   "execution_count": 8,
   "outputs": [],
   "source": [
    "def tf_parse(x, y):\n",
    "    def _parse(x, y):\n",
    "        x = read_image(x)\n",
    "        y = read_mask(y)\n",
    "        \n",
    "        return x, y\n",
    "    \n",
    "    x, y = tf.numpy_function(_parse, [x, y], [tf.float64, tf.float64])\n",
    "    x.set_shape([IMAGE_SIZE, IMAGE_SIZE, 3])\n",
    "    y.set_shape([IMAGE_SIZE, IMAGE_SIZE, 1])\n",
    "    \n",
    "    return x, y\n",
    "\n",
    "\n",
    "def tf_dataset(x, y, batch=BATCH_SIZE):\n",
    "    dataset = tf.data.Dataset.from_tensor_slices((x, y))\n",
    "    dataset = dataset.map(tf_parse)\n",
    "    dataset = dataset.batch(batch)\n",
    "    dataset = dataset.repeat()\n",
    "    \n",
    "    return dataset"
   ],
   "metadata": {
    "collapsed": false,
    "ExecuteTime": {
     "end_time": "2024-02-07T00:21:06.998765546Z",
     "start_time": "2024-02-07T00:21:06.705079771Z"
    }
   },
   "id": "72ca9871e6bced21"
  },
  {
   "cell_type": "code",
   "outputs": [
    {
     "name": "stdout",
     "output_type": "stream",
     "text": [
      "Training data:  264\n",
      "Validation data:  33\n",
      "Testing data:  33\n"
     ]
    }
   ],
   "source": [
    "(train_x, train_y), (valid_x, valid_y), (test_x, test_y) = load_data(PATH)\n",
    "\n",
    "print(\"Training data: \", len(train_x))\n",
    "print(\"Validation data: \", len(valid_x))\n",
    "print(\"Testing data: \", len(test_x))"
   ],
   "metadata": {
    "collapsed": false,
    "ExecuteTime": {
     "end_time": "2024-02-07T00:21:07.006332077Z",
     "start_time": "2024-02-07T00:21:06.726743687Z"
    }
   },
   "id": "e3e26fe22909b5c",
   "execution_count": 9
  },
  {
   "cell_type": "code",
   "execution_count": 10,
   "outputs": [],
   "source": [
    "def read_and_rgb(x):\n",
    "    x = cv2.imread(x)\n",
    "    x = cv2.cvtColor(x, cv2.COLOR_BGR2RGB)\n",
    "    \n",
    "    return x"
   ],
   "metadata": {
    "collapsed": false,
    "ExecuteTime": {
     "end_time": "2024-02-07T00:21:07.009220629Z",
     "start_time": "2024-02-07T00:21:06.741599151Z"
    }
   },
   "id": "92969583039193eb"
  },
  {
   "cell_type": "markdown",
   "source": [
    "# Model"
   ],
   "metadata": {
    "collapsed": false
   },
   "id": "f42b0cda2708f956"
  },
  {
   "cell_type": "code",
   "execution_count": 11,
   "outputs": [],
   "source": [
    "#inputs = Input(shape=(IMAGE_SIZE, IMAGE_SIZE, 3), name=\"input_image\")\n",
    "#encoder = MobileNetV2(input_tensor=inputs, weights=\"imagenet\", include_top=False, alpha=0.35)"
   ],
   "metadata": {
    "collapsed": false,
    "ExecuteTime": {
     "end_time": "2024-02-07T00:21:07.038096317Z",
     "start_time": "2024-02-07T00:21:06.750805015Z"
    }
   },
   "id": "4033d33220a87da0"
  },
  {
   "cell_type": "code",
   "execution_count": 12,
   "outputs": [],
   "source": [
    "#encoder.summary()"
   ],
   "metadata": {
    "collapsed": false,
    "ExecuteTime": {
     "end_time": "2024-02-07T00:21:07.042006930Z",
     "start_time": "2024-02-07T00:21:06.767022557Z"
    }
   },
   "id": "a581d2c76ed42dac"
  },
  {
   "cell_type": "code",
   "execution_count": 13,
   "outputs": [],
   "source": [
    "#inputs = Input(shape=(IMAGE_SIZE, IMAGE_SIZE, 3), name=\"input_image\")\n",
    "#encoder2 = VGG19(input_tensor=inputs, weights=\"imagenet\", include_top=False)"
   ],
   "metadata": {
    "collapsed": false,
    "ExecuteTime": {
     "end_time": "2024-02-07T00:21:07.065870221Z",
     "start_time": "2024-02-07T00:21:06.773334713Z"
    }
   },
   "id": "30664b637187b4d0"
  },
  {
   "cell_type": "code",
   "execution_count": 14,
   "outputs": [],
   "source": [
    "#encoder2.summary()"
   ],
   "metadata": {
    "collapsed": false,
    "ExecuteTime": {
     "end_time": "2024-02-07T00:21:07.068559829Z",
     "start_time": "2024-02-07T00:21:06.815242982Z"
    }
   },
   "id": "c31747234eb773a8"
  },
  {
   "cell_type": "code",
   "execution_count": 15,
   "outputs": [],
   "source": [
    "def model():\n",
    "    inputs = Input(shape=(IMAGE_SIZE, IMAGE_SIZE, 3), name=\"input_image\")\n",
    "\n",
    "    encoder = VGG19(input_tensor=inputs, weights=\"imagenet\", include_top=False)\n",
    "    # skip_connection_names = [\"input_image\", \"block_1_expand_relu\", \"block_3_expand_relu\", \"block_6_expand_relu\"]\n",
    "    skip_connection_names = [\"input_image\", \"block1_pool\", \"block2_pool\", \"block3_pool\", \"block4_pool\"]\n",
    "    encoder_output = encoder.get_layer(\"block5_pool\").output\n",
    "    #skip_connection_names = [\"input_image\", \"re_lu\", \"re_lu_3\", \"re_lu_7\"]\n",
    "    #encoder_output = encoder.get_layer(\"re_lu_16\").output\n",
    "\n",
    "    f = [16, 32, 48, 64, 80]\n",
    "    x = encoder_output\n",
    "    for i in range(1, len(skip_connection_names)+1, 1):\n",
    "        x_skip = encoder.get_layer(skip_connection_names[-i]).output\n",
    "        x = UpSampling2D((2, 2))(x)\n",
    "        x = Concatenate()([x, x_skip])\n",
    "\n",
    "        x = Conv2D(f[-i], (3, 3), padding=\"same\")(x)\n",
    "        x = BatchNormalization()(x)\n",
    "        x = Activation(\"relu\")(x)\n",
    "\n",
    "        x = Conv2D(f[-i], (3, 3), padding=\"same\")(x)\n",
    "        x = BatchNormalization()(x)\n",
    "        x = Activation(\"relu\")(x)\n",
    "\n",
    "    x = Conv2D(1, (1, 1), padding=\"same\")(x)\n",
    "    x = Activation(\"sigmoid\")(x)\n",
    "\n",
    "    model = Model(inputs, x)\n",
    "    return model"
   ],
   "metadata": {
    "collapsed": false,
    "ExecuteTime": {
     "end_time": "2024-02-07T00:21:07.090895988Z",
     "start_time": "2024-02-07T00:21:06.815766026Z"
    }
   },
   "id": "7cb7ab97cdc88a24"
  },
  {
   "cell_type": "code",
   "execution_count": 16,
   "outputs": [
    {
     "name": "stderr",
     "output_type": "stream",
     "text": [
      "2024-02-06 21:21:06.849824: I external/local_xla/xla/stream_executor/cuda/cuda_executor.cc:901] successful NUMA node read from SysFS had negative value (-1), but there must be at least one NUMA node, so returning NUMA node zero. See more at https://github.com/torvalds/linux/blob/v6.0/Documentation/ABI/testing/sysfs-bus-pci#L344-L355\n",
      "2024-02-06 21:21:06.851463: I external/local_xla/xla/stream_executor/cuda/cuda_executor.cc:901] successful NUMA node read from SysFS had negative value (-1), but there must be at least one NUMA node, so returning NUMA node zero. See more at https://github.com/torvalds/linux/blob/v6.0/Documentation/ABI/testing/sysfs-bus-pci#L344-L355\n",
      "2024-02-06 21:21:06.852167: I external/local_xla/xla/stream_executor/cuda/cuda_executor.cc:901] successful NUMA node read from SysFS had negative value (-1), but there must be at least one NUMA node, so returning NUMA node zero. See more at https://github.com/torvalds/linux/blob/v6.0/Documentation/ABI/testing/sysfs-bus-pci#L344-L355\n",
      "2024-02-06 21:21:06.920176: I external/local_xla/xla/stream_executor/cuda/cuda_executor.cc:901] successful NUMA node read from SysFS had negative value (-1), but there must be at least one NUMA node, so returning NUMA node zero. See more at https://github.com/torvalds/linux/blob/v6.0/Documentation/ABI/testing/sysfs-bus-pci#L344-L355\n",
      "2024-02-06 21:21:06.920553: I external/local_xla/xla/stream_executor/cuda/cuda_executor.cc:901] successful NUMA node read from SysFS had negative value (-1), but there must be at least one NUMA node, so returning NUMA node zero. See more at https://github.com/torvalds/linux/blob/v6.0/Documentation/ABI/testing/sysfs-bus-pci#L344-L355\n",
      "2024-02-06 21:21:06.920888: I external/local_xla/xla/stream_executor/cuda/cuda_executor.cc:901] successful NUMA node read from SysFS had negative value (-1), but there must be at least one NUMA node, so returning NUMA node zero. See more at https://github.com/torvalds/linux/blob/v6.0/Documentation/ABI/testing/sysfs-bus-pci#L344-L355\n",
      "2024-02-06 21:21:06.921105: I tensorflow/core/common_runtime/gpu/gpu_device.cc:1929] Created device /job:localhost/replica:0/task:0/device:GPU:0 with 1567 MB memory:  -> device: 0, name: NVIDIA GeForce 920MX, pci bus id: 0000:01:00.0, compute capability: 5.0\n"
     ]
    },
    {
     "name": "stdout",
     "output_type": "stream",
     "text": [
      "Model: \"model\"\n",
      "__________________________________________________________________________________________________\n",
      " Layer (type)                Output Shape                 Param #   Connected to                  \n",
      "==================================================================================================\n",
      " input_image (InputLayer)    [(None, 256, 256, 3)]        0         []                            \n",
      "                                                                                                  \n",
      " block1_conv1 (Conv2D)       (None, 256, 256, 64)         1792      ['input_image[0][0]']         \n",
      "                                                                                                  \n",
      " block1_conv2 (Conv2D)       (None, 256, 256, 64)         36928     ['block1_conv1[0][0]']        \n",
      "                                                                                                  \n",
      " block1_pool (MaxPooling2D)  (None, 128, 128, 64)         0         ['block1_conv2[0][0]']        \n",
      "                                                                                                  \n",
      " block2_conv1 (Conv2D)       (None, 128, 128, 128)        73856     ['block1_pool[0][0]']         \n",
      "                                                                                                  \n",
      " block2_conv2 (Conv2D)       (None, 128, 128, 128)        147584    ['block2_conv1[0][0]']        \n",
      "                                                                                                  \n",
      " block2_pool (MaxPooling2D)  (None, 64, 64, 128)          0         ['block2_conv2[0][0]']        \n",
      "                                                                                                  \n",
      " block3_conv1 (Conv2D)       (None, 64, 64, 256)          295168    ['block2_pool[0][0]']         \n",
      "                                                                                                  \n",
      " block3_conv2 (Conv2D)       (None, 64, 64, 256)          590080    ['block3_conv1[0][0]']        \n",
      "                                                                                                  \n",
      " block3_conv3 (Conv2D)       (None, 64, 64, 256)          590080    ['block3_conv2[0][0]']        \n",
      "                                                                                                  \n",
      " block3_conv4 (Conv2D)       (None, 64, 64, 256)          590080    ['block3_conv3[0][0]']        \n",
      "                                                                                                  \n",
      " block3_pool (MaxPooling2D)  (None, 32, 32, 256)          0         ['block3_conv4[0][0]']        \n",
      "                                                                                                  \n",
      " block4_conv1 (Conv2D)       (None, 32, 32, 512)          1180160   ['block3_pool[0][0]']         \n",
      "                                                                                                  \n",
      " block4_conv2 (Conv2D)       (None, 32, 32, 512)          2359808   ['block4_conv1[0][0]']        \n",
      "                                                                                                  \n",
      " block4_conv3 (Conv2D)       (None, 32, 32, 512)          2359808   ['block4_conv2[0][0]']        \n",
      "                                                                                                  \n",
      " block4_conv4 (Conv2D)       (None, 32, 32, 512)          2359808   ['block4_conv3[0][0]']        \n",
      "                                                                                                  \n",
      " block4_pool (MaxPooling2D)  (None, 16, 16, 512)          0         ['block4_conv4[0][0]']        \n",
      "                                                                                                  \n",
      " block5_conv1 (Conv2D)       (None, 16, 16, 512)          2359808   ['block4_pool[0][0]']         \n",
      "                                                                                                  \n",
      " block5_conv2 (Conv2D)       (None, 16, 16, 512)          2359808   ['block5_conv1[0][0]']        \n",
      "                                                                                                  \n",
      " block5_conv3 (Conv2D)       (None, 16, 16, 512)          2359808   ['block5_conv2[0][0]']        \n",
      "                                                                                                  \n",
      " block5_conv4 (Conv2D)       (None, 16, 16, 512)          2359808   ['block5_conv3[0][0]']        \n",
      "                                                                                                  \n",
      " block5_pool (MaxPooling2D)  (None, 8, 8, 512)            0         ['block5_conv4[0][0]']        \n",
      "                                                                                                  \n",
      " up_sampling2d (UpSampling2  (None, 16, 16, 512)          0         ['block5_pool[0][0]']         \n",
      " D)                                                                                               \n",
      "                                                                                                  \n",
      " concatenate (Concatenate)   (None, 16, 16, 1024)         0         ['up_sampling2d[0][0]',       \n",
      "                                                                     'block4_pool[0][0]']         \n",
      "                                                                                                  \n",
      " conv2d (Conv2D)             (None, 16, 16, 80)           737360    ['concatenate[0][0]']         \n",
      "                                                                                                  \n",
      " batch_normalization (Batch  (None, 16, 16, 80)           320       ['conv2d[0][0]']              \n",
      " Normalization)                                                                                   \n",
      "                                                                                                  \n",
      " activation (Activation)     (None, 16, 16, 80)           0         ['batch_normalization[0][0]'] \n",
      "                                                                                                  \n",
      " conv2d_1 (Conv2D)           (None, 16, 16, 80)           57680     ['activation[0][0]']          \n",
      "                                                                                                  \n",
      " batch_normalization_1 (Bat  (None, 16, 16, 80)           320       ['conv2d_1[0][0]']            \n",
      " chNormalization)                                                                                 \n",
      "                                                                                                  \n",
      " activation_1 (Activation)   (None, 16, 16, 80)           0         ['batch_normalization_1[0][0]'\n",
      "                                                                    ]                             \n",
      "                                                                                                  \n",
      " up_sampling2d_1 (UpSamplin  (None, 32, 32, 80)           0         ['activation_1[0][0]']        \n",
      " g2D)                                                                                             \n",
      "                                                                                                  \n",
      " concatenate_1 (Concatenate  (None, 32, 32, 336)          0         ['up_sampling2d_1[0][0]',     \n",
      " )                                                                   'block3_pool[0][0]']         \n",
      "                                                                                                  \n",
      " conv2d_2 (Conv2D)           (None, 32, 32, 64)           193600    ['concatenate_1[0][0]']       \n",
      "                                                                                                  \n",
      " batch_normalization_2 (Bat  (None, 32, 32, 64)           256       ['conv2d_2[0][0]']            \n",
      " chNormalization)                                                                                 \n",
      "                                                                                                  \n",
      " activation_2 (Activation)   (None, 32, 32, 64)           0         ['batch_normalization_2[0][0]'\n",
      "                                                                    ]                             \n",
      "                                                                                                  \n",
      " conv2d_3 (Conv2D)           (None, 32, 32, 64)           36928     ['activation_2[0][0]']        \n",
      "                                                                                                  \n",
      " batch_normalization_3 (Bat  (None, 32, 32, 64)           256       ['conv2d_3[0][0]']            \n",
      " chNormalization)                                                                                 \n",
      "                                                                                                  \n",
      " activation_3 (Activation)   (None, 32, 32, 64)           0         ['batch_normalization_3[0][0]'\n",
      "                                                                    ]                             \n",
      "                                                                                                  \n",
      " up_sampling2d_2 (UpSamplin  (None, 64, 64, 64)           0         ['activation_3[0][0]']        \n",
      " g2D)                                                                                             \n",
      "                                                                                                  \n",
      " concatenate_2 (Concatenate  (None, 64, 64, 192)          0         ['up_sampling2d_2[0][0]',     \n",
      " )                                                                   'block2_pool[0][0]']         \n",
      "                                                                                                  \n",
      " conv2d_4 (Conv2D)           (None, 64, 64, 48)           82992     ['concatenate_2[0][0]']       \n",
      "                                                                                                  \n",
      " batch_normalization_4 (Bat  (None, 64, 64, 48)           192       ['conv2d_4[0][0]']            \n",
      " chNormalization)                                                                                 \n",
      "                                                                                                  \n",
      " activation_4 (Activation)   (None, 64, 64, 48)           0         ['batch_normalization_4[0][0]'\n",
      "                                                                    ]                             \n",
      "                                                                                                  \n",
      " conv2d_5 (Conv2D)           (None, 64, 64, 48)           20784     ['activation_4[0][0]']        \n",
      "                                                                                                  \n",
      " batch_normalization_5 (Bat  (None, 64, 64, 48)           192       ['conv2d_5[0][0]']            \n",
      " chNormalization)                                                                                 \n",
      "                                                                                                  \n",
      " activation_5 (Activation)   (None, 64, 64, 48)           0         ['batch_normalization_5[0][0]'\n",
      "                                                                    ]                             \n",
      "                                                                                                  \n",
      " up_sampling2d_3 (UpSamplin  (None, 128, 128, 48)         0         ['activation_5[0][0]']        \n",
      " g2D)                                                                                             \n",
      "                                                                                                  \n",
      " concatenate_3 (Concatenate  (None, 128, 128, 112)        0         ['up_sampling2d_3[0][0]',     \n",
      " )                                                                   'block1_pool[0][0]']         \n",
      "                                                                                                  \n",
      " conv2d_6 (Conv2D)           (None, 128, 128, 32)         32288     ['concatenate_3[0][0]']       \n",
      "                                                                                                  \n",
      " batch_normalization_6 (Bat  (None, 128, 128, 32)         128       ['conv2d_6[0][0]']            \n",
      " chNormalization)                                                                                 \n",
      "                                                                                                  \n",
      " activation_6 (Activation)   (None, 128, 128, 32)         0         ['batch_normalization_6[0][0]'\n",
      "                                                                    ]                             \n",
      "                                                                                                  \n",
      " conv2d_7 (Conv2D)           (None, 128, 128, 32)         9248      ['activation_6[0][0]']        \n",
      "                                                                                                  \n",
      " batch_normalization_7 (Bat  (None, 128, 128, 32)         128       ['conv2d_7[0][0]']            \n",
      " chNormalization)                                                                                 \n",
      "                                                                                                  \n",
      " activation_7 (Activation)   (None, 128, 128, 32)         0         ['batch_normalization_7[0][0]'\n",
      "                                                                    ]                             \n",
      "                                                                                                  \n",
      " up_sampling2d_4 (UpSamplin  (None, 256, 256, 32)         0         ['activation_7[0][0]']        \n",
      " g2D)                                                                                             \n",
      "                                                                                                  \n",
      " concatenate_4 (Concatenate  (None, 256, 256, 35)         0         ['up_sampling2d_4[0][0]',     \n",
      " )                                                                   'input_image[0][0]']         \n",
      "                                                                                                  \n",
      " conv2d_8 (Conv2D)           (None, 256, 256, 16)         5056      ['concatenate_4[0][0]']       \n",
      "                                                                                                  \n",
      " batch_normalization_8 (Bat  (None, 256, 256, 16)         64        ['conv2d_8[0][0]']            \n",
      " chNormalization)                                                                                 \n",
      "                                                                                                  \n",
      " activation_8 (Activation)   (None, 256, 256, 16)         0         ['batch_normalization_8[0][0]'\n",
      "                                                                    ]                             \n",
      "                                                                                                  \n",
      " conv2d_9 (Conv2D)           (None, 256, 256, 16)         2320      ['activation_8[0][0]']        \n",
      "                                                                                                  \n",
      " batch_normalization_9 (Bat  (None, 256, 256, 16)         64        ['conv2d_9[0][0]']            \n",
      " chNormalization)                                                                                 \n",
      "                                                                                                  \n",
      " activation_9 (Activation)   (None, 256, 256, 16)         0         ['batch_normalization_9[0][0]'\n",
      "                                                                    ]                             \n",
      "                                                                                                  \n",
      " conv2d_10 (Conv2D)          (None, 256, 256, 1)          17        ['activation_9[0][0]']        \n",
      "                                                                                                  \n",
      " activation_10 (Activation)  (None, 256, 256, 1)          0         ['conv2d_10[0][0]']           \n",
      "                                                                                                  \n",
      "==================================================================================================\n",
      "Total params: 21204577 (80.89 MB)\n",
      "Trainable params: 21203617 (80.89 MB)\n",
      "Non-trainable params: 960 (3.75 KB)\n",
      "__________________________________________________________________________________________________\n"
     ]
    }
   ],
   "source": [
    "model = model()\n",
    "model.summary()"
   ],
   "metadata": {
    "collapsed": false,
    "ExecuteTime": {
     "end_time": "2024-02-07T00:21:08.346348128Z",
     "start_time": "2024-02-07T00:21:06.859263366Z"
    }
   },
   "id": "835814936f8685a0"
  },
  {
   "cell_type": "markdown",
   "source": [
    "# Metrics"
   ],
   "metadata": {
    "collapsed": false
   },
   "id": "e477381f9326821b"
  },
  {
   "cell_type": "code",
   "outputs": [],
   "source": [],
   "metadata": {
    "collapsed": false,
    "ExecuteTime": {
     "start_time": "2024-02-07T00:21:08.474339737Z"
    }
   },
   "id": "d54d8751b5f42e85",
   "execution_count": 16
  },
  {
   "cell_type": "code",
   "outputs": [],
   "source": [
    "smooth = 1e-15\n",
    "\n",
    "def dice_coef(y_true, y_pred):\n",
    "    y_true = tf.keras.layers.Flatten()(y_true)\n",
    "    y_pred = tf.keras.layers.Flatten()(y_pred)\n",
    "    intersection = tf.reduce_sum(y_true * y_pred)\n",
    "    return (2. * intersection + smooth) / (tf.reduce_sum(y_true) + tf.reduce_sum(y_pred) + smooth)\n",
    "\n",
    "def dice_loss(y_true, y_pred):\n",
    "    return 1.0 - dice_coef(y_true, y_pred)"
   ],
   "metadata": {
    "collapsed": false,
    "ExecuteTime": {
     "start_time": "2024-02-07T00:21:08.514794906Z"
    }
   },
   "id": "c36a2fd32cd94051",
   "execution_count": 17
  },
  {
   "cell_type": "markdown",
   "source": [
    "# Training"
   ],
   "metadata": {
    "collapsed": false
   },
   "id": "eb633d1685b61d74"
  },
  {
   "cell_type": "code",
   "outputs": [],
   "source": [
    "train_dataset = tf_dataset(train_x, train_y, batch=BATCH_SIZE)\n",
    "valid_dataset = tf_dataset(valid_x, valid_y, batch=BATCH_SIZE)"
   ],
   "metadata": {
    "collapsed": false,
    "ExecuteTime": {
     "end_time": "2024-02-07T00:21:09.545071815Z",
     "start_time": "2024-02-07T00:21:08.515173078Z"
    }
   },
   "id": "518429ad7a0bc95d",
   "execution_count": 18
  },
  {
   "cell_type": "code",
   "execution_count": 19,
   "outputs": [],
   "source": [
    "opt = tf.keras.optimizers.Nadam(LR)\n",
    "metrics = [cdc, bahd]\n",
    "model.compile(loss=cdc_loss, optimizer=opt, metrics=metrics)"
   ],
   "metadata": {
    "collapsed": false,
    "ExecuteTime": {
     "end_time": "2024-02-07T00:21:09.588773437Z",
     "start_time": "2024-02-07T00:21:08.515518017Z"
    }
   },
   "id": "d1b02cd3cfe49d6d"
  },
  {
   "cell_type": "code",
   "execution_count": 20,
   "outputs": [],
   "source": [
    "callbacks = [\n",
    "    ReduceLROnPlateau(monitor='val_loss', factor=0.1, patience=4),\n",
    "    EarlyStopping(monitor='val_loss', patience=10, restore_best_weights=True)\n",
    "]"
   ],
   "metadata": {
    "collapsed": false,
    "ExecuteTime": {
     "end_time": "2024-02-07T00:21:09.626806714Z",
     "start_time": "2024-02-07T00:21:08.516046029Z"
    }
   },
   "id": "838e3b59a1664270"
  },
  {
   "cell_type": "code",
   "execution_count": 21,
   "outputs": [
    {
     "name": "stdout",
     "output_type": "stream",
     "text": [
      "Epoch 1/300\n"
     ]
    },
    {
     "name": "stderr",
     "output_type": "stream",
     "text": [
      "2024-02-06 21:21:22.303478: I external/local_xla/xla/service/service.cc:168] XLA service 0x7fe630094b00 initialized for platform CUDA (this does not guarantee that XLA will be used). Devices:\n",
      "2024-02-06 21:21:22.303643: I external/local_xla/xla/service/service.cc:176]   StreamExecutor device (0): NVIDIA GeForce 920MX, Compute Capability 5.0\n",
      "2024-02-06 21:21:25.389771: I tensorflow/compiler/mlir/tensorflow/utils/dump_mlir_util.cc:269] disabling MLIR crash reproducer, set env var `MLIR_CRASH_REPRODUCER_DIRECTORY` to enable.\n",
      "2024-02-06 21:21:27.925066: I external/local_xla/xla/stream_executor/cuda/cuda_dnn.cc:454] Loaded cuDNN version 8904\n",
      "2024-02-06 21:21:27.984845: I external/local_tsl/tsl/platform/default/subprocess.cc:304] Start cannot spawn child process: No such file or directory\n",
      "2024-02-06 21:21:31.800895: W external/local_tsl/tsl/framework/bfc_allocator.cc:296] Allocator (GPU_0_bfc) ran out of memory trying to allocate 1.14GiB with freed_by_count=0. The caller indicates that this is not a failure, but this may mean that there could be performance gains if more memory were available.\n",
      "2024-02-06 21:21:35.542407: W external/local_tsl/tsl/framework/bfc_allocator.cc:296] Allocator (GPU_0_bfc) ran out of memory trying to allocate 1.14GiB with freed_by_count=0. The caller indicates that this is not a failure, but this may mean that there could be performance gains if more memory were available.\n",
      "2024-02-06 21:21:40.402804: W external/local_tsl/tsl/framework/bfc_allocator.cc:296] Allocator (GPU_0_bfc) ran out of memory trying to allocate 4.17GiB with freed_by_count=0. The caller indicates that this is not a failure, but this may mean that there could be performance gains if more memory were available.\n",
      "2024-02-06 21:21:42.393416: W external/local_tsl/tsl/framework/bfc_allocator.cc:296] Allocator (GPU_0_bfc) ran out of memory trying to allocate 4.17GiB with freed_by_count=0. The caller indicates that this is not a failure, but this may mean that there could be performance gains if more memory were available.\n",
      "2024-02-06 21:21:45.613329: W external/local_tsl/tsl/framework/bfc_allocator.cc:296] Allocator (GPU_0_bfc) ran out of memory trying to allocate 8.33GiB with freed_by_count=0. The caller indicates that this is not a failure, but this may mean that there could be performance gains if more memory were available.\n",
      "2024-02-06 21:21:48.792817: W external/local_tsl/tsl/framework/bfc_allocator.cc:296] Allocator (GPU_0_bfc) ran out of memory trying to allocate 8.33GiB with freed_by_count=0. The caller indicates that this is not a failure, but this may mean that there could be performance gains if more memory were available.\n",
      "2024-02-06 21:21:55.313642: W external/local_tsl/tsl/framework/bfc_allocator.cc:296] Allocator (GPU_0_bfc) ran out of memory trying to allocate 8.27GiB with freed_by_count=0. The caller indicates that this is not a failure, but this may mean that there could be performance gains if more memory were available.\n",
      "2024-02-06 21:21:58.304854: W external/local_tsl/tsl/framework/bfc_allocator.cc:296] Allocator (GPU_0_bfc) ran out of memory trying to allocate 8.27GiB with freed_by_count=0. The caller indicates that this is not a failure, but this may mean that there could be performance gains if more memory were available.\n",
      "2024-02-06 21:22:05.371417: E external/local_xla/xla/service/slow_operation_alarm.cc:65] Trying algorithm eng13{} for conv (f32[4,512,32,32]{3,2,1,0}, u8[0]{0}) custom-call(f32[4,512,32,32]{3,2,1,0}, f32[512,512,3,3]{3,2,1,0}, f32[512]{0}), window={size=3x3 pad=1_1x1_1}, dim_labels=bf01_oi01->bf01, custom_call_target=\"__cudnn$convBiasActivationForward\", backend_config={\"conv_result_scale\":1,\"activation_mode\":\"kRelu\",\"side_input_scale\":0,\"leakyrelu_alpha\":0} is taking a while...\n",
      "2024-02-06 21:22:05.966899: E external/local_xla/xla/service/slow_operation_alarm.cc:133] The operation took 1.595539966s\n",
      "Trying algorithm eng13{} for conv (f32[4,512,32,32]{3,2,1,0}, u8[0]{0}) custom-call(f32[4,512,32,32]{3,2,1,0}, f32[512,512,3,3]{3,2,1,0}, f32[512]{0}), window={size=3x3 pad=1_1x1_1}, dim_labels=bf01_oi01->bf01, custom_call_target=\"__cudnn$convBiasActivationForward\", backend_config={\"conv_result_scale\":1,\"activation_mode\":\"kRelu\",\"side_input_scale\":0,\"leakyrelu_alpha\":0} is taking a while...\n",
      "2024-02-06 21:22:09.132028: E external/local_xla/xla/service/slow_operation_alarm.cc:65] Trying algorithm eng13{} for conv (f32[4,512,32,32]{3,2,1,0}, u8[0]{0}) custom-call(f32[4,512,32,32]{3,2,1,0}, f32[512,512,3,3]{3,2,1,0}, f32[512]{0}), window={size=3x3 pad=1_1x1_1}, dim_labels=bf01_oi01->bf01, custom_call_target=\"__cudnn$convBiasActivationForward\", backend_config={\"conv_result_scale\":1,\"activation_mode\":\"kRelu\",\"side_input_scale\":0,\"leakyrelu_alpha\":0} is taking a while...\n",
      "2024-02-06 21:22:09.734348: E external/local_xla/xla/service/slow_operation_alarm.cc:133] The operation took 1.602388335s\n",
      "Trying algorithm eng13{} for conv (f32[4,512,32,32]{3,2,1,0}, u8[0]{0}) custom-call(f32[4,512,32,32]{3,2,1,0}, f32[512,512,3,3]{3,2,1,0}, f32[512]{0}), window={size=3x3 pad=1_1x1_1}, dim_labels=bf01_oi01->bf01, custom_call_target=\"__cudnn$convBiasActivationForward\", backend_config={\"conv_result_scale\":1,\"activation_mode\":\"kRelu\",\"side_input_scale\":0,\"leakyrelu_alpha\":0} is taking a while...\n",
      "2024-02-06 21:22:11.177229: W external/local_tsl/tsl/framework/bfc_allocator.cc:296] Allocator (GPU_0_bfc) ran out of memory trying to allocate 2.17GiB with freed_by_count=0. The caller indicates that this is not a failure, but this may mean that there could be performance gains if more memory were available.\n",
      "2024-02-06 21:22:12.624705: W external/local_tsl/tsl/framework/bfc_allocator.cc:296] Allocator (GPU_0_bfc) ran out of memory trying to allocate 2.17GiB with freed_by_count=0. The caller indicates that this is not a failure, but this may mean that there could be performance gains if more memory were available.\n",
      "WARNING: All log messages before absl::InitializeLog() is called are written to STDERR\n",
      "W0000 00:00:1707265346.040766    4415 hlo_rematerialization.cc:2946] Can't reduce memory use below 849.49MiB (890757221 bytes) by rematerialization; only reduced to 512.69GiB (550498334549 bytes), down from 512.69GiB (550498334549 bytes) originally\n",
      "I0000 00:00:1707265349.746179    4415 device_compiler.h:186] Compiled cluster using XLA!  This line is logged at most once for the lifetime of the process.\n",
      "2024-02-06 21:22:39.749025: W external/local_tsl/tsl/framework/bfc_allocator.cc:485] Allocator (GPU_0_bfc) ran out of memory trying to allocate 512.00GiB (rounded to 549755832064)requested by op cluster_1_1/xla_run\n",
      "If the cause is memory fragmentation maybe the environment variable 'TF_GPU_ALLOCATOR=cuda_malloc_async' will improve the situation. \n",
      "Current allocation summary follows.\n",
      "Current allocation summary follows.\n",
      "2024-02-06 21:22:39.749052: I external/local_tsl/tsl/framework/bfc_allocator.cc:1039] BFCAllocator dump for GPU_0_bfc\n",
      "2024-02-06 21:22:39.749064: I external/local_tsl/tsl/framework/bfc_allocator.cc:1046] Bin (256): \tTotal Chunks: 197, Chunks in use: 197. 49.2KiB allocated for chunks. 49.2KiB in use in bin. 20.7KiB client-requested in use in bin.\n",
      "2024-02-06 21:22:39.749073: I external/local_tsl/tsl/framework/bfc_allocator.cc:1046] Bin (512): \tTotal Chunks: 36, Chunks in use: 36. 18.0KiB allocated for chunks. 18.0KiB in use in bin. 12.4KiB client-requested in use in bin.\n",
      "2024-02-06 21:22:39.749081: I external/local_tsl/tsl/framework/bfc_allocator.cc:1046] Bin (1024): \tTotal Chunks: 13, Chunks in use: 13. 13.5KiB allocated for chunks. 13.5KiB in use in bin. 13.0KiB client-requested in use in bin.\n",
      "2024-02-06 21:22:39.749088: I external/local_tsl/tsl/framework/bfc_allocator.cc:1046] Bin (2048): \tTotal Chunks: 24, Chunks in use: 24. 49.0KiB allocated for chunks. 49.0KiB in use in bin. 48.0KiB client-requested in use in bin.\n",
      "2024-02-06 21:22:39.749095: I external/local_tsl/tsl/framework/bfc_allocator.cc:1046] Bin (4096): \tTotal Chunks: 2, Chunks in use: 2. 13.5KiB allocated for chunks. 13.5KiB in use in bin. 13.5KiB client-requested in use in bin.\n",
      "2024-02-06 21:22:39.749103: I external/local_tsl/tsl/framework/bfc_allocator.cc:1046] Bin (8192): \tTotal Chunks: 4, Chunks in use: 4. 39.0KiB allocated for chunks. 39.0KiB in use in bin. 33.8KiB client-requested in use in bin.\n",
      "2024-02-06 21:22:39.749111: I external/local_tsl/tsl/framework/bfc_allocator.cc:1046] Bin (16384): \tTotal Chunks: 3, Chunks in use: 3. 70.2KiB allocated for chunks. 70.2KiB in use in bin. 59.1KiB client-requested in use in bin.\n",
      "2024-02-06 21:22:39.749119: I external/local_tsl/tsl/framework/bfc_allocator.cc:1046] Bin (32768): \tTotal Chunks: 3, Chunks in use: 3. 123.8KiB allocated for chunks. 123.8KiB in use in bin. 108.0KiB client-requested in use in bin.\n",
      "2024-02-06 21:22:39.749126: I external/local_tsl/tsl/framework/bfc_allocator.cc:1046] Bin (65536): \tTotal Chunks: 6, Chunks in use: 6. 662.5KiB allocated for chunks. 662.5KiB in use in bin. 621.0KiB client-requested in use in bin.\n",
      "2024-02-06 21:22:39.749136: I external/local_tsl/tsl/framework/bfc_allocator.cc:1046] Bin (131072): \tTotal Chunks: 7, Chunks in use: 7. 1.25MiB allocated for chunks. 1.25MiB in use in bin. 1.22MiB client-requested in use in bin.\n",
      "2024-02-06 21:22:39.749147: I external/local_tsl/tsl/framework/bfc_allocator.cc:1046] Bin (262144): \tTotal Chunks: 12, Chunks in use: 12. 3.80MiB allocated for chunks. 3.80MiB in use in bin. 3.32MiB client-requested in use in bin.\n",
      "2024-02-06 21:22:39.749160: I external/local_tsl/tsl/framework/bfc_allocator.cc:1046] Bin (524288): \tTotal Chunks: 7, Chunks in use: 7. 4.40MiB allocated for chunks. 4.40MiB in use in bin. 4.40MiB client-requested in use in bin.\n",
      "2024-02-06 21:22:39.749172: I external/local_tsl/tsl/framework/bfc_allocator.cc:1046] Bin (1048576): \tTotal Chunks: 10, Chunks in use: 10. 11.34MiB allocated for chunks. 11.34MiB in use in bin. 10.50MiB client-requested in use in bin.\n",
      "2024-02-06 21:22:39.749185: I external/local_tsl/tsl/framework/bfc_allocator.cc:1046] Bin (2097152): \tTotal Chunks: 26, Chunks in use: 26. 62.88MiB allocated for chunks. 62.88MiB in use in bin. 61.81MiB client-requested in use in bin.\n",
      "2024-02-06 21:22:39.749198: I external/local_tsl/tsl/framework/bfc_allocator.cc:1046] Bin (4194304): \tTotal Chunks: 8, Chunks in use: 8. 36.75MiB allocated for chunks. 36.75MiB in use in bin. 36.75MiB client-requested in use in bin.\n",
      "2024-02-06 21:22:39.749210: I external/local_tsl/tsl/framework/bfc_allocator.cc:1046] Bin (8388608): \tTotal Chunks: 32, Chunks in use: 32. 285.00MiB allocated for chunks. 285.00MiB in use in bin. 285.00MiB client-requested in use in bin.\n",
      "2024-02-06 21:22:39.749222: I external/local_tsl/tsl/framework/bfc_allocator.cc:1046] Bin (16777216): \tTotal Chunks: 10, Chunks in use: 10. 172.00MiB allocated for chunks. 172.00MiB in use in bin. 172.00MiB client-requested in use in bin.\n",
      "2024-02-06 21:22:39.749233: I external/local_tsl/tsl/framework/bfc_allocator.cc:1046] Bin (33554432): \tTotal Chunks: 5, Chunks in use: 5. 166.00MiB allocated for chunks. 166.00MiB in use in bin. 166.00MiB client-requested in use in bin.\n",
      "2024-02-06 21:22:39.749249: I external/local_tsl/tsl/framework/bfc_allocator.cc:1046] Bin (67108864): \tTotal Chunks: 2, Chunks in use: 2. 128.00MiB allocated for chunks. 128.00MiB in use in bin. 128.00MiB client-requested in use in bin.\n",
      "2024-02-06 21:22:39.749261: I external/local_tsl/tsl/framework/bfc_allocator.cc:1046] Bin (134217728): \tTotal Chunks: 0, Chunks in use: 0. 0B allocated for chunks. 0B in use in bin. 0B client-requested in use in bin.\n",
      "2024-02-06 21:22:39.749272: I external/local_tsl/tsl/framework/bfc_allocator.cc:1046] Bin (268435456): \tTotal Chunks: 1, Chunks in use: 0. 694.87MiB allocated for chunks. 0B in use in bin. 0B client-requested in use in bin.\n",
      "2024-02-06 21:22:39.749284: I external/local_tsl/tsl/framework/bfc_allocator.cc:1062] Bin for 512.00GiB was 256.00MiB, Chunk State: \n",
      "2024-02-06 21:22:39.749297: I external/local_tsl/tsl/framework/bfc_allocator.cc:1068]   Size: 694.87MiB | Requested Size: 0B | in_use: 0 | bin_num: 20, prev:   Size: 256B | Requested Size: 8B | in_use: 1 | bin_num: -1\n",
      "2024-02-06 21:22:39.749307: I external/local_tsl/tsl/framework/bfc_allocator.cc:1075] Next region of size 1643446272\n",
      "2024-02-06 21:22:39.749319: I external/local_tsl/tsl/framework/bfc_allocator.cc:1095] InUse at 7011a0000 of size 1280 next 1\n",
      "2024-02-06 21:22:39.749329: I external/local_tsl/tsl/framework/bfc_allocator.cc:1095] InUse at 7011a0500 of size 256 next 2\n",
      "2024-02-06 21:22:39.749338: I external/local_tsl/tsl/framework/bfc_allocator.cc:1095] InUse at 7011a0600 of size 256 next 3\n",
      "2024-02-06 21:22:39.749348: I external/local_tsl/tsl/framework/bfc_allocator.cc:1095] InUse at 7011a0700 of size 256 next 5\n",
      "2024-02-06 21:22:39.749357: I external/local_tsl/tsl/framework/bfc_allocator.cc:1095] InUse at 7011a0800 of size 256 next 6\n",
      "2024-02-06 21:22:39.749367: I external/local_tsl/tsl/framework/bfc_allocator.cc:1095] InUse at 7011a0900 of size 256 next 4\n",
      "2024-02-06 21:22:39.749379: I external/local_tsl/tsl/framework/bfc_allocator.cc:1095] InUse at 7011a0a00 of size 256 next 7\n",
      "2024-02-06 21:22:39.749389: I external/local_tsl/tsl/framework/bfc_allocator.cc:1095] InUse at 7011a0b00 of size 256 next 12\n",
      "2024-02-06 21:22:39.749398: I external/local_tsl/tsl/framework/bfc_allocator.cc:1095] InUse at 7011a0c00 of size 256 next 10\n",
      "2024-02-06 21:22:39.749407: I external/local_tsl/tsl/framework/bfc_allocator.cc:1095] InUse at 7011a0d00 of size 256 next 11\n",
      "2024-02-06 21:22:39.749417: I external/local_tsl/tsl/framework/bfc_allocator.cc:1095] InUse at 7011a0e00 of size 512 next 15\n",
      "2024-02-06 21:22:39.749427: I external/local_tsl/tsl/framework/bfc_allocator.cc:1095] InUse at 7011a1000 of size 256 next 16\n",
      "2024-02-06 21:22:39.749436: I external/local_tsl/tsl/framework/bfc_allocator.cc:1095] InUse at 7011a1100 of size 256 next 19\n",
      "2024-02-06 21:22:39.749446: I external/local_tsl/tsl/framework/bfc_allocator.cc:1095] InUse at 7011a1200 of size 256 next 56\n",
      "2024-02-06 21:22:39.749455: I external/local_tsl/tsl/framework/bfc_allocator.cc:1095] InUse at 7011a1300 of size 256 next 22\n",
      "2024-02-06 21:22:39.749464: I external/local_tsl/tsl/framework/bfc_allocator.cc:1095] InUse at 7011a1400 of size 256 next 20\n",
      "2024-02-06 21:22:39.749474: I external/local_tsl/tsl/framework/bfc_allocator.cc:1095] InUse at 7011a1500 of size 256 next 21\n",
      "2024-02-06 21:22:39.749483: I external/local_tsl/tsl/framework/bfc_allocator.cc:1095] InUse at 7011a1600 of size 1024 next 25\n",
      "2024-02-06 21:22:39.749493: I external/local_tsl/tsl/framework/bfc_allocator.cc:1095] InUse at 7011a1a00 of size 256 next 26\n",
      "2024-02-06 21:22:39.749502: I external/local_tsl/tsl/framework/bfc_allocator.cc:1095] InUse at 7011a1b00 of size 256 next 29\n",
      "2024-02-06 21:22:39.749512: I external/local_tsl/tsl/framework/bfc_allocator.cc:1095] InUse at 7011a1c00 of size 1024 next 32\n",
      "2024-02-06 21:22:39.749521: I external/local_tsl/tsl/framework/bfc_allocator.cc:1095] InUse at 7011a2000 of size 1024 next 35\n",
      "2024-02-06 21:22:39.749530: I external/local_tsl/tsl/framework/bfc_allocator.cc:1095] InUse at 7011a2400 of size 512 next 47\n",
      "2024-02-06 21:22:39.749541: I external/local_tsl/tsl/framework/bfc_allocator.cc:1095] InUse at 7011a2600 of size 512 next 37\n",
      "2024-02-06 21:22:39.749552: I external/local_tsl/tsl/framework/bfc_allocator.cc:1095] InUse at 7011a2800 of size 256 next 30\n",
      "2024-02-06 21:22:39.749561: I external/local_tsl/tsl/framework/bfc_allocator.cc:1095] InUse at 7011a2900 of size 256 next 31\n",
      "2024-02-06 21:22:39.749571: I external/local_tsl/tsl/framework/bfc_allocator.cc:1095] InUse at 7011a2a00 of size 2048 next 39\n",
      "2024-02-06 21:22:39.749579: I external/local_tsl/tsl/framework/bfc_allocator.cc:1095] InUse at 7011a3200 of size 256 next 40\n",
      "2024-02-06 21:22:39.749589: I external/local_tsl/tsl/framework/bfc_allocator.cc:1095] InUse at 7011a3300 of size 256 next 43\n",
      "2024-02-06 21:22:39.749598: I external/local_tsl/tsl/framework/bfc_allocator.cc:1095] InUse at 7011a3400 of size 3072 next 8\n",
      "2024-02-06 21:22:39.749610: I external/local_tsl/tsl/framework/bfc_allocator.cc:1095] InUse at 7011a4000 of size 256 next 60\n",
      "2024-02-06 21:22:39.749620: I external/local_tsl/tsl/framework/bfc_allocator.cc:1095] InUse at 7011a4100 of size 512 next 17\n",
      "2024-02-06 21:22:39.749629: I external/local_tsl/tsl/framework/bfc_allocator.cc:1095] InUse at 7011a4300 of size 1024 next 28\n",
      "2024-02-06 21:22:39.749638: I external/local_tsl/tsl/framework/bfc_allocator.cc:1095] InUse at 7011a4700 of size 2048 next 41\n",
      "2024-02-06 21:22:39.749648: I external/local_tsl/tsl/framework/bfc_allocator.cc:1095] InUse at 7011a4f00 of size 2048 next 49\n",
      "2024-02-06 21:22:39.749657: I external/local_tsl/tsl/framework/bfc_allocator.cc:1095] InUse at 7011a5700 of size 2048 next 51\n",
      "2024-02-06 21:22:39.749667: I external/local_tsl/tsl/framework/bfc_allocator.cc:1095] InUse at 7011a5f00 of size 2048 next 53\n",
      "2024-02-06 21:22:39.749677: I external/local_tsl/tsl/framework/bfc_allocator.cc:1095] InUse at 7011a6700 of size 2048 next 55\n",
      "2024-02-06 21:22:39.749686: I external/local_tsl/tsl/framework/bfc_allocator.cc:1095] InUse at 7011a6f00 of size 2048 next 57\n",
      "2024-02-06 21:22:39.749696: I external/local_tsl/tsl/framework/bfc_allocator.cc:1095] InUse at 7011a7700 of size 512 next 59\n",
      "2024-02-06 21:22:39.749706: I external/local_tsl/tsl/framework/bfc_allocator.cc:1095] InUse at 7011a7900 of size 512 next 61\n",
      "2024-02-06 21:22:39.749715: I external/local_tsl/tsl/framework/bfc_allocator.cc:1095] InUse at 7011a7b00 of size 512 next 62\n",
      "2024-02-06 21:22:39.749725: I external/local_tsl/tsl/framework/bfc_allocator.cc:1095] InUse at 7011a7d00 of size 256 next 63\n",
      "2024-02-06 21:22:39.749734: I external/local_tsl/tsl/framework/bfc_allocator.cc:1095] InUse at 7011a7e00 of size 256 next 64\n",
      "2024-02-06 21:22:39.749744: I external/local_tsl/tsl/framework/bfc_allocator.cc:1095] InUse at 7011a7f00 of size 512 next 67\n",
      "2024-02-06 21:22:39.749754: I external/local_tsl/tsl/framework/bfc_allocator.cc:1095] InUse at 7011a8100 of size 512 next 65\n",
      "2024-02-06 21:22:39.749763: I external/local_tsl/tsl/framework/bfc_allocator.cc:1095] InUse at 7011a8300 of size 512 next 66\n",
      "2024-02-06 21:22:39.749773: I external/local_tsl/tsl/framework/bfc_allocator.cc:1095] InUse at 7011a8500 of size 512 next 70\n",
      "2024-02-06 21:22:39.749783: I external/local_tsl/tsl/framework/bfc_allocator.cc:1095] InUse at 7011a8700 of size 512 next 71\n",
      "2024-02-06 21:22:39.749792: I external/local_tsl/tsl/framework/bfc_allocator.cc:1095] InUse at 7011a8900 of size 256 next 72\n",
      "2024-02-06 21:22:39.749802: I external/local_tsl/tsl/framework/bfc_allocator.cc:1095] InUse at 7011a8a00 of size 256 next 58\n",
      "2024-02-06 21:22:39.749811: I external/local_tsl/tsl/framework/bfc_allocator.cc:1095] InUse at 7011a8b00 of size 256 next 46\n",
      "2024-02-06 21:22:39.749821: I external/local_tsl/tsl/framework/bfc_allocator.cc:1095] InUse at 7011a8c00 of size 6912 next 44\n",
      "2024-02-06 21:22:39.749832: I external/local_tsl/tsl/framework/bfc_allocator.cc:1095] InUse at 7011aa700 of size 275456 next 14\n",
      "2024-02-06 21:22:39.749843: I external/local_tsl/tsl/framework/bfc_allocator.cc:1095] InUse at 7011edb00 of size 442368 next 18\n",
      "2024-02-06 21:22:39.749853: I external/local_tsl/tsl/framework/bfc_allocator.cc:1095] InUse at 701259b00 of size 2064384 next 23\n",
      "2024-02-06 21:22:39.749863: I external/local_tsl/tsl/framework/bfc_allocator.cc:1095] InUse at 701451b00 of size 589824 next 13\n",
      "2024-02-06 21:22:39.749873: I external/local_tsl/tsl/framework/bfc_allocator.cc:1095] InUse at 7014e1b00 of size 2359296 next 33\n",
      "2024-02-06 21:22:39.749884: I external/local_tsl/tsl/framework/bfc_allocator.cc:1095] InUse at 701721b00 of size 4718592 next 36\n",
      "2024-02-06 21:22:39.749896: I external/local_tsl/tsl/framework/bfc_allocator.cc:1095] InUse at 701ba1b00 of size 256 next 75\n",
      "2024-02-06 21:22:39.749905: I external/local_tsl/tsl/framework/bfc_allocator.cc:1095] InUse at 701ba1c00 of size 256 next 73\n",
      "2024-02-06 21:22:39.749915: I external/local_tsl/tsl/framework/bfc_allocator.cc:1095] InUse at 701ba1d00 of size 256 next 74\n",
      "2024-02-06 21:22:39.749925: I external/local_tsl/tsl/framework/bfc_allocator.cc:1095] InUse at 701ba1e00 of size 256 next 78\n",
      "2024-02-06 21:22:39.749935: I external/local_tsl/tsl/framework/bfc_allocator.cc:1095] InUse at 701ba1f00 of size 256 next 79\n",
      "2024-02-06 21:22:39.749945: I external/local_tsl/tsl/framework/bfc_allocator.cc:1095] InUse at 701ba2000 of size 256 next 81\n",
      "2024-02-06 21:22:39.749954: I external/local_tsl/tsl/framework/bfc_allocator.cc:1095] InUse at 701ba2100 of size 256 next 82\n",
      "2024-02-06 21:22:39.749972: I external/local_tsl/tsl/framework/bfc_allocator.cc:1095] InUse at 701ba2200 of size 256 next 80\n",
      "2024-02-06 21:22:39.749983: I external/local_tsl/tsl/framework/bfc_allocator.cc:1095] InUse at 701ba2300 of size 256 next 83\n",
      "2024-02-06 21:22:39.749992: I external/local_tsl/tsl/framework/bfc_allocator.cc:1095] InUse at 701ba2400 of size 256 next 85\n",
      "2024-02-06 21:22:39.750002: I external/local_tsl/tsl/framework/bfc_allocator.cc:1095] InUse at 701ba2500 of size 256 next 86\n",
      "2024-02-06 21:22:39.750027: I external/local_tsl/tsl/framework/bfc_allocator.cc:1095] InUse at 701ba2600 of size 256 next 87\n",
      "2024-02-06 21:22:39.750039: I external/local_tsl/tsl/framework/bfc_allocator.cc:1095] InUse at 701ba2700 of size 256 next 90\n",
      "2024-02-06 21:22:39.750049: I external/local_tsl/tsl/framework/bfc_allocator.cc:1095] InUse at 701ba2800 of size 256 next 88\n",
      "2024-02-06 21:22:39.750059: I external/local_tsl/tsl/framework/bfc_allocator.cc:1095] InUse at 701ba2900 of size 256 next 89\n",
      "2024-02-06 21:22:39.750068: I external/local_tsl/tsl/framework/bfc_allocator.cc:1095] InUse at 701ba2a00 of size 256 next 93\n",
      "2024-02-06 21:22:39.750078: I external/local_tsl/tsl/framework/bfc_allocator.cc:1095] InUse at 701ba2b00 of size 256 next 94\n",
      "2024-02-06 21:22:39.750087: I external/local_tsl/tsl/framework/bfc_allocator.cc:1095] InUse at 701ba2c00 of size 256 next 95\n",
      "2024-02-06 21:22:39.750097: I external/local_tsl/tsl/framework/bfc_allocator.cc:1095] InUse at 701ba2d00 of size 256 next 96\n",
      "2024-02-06 21:22:39.750106: I external/local_tsl/tsl/framework/bfc_allocator.cc:1095] InUse at 701ba2e00 of size 256 next 98\n",
      "2024-02-06 21:22:39.750116: I external/local_tsl/tsl/framework/bfc_allocator.cc:1095] InUse at 701ba2f00 of size 256 next 99\n",
      "2024-02-06 21:22:39.750125: I external/local_tsl/tsl/framework/bfc_allocator.cc:1095] InUse at 701ba3000 of size 256 next 97\n",
      "2024-02-06 21:22:39.750135: I external/local_tsl/tsl/framework/bfc_allocator.cc:1095] InUse at 701ba3100 of size 256 next 100\n",
      "2024-02-06 21:22:39.750144: I external/local_tsl/tsl/framework/bfc_allocator.cc:1095] InUse at 701ba3200 of size 256 next 102\n",
      "2024-02-06 21:22:39.750153: I external/local_tsl/tsl/framework/bfc_allocator.cc:1095] InUse at 701ba3300 of size 256 next 103\n",
      "2024-02-06 21:22:39.750163: I external/local_tsl/tsl/framework/bfc_allocator.cc:1095] InUse at 701ba3400 of size 256 next 104\n",
      "2024-02-06 21:22:39.750173: I external/local_tsl/tsl/framework/bfc_allocator.cc:1095] InUse at 701ba3500 of size 164864 next 101\n",
      "2024-02-06 21:22:39.750185: I external/local_tsl/tsl/framework/bfc_allocator.cc:1095] InUse at 701bcb900 of size 125440 next 84\n",
      "2024-02-06 21:22:39.750197: I external/local_tsl/tsl/framework/bfc_allocator.cc:1095] InUse at 701bea300 of size 163840 next 69\n",
      "2024-02-06 21:22:39.750209: I external/local_tsl/tsl/framework/bfc_allocator.cc:1095] InUse at 701c12300 of size 230400 next 68\n",
      "2024-02-06 21:22:39.750219: I external/local_tsl/tsl/framework/bfc_allocator.cc:1095] InUse at 701c4a700 of size 294912 next 155\n",
      "2024-02-06 21:22:39.750229: I external/local_tsl/tsl/framework/bfc_allocator.cc:1095] InUse at 701c92700 of size 368640 next 92\n",
      "2024-02-06 21:22:39.750238: I external/local_tsl/tsl/framework/bfc_allocator.cc:1095] InUse at 701cec700 of size 331776 next 91\n",
      "2024-02-06 21:22:39.750248: I external/local_tsl/tsl/framework/bfc_allocator.cc:1095] InUse at 701d3d700 of size 256 next 106\n",
      "2024-02-06 21:22:39.750258: I external/local_tsl/tsl/framework/bfc_allocator.cc:1095] InUse at 701d3d800 of size 256 next 105\n",
      "2024-02-06 21:22:39.750267: I external/local_tsl/tsl/framework/bfc_allocator.cc:1095] InUse at 701d3d900 of size 256 next 107\n",
      "2024-02-06 21:22:39.750277: I external/local_tsl/tsl/framework/bfc_allocator.cc:1095] InUse at 701d3da00 of size 256 next 110\n",
      "2024-02-06 21:22:39.750287: I external/local_tsl/tsl/framework/bfc_allocator.cc:1095] InUse at 701d3db00 of size 256 next 111\n",
      "2024-02-06 21:22:39.750296: I external/local_tsl/tsl/framework/bfc_allocator.cc:1095] InUse at 701d3dc00 of size 256 next 112\n",
      "2024-02-06 21:22:39.750306: I external/local_tsl/tsl/framework/bfc_allocator.cc:1095] InUse at 701d3dd00 of size 256 next 113\n",
      "2024-02-06 21:22:39.750315: I external/local_tsl/tsl/framework/bfc_allocator.cc:1095] InUse at 701d3de00 of size 256 next 115\n",
      "2024-02-06 21:22:39.750325: I external/local_tsl/tsl/framework/bfc_allocator.cc:1095] InUse at 701d3df00 of size 256 next 116\n",
      "2024-02-06 21:22:39.750334: I external/local_tsl/tsl/framework/bfc_allocator.cc:1095] InUse at 701d3e000 of size 256 next 114\n",
      "2024-02-06 21:22:39.750343: I external/local_tsl/tsl/framework/bfc_allocator.cc:1095] InUse at 701d3e100 of size 256 next 117\n",
      "2024-02-06 21:22:39.750353: I external/local_tsl/tsl/framework/bfc_allocator.cc:1095] InUse at 701d3e200 of size 256 next 119\n",
      "2024-02-06 21:22:39.750362: I external/local_tsl/tsl/framework/bfc_allocator.cc:1095] InUse at 701d3e300 of size 256 next 120\n",
      "2024-02-06 21:22:39.750372: I external/local_tsl/tsl/framework/bfc_allocator.cc:1095] InUse at 701d3e400 of size 256 next 121\n",
      "2024-02-06 21:22:39.750381: I external/local_tsl/tsl/framework/bfc_allocator.cc:1095] InUse at 701d3e500 of size 256 next 123\n",
      "2024-02-06 21:22:39.750390: I external/local_tsl/tsl/framework/bfc_allocator.cc:1095] InUse at 701d3e600 of size 256 next 124\n",
      "2024-02-06 21:22:39.750400: I external/local_tsl/tsl/framework/bfc_allocator.cc:1095] InUse at 701d3e700 of size 256 next 122\n",
      "2024-02-06 21:22:39.750409: I external/local_tsl/tsl/framework/bfc_allocator.cc:1095] InUse at 701d3e800 of size 256 next 125\n",
      "2024-02-06 21:22:39.750418: I external/local_tsl/tsl/framework/bfc_allocator.cc:1095] InUse at 701d3e900 of size 256 next 127\n",
      "2024-02-06 21:22:39.750428: I external/local_tsl/tsl/framework/bfc_allocator.cc:1095] InUse at 701d3ea00 of size 256 next 128\n",
      "2024-02-06 21:22:39.750437: I external/local_tsl/tsl/framework/bfc_allocator.cc:1095] InUse at 701d3eb00 of size 256 next 129\n",
      "2024-02-06 21:22:39.750447: I external/local_tsl/tsl/framework/bfc_allocator.cc:1095] InUse at 701d3ec00 of size 6912 next 150\n",
      "2024-02-06 21:22:39.750460: I external/local_tsl/tsl/framework/bfc_allocator.cc:1095] InUse at 701d40700 of size 12288 next 134\n",
      "2024-02-06 21:22:39.750478: I external/local_tsl/tsl/framework/bfc_allocator.cc:1095] InUse at 701d43700 of size 9216 next 135\n",
      "2024-02-06 21:22:39.750490: I external/local_tsl/tsl/framework/bfc_allocator.cc:1095] InUse at 701d45b00 of size 256 next 131\n",
      "2024-02-06 21:22:39.750499: I external/local_tsl/tsl/framework/bfc_allocator.cc:1095] InUse at 701d45c00 of size 256 next 132\n",
      "2024-02-06 21:22:39.750509: I external/local_tsl/tsl/framework/bfc_allocator.cc:1095] InUse at 701d45d00 of size 256 next 130\n",
      "2024-02-06 21:22:39.750519: I external/local_tsl/tsl/framework/bfc_allocator.cc:1095] InUse at 701d45e00 of size 256 next 133\n",
      "2024-02-06 21:22:39.750528: I external/local_tsl/tsl/framework/bfc_allocator.cc:1095] InUse at 701d45f00 of size 256 next 136\n",
      "2024-02-06 21:22:39.750538: I external/local_tsl/tsl/framework/bfc_allocator.cc:1095] InUse at 701d46000 of size 256 next 137\n",
      "2024-02-06 21:22:39.750547: I external/local_tsl/tsl/framework/bfc_allocator.cc:1095] InUse at 701d46100 of size 256 next 138\n",
      "2024-02-06 21:22:39.750557: I external/local_tsl/tsl/framework/bfc_allocator.cc:1095] InUse at 701d46200 of size 256 next 140\n",
      "2024-02-06 21:22:39.750566: I external/local_tsl/tsl/framework/bfc_allocator.cc:1095] InUse at 701d46300 of size 256 next 139\n",
      "2024-02-06 21:22:39.750576: I external/local_tsl/tsl/framework/bfc_allocator.cc:1095] InUse at 701d46400 of size 256 next 141\n",
      "2024-02-06 21:22:39.750586: I external/local_tsl/tsl/framework/bfc_allocator.cc:1095] InUse at 701d46500 of size 256 next 142\n",
      "2024-02-06 21:22:39.750596: I external/local_tsl/tsl/framework/bfc_allocator.cc:1095] InUse at 701d46600 of size 256 next 143\n",
      "2024-02-06 21:22:39.750605: I external/local_tsl/tsl/framework/bfc_allocator.cc:1095] InUse at 701d46700 of size 256 next 144\n",
      "2024-02-06 21:22:39.750615: I external/local_tsl/tsl/framework/bfc_allocator.cc:1095] InUse at 701d46800 of size 256 next 145\n",
      "2024-02-06 21:22:39.750624: I external/local_tsl/tsl/framework/bfc_allocator.cc:1095] InUse at 701d46900 of size 256 next 146\n",
      "2024-02-06 21:22:39.750634: I external/local_tsl/tsl/framework/bfc_allocator.cc:1095] InUse at 701d46a00 of size 256 next 147\n",
      "2024-02-06 21:22:39.750644: I external/local_tsl/tsl/framework/bfc_allocator.cc:1095] InUse at 701d46b00 of size 256 next 148\n",
      "2024-02-06 21:22:39.750654: I external/local_tsl/tsl/framework/bfc_allocator.cc:1095] InUse at 701d46c00 of size 256 next 149\n",
      "2024-02-06 21:22:39.750663: I external/local_tsl/tsl/framework/bfc_allocator.cc:1095] InUse at 701d46d00 of size 256 next 151\n",
      "2024-02-06 21:22:39.750673: I external/local_tsl/tsl/framework/bfc_allocator.cc:1095] InUse at 701d46e00 of size 256 next 152\n",
      "2024-02-06 21:22:39.750682: I external/local_tsl/tsl/framework/bfc_allocator.cc:1095] InUse at 701d46f00 of size 256 next 153\n",
      "2024-02-06 21:22:39.750692: I external/local_tsl/tsl/framework/bfc_allocator.cc:1095] InUse at 701d47000 of size 256 next 154\n",
      "2024-02-06 21:22:39.750703: I external/local_tsl/tsl/framework/bfc_allocator.cc:1095] InUse at 701d47100 of size 512 next 156\n",
      "2024-02-06 21:22:39.750713: I external/local_tsl/tsl/framework/bfc_allocator.cc:1095] InUse at 701d47300 of size 512 next 157\n",
      "2024-02-06 21:22:39.750723: I external/local_tsl/tsl/framework/bfc_allocator.cc:1095] InUse at 701d47500 of size 512 next 160\n",
      "2024-02-06 21:22:39.750732: I external/local_tsl/tsl/framework/bfc_allocator.cc:1095] InUse at 701d47700 of size 512 next 161\n",
      "2024-02-06 21:22:39.750742: I external/local_tsl/tsl/framework/bfc_allocator.cc:1095] InUse at 701d47900 of size 1024 next 163\n",
      "2024-02-06 21:22:39.750752: I external/local_tsl/tsl/framework/bfc_allocator.cc:1095] InUse at 701d47d00 of size 1024 next 164\n",
      "2024-02-06 21:22:39.750761: I external/local_tsl/tsl/framework/bfc_allocator.cc:1095] InUse at 701d48100 of size 1280 next 126\n",
      "2024-02-06 21:22:39.750772: I external/local_tsl/tsl/framework/bfc_allocator.cc:1095] InUse at 701d48600 of size 31488 next 118\n",
      "2024-02-06 21:22:39.750781: I external/local_tsl/tsl/framework/bfc_allocator.cc:1095] InUse at 701d50100 of size 52992 next 108\n",
      "2024-02-06 21:22:39.750791: I external/local_tsl/tsl/framework/bfc_allocator.cc:1095] InUse at 701d5d000 of size 129024 next 109\n",
      "2024-02-06 21:22:39.750801: I external/local_tsl/tsl/framework/bfc_allocator.cc:1095] InUse at 701d7c800 of size 294656 next 77\n",
      "2024-02-06 21:22:39.750811: I external/local_tsl/tsl/framework/bfc_allocator.cc:1095] InUse at 701dc4700 of size 774144 next 76\n",
      "2024-02-06 21:22:39.750820: I external/local_tsl/tsl/framework/bfc_allocator.cc:1095] InUse at 701e81700 of size 589824 next 158\n",
      "2024-02-06 21:22:39.750829: I external/local_tsl/tsl/framework/bfc_allocator.cc:1095] InUse at 701f11700 of size 589824 next 159\n",
      "2024-02-06 21:22:39.750839: I external/local_tsl/tsl/framework/bfc_allocator.cc:1095] InUse at 701fa1700 of size 2294784 next 38\n",
      "2024-02-06 21:22:39.750849: I external/local_tsl/tsl/framework/bfc_allocator.cc:1095] InUse at 7021d1b00 of size 2359296 next 27\n",
      "2024-02-06 21:22:39.750858: I external/local_tsl/tsl/framework/bfc_allocator.cc:1095] InUse at 702411b00 of size 2359296 next 42\n",
      "2024-02-06 21:22:39.750868: I external/local_tsl/tsl/framework/bfc_allocator.cc:1095] InUse at 702651b00 of size 9437184 next 34\n",
      "2024-02-06 21:22:39.750877: I external/local_tsl/tsl/framework/bfc_allocator.cc:1095] InUse at 702f51b00 of size 9437184 next 48\n",
      "2024-02-06 21:22:39.750887: I external/local_tsl/tsl/framework/bfc_allocator.cc:1095] InUse at 703851b00 of size 9437184 next 9\n",
      "2024-02-06 21:22:39.750896: I external/local_tsl/tsl/framework/bfc_allocator.cc:1095] InUse at 704151b00 of size 9437184 next 45\n",
      "2024-02-06 21:22:39.750906: I external/local_tsl/tsl/framework/bfc_allocator.cc:1095] InUse at 704a51b00 of size 9437184 next 50\n",
      "2024-02-06 21:22:39.750915: I external/local_tsl/tsl/framework/bfc_allocator.cc:1095] InUse at 705351b00 of size 9437184 next 52\n",
      "2024-02-06 21:22:39.750924: I external/local_tsl/tsl/framework/bfc_allocator.cc:1095] InUse at 705c51b00 of size 9437184 next 54\n",
      "2024-02-06 21:22:39.750934: I external/local_tsl/tsl/framework/bfc_allocator.cc:1095] InUse at 706551b00 of size 2949120 next 24\n",
      "2024-02-06 21:22:39.750945: I external/local_tsl/tsl/framework/bfc_allocator.cc:1095] InUse at 706821b00 of size 1179648 next 162\n",
      "2024-02-06 21:22:39.750955: I external/local_tsl/tsl/framework/bfc_allocator.cc:1095] InUse at 706941b00 of size 2359296 next 165\n",
      "2024-02-06 21:22:39.750964: I external/local_tsl/tsl/framework/bfc_allocator.cc:1095] InUse at 706b81b00 of size 2359296 next 166\n",
      "2024-02-06 21:22:39.750976: I external/local_tsl/tsl/framework/bfc_allocator.cc:1095] InUse at 706dc1b00 of size 1024 next 167\n",
      "2024-02-06 21:22:39.750987: I external/local_tsl/tsl/framework/bfc_allocator.cc:1095] InUse at 706dc1f00 of size 2359296 next 168\n",
      "2024-02-06 21:22:39.750997: I external/local_tsl/tsl/framework/bfc_allocator.cc:1095] InUse at 707001f00 of size 2359296 next 169\n",
      "2024-02-06 21:22:39.751006: I external/local_tsl/tsl/framework/bfc_allocator.cc:1095] InUse at 707241f00 of size 1024 next 170\n",
      "2024-02-06 21:22:39.751015: I external/local_tsl/tsl/framework/bfc_allocator.cc:1095] InUse at 707242300 of size 1024 next 171\n",
      "2024-02-06 21:22:39.751025: I external/local_tsl/tsl/framework/bfc_allocator.cc:1095] InUse at 707242700 of size 2359296 next 172\n",
      "2024-02-06 21:22:39.751034: I external/local_tsl/tsl/framework/bfc_allocator.cc:1095] InUse at 707482700 of size 2359296 next 173\n",
      "2024-02-06 21:22:39.751043: I external/local_tsl/tsl/framework/bfc_allocator.cc:1095] InUse at 7076c2700 of size 1024 next 174\n",
      "2024-02-06 21:22:39.751053: I external/local_tsl/tsl/framework/bfc_allocator.cc:1095] InUse at 7076c2b00 of size 1024 next 175\n",
      "2024-02-06 21:22:39.751062: I external/local_tsl/tsl/framework/bfc_allocator.cc:1095] InUse at 7076c2f00 of size 4718592 next 176\n",
      "2024-02-06 21:22:39.751071: I external/local_tsl/tsl/framework/bfc_allocator.cc:1095] InUse at 707b42f00 of size 4718592 next 177\n",
      "2024-02-06 21:22:39.751080: I external/local_tsl/tsl/framework/bfc_allocator.cc:1095] InUse at 707fc2f00 of size 2048 next 178\n",
      "2024-02-06 21:22:39.751090: I external/local_tsl/tsl/framework/bfc_allocator.cc:1095] InUse at 707fc3700 of size 2048 next 179\n",
      "2024-02-06 21:22:39.751099: I external/local_tsl/tsl/framework/bfc_allocator.cc:1095] InUse at 707fc3f00 of size 9437184 next 180\n",
      "2024-02-06 21:22:39.751108: I external/local_tsl/tsl/framework/bfc_allocator.cc:1095] InUse at 7088c3f00 of size 9437184 next 181\n",
      "2024-02-06 21:22:39.751118: I external/local_tsl/tsl/framework/bfc_allocator.cc:1095] InUse at 7091c3f00 of size 2048 next 182\n",
      "2024-02-06 21:22:39.751127: I external/local_tsl/tsl/framework/bfc_allocator.cc:1095] InUse at 7091c4700 of size 2048 next 183\n",
      "2024-02-06 21:22:39.751137: I external/local_tsl/tsl/framework/bfc_allocator.cc:1095] InUse at 7091c4f00 of size 9437184 next 184\n",
      "2024-02-06 21:22:39.751146: I external/local_tsl/tsl/framework/bfc_allocator.cc:1095] InUse at 709ac4f00 of size 9437184 next 185\n",
      "2024-02-06 21:22:39.751155: I external/local_tsl/tsl/framework/bfc_allocator.cc:1095] InUse at 70a3c4f00 of size 2048 next 186\n",
      "2024-02-06 21:22:39.751165: I external/local_tsl/tsl/framework/bfc_allocator.cc:1095] InUse at 70a3c5700 of size 2048 next 187\n",
      "2024-02-06 21:22:39.751174: I external/local_tsl/tsl/framework/bfc_allocator.cc:1095] InUse at 70a3c5f00 of size 9437184 next 188\n",
      "2024-02-06 21:22:39.751183: I external/local_tsl/tsl/framework/bfc_allocator.cc:1095] InUse at 70acc5f00 of size 9437184 next 189\n",
      "2024-02-06 21:22:39.751193: I external/local_tsl/tsl/framework/bfc_allocator.cc:1095] InUse at 70b5c5f00 of size 2048 next 190\n",
      "2024-02-06 21:22:39.751202: I external/local_tsl/tsl/framework/bfc_allocator.cc:1095] InUse at 70b5c6700 of size 2048 next 191\n",
      "2024-02-06 21:22:39.751212: I external/local_tsl/tsl/framework/bfc_allocator.cc:1095] InUse at 70b5c6f00 of size 9437184 next 192\n",
      "2024-02-06 21:22:39.751222: I external/local_tsl/tsl/framework/bfc_allocator.cc:1095] InUse at 70bec6f00 of size 9437184 next 193\n",
      "2024-02-06 21:22:39.751231: I external/local_tsl/tsl/framework/bfc_allocator.cc:1095] InUse at 70c7c6f00 of size 2048 next 194\n",
      "2024-02-06 21:22:39.751242: I external/local_tsl/tsl/framework/bfc_allocator.cc:1095] InUse at 70c7c7700 of size 2048 next 195\n",
      "2024-02-06 21:22:39.751252: I external/local_tsl/tsl/framework/bfc_allocator.cc:1095] InUse at 70c7c7f00 of size 9437184 next 196\n",
      "2024-02-06 21:22:39.751261: I external/local_tsl/tsl/framework/bfc_allocator.cc:1095] InUse at 70d0c7f00 of size 9437184 next 197\n",
      "2024-02-06 21:22:39.751270: I external/local_tsl/tsl/framework/bfc_allocator.cc:1095] InUse at 70d9c7f00 of size 2048 next 198\n",
      "2024-02-06 21:22:39.751280: I external/local_tsl/tsl/framework/bfc_allocator.cc:1095] InUse at 70d9c8700 of size 2048 next 199\n",
      "2024-02-06 21:22:39.751289: I external/local_tsl/tsl/framework/bfc_allocator.cc:1095] InUse at 70d9c8f00 of size 9437184 next 200\n",
      "2024-02-06 21:22:39.751298: I external/local_tsl/tsl/framework/bfc_allocator.cc:1095] InUse at 70e2c8f00 of size 9437184 next 201\n",
      "2024-02-06 21:22:39.751308: I external/local_tsl/tsl/framework/bfc_allocator.cc:1095] InUse at 70ebc8f00 of size 2048 next 202\n",
      "2024-02-06 21:22:39.751317: I external/local_tsl/tsl/framework/bfc_allocator.cc:1095] InUse at 70ebc9700 of size 2048 next 203\n",
      "2024-02-06 21:22:39.751326: I external/local_tsl/tsl/framework/bfc_allocator.cc:1095] InUse at 70ebc9f00 of size 9437184 next 204\n",
      "2024-02-06 21:22:39.751336: I external/local_tsl/tsl/framework/bfc_allocator.cc:1095] InUse at 70f4c9f00 of size 9437184 next 205\n",
      "2024-02-06 21:22:39.751345: I external/local_tsl/tsl/framework/bfc_allocator.cc:1095] InUse at 70fdc9f00 of size 2048 next 206\n",
      "2024-02-06 21:22:39.751355: I external/local_tsl/tsl/framework/bfc_allocator.cc:1095] InUse at 70fdca700 of size 2048 next 207\n",
      "2024-02-06 21:22:39.751364: I external/local_tsl/tsl/framework/bfc_allocator.cc:1095] InUse at 70fdcaf00 of size 2949120 next 208\n",
      "2024-02-06 21:22:39.751374: I external/local_tsl/tsl/framework/bfc_allocator.cc:1095] InUse at 71009af00 of size 2949120 next 209\n",
      "2024-02-06 21:22:39.751383: I external/local_tsl/tsl/framework/bfc_allocator.cc:1095] InUse at 71036af00 of size 512 next 210\n",
      "2024-02-06 21:22:39.751393: I external/local_tsl/tsl/framework/bfc_allocator.cc:1095] InUse at 71036b100 of size 512 next 211\n",
      "2024-02-06 21:22:39.751402: I external/local_tsl/tsl/framework/bfc_allocator.cc:1095] InUse at 71036b300 of size 512 next 212\n",
      "2024-02-06 21:22:39.751411: I external/local_tsl/tsl/framework/bfc_allocator.cc:1095] InUse at 71036b500 of size 512 next 213\n",
      "2024-02-06 21:22:39.751421: I external/local_tsl/tsl/framework/bfc_allocator.cc:1095] InUse at 71036b700 of size 512 next 214\n",
      "2024-02-06 21:22:39.751430: I external/local_tsl/tsl/framework/bfc_allocator.cc:1095] InUse at 71036b900 of size 512 next 215\n",
      "2024-02-06 21:22:39.751439: I external/local_tsl/tsl/framework/bfc_allocator.cc:1095] InUse at 71036bb00 of size 230400 next 216\n",
      "2024-02-06 21:22:39.751449: I external/local_tsl/tsl/framework/bfc_allocator.cc:1095] InUse at 7103a3f00 of size 230400 next 217\n",
      "2024-02-06 21:22:39.751458: I external/local_tsl/tsl/framework/bfc_allocator.cc:1095] InUse at 7103dc300 of size 512 next 218\n",
      "2024-02-06 21:22:39.751468: I external/local_tsl/tsl/framework/bfc_allocator.cc:1095] InUse at 7103dc500 of size 512 next 219\n",
      "2024-02-06 21:22:39.751477: I external/local_tsl/tsl/framework/bfc_allocator.cc:1095] InUse at 7103dc700 of size 512 next 220\n",
      "2024-02-06 21:22:39.751488: I external/local_tsl/tsl/framework/bfc_allocator.cc:1095] InUse at 7103dc900 of size 512 next 221\n",
      "2024-02-06 21:22:39.751498: I external/local_tsl/tsl/framework/bfc_allocator.cc:1095] InUse at 7103dcb00 of size 512 next 222\n",
      "2024-02-06 21:22:39.751508: I external/local_tsl/tsl/framework/bfc_allocator.cc:1095] InUse at 7103dcd00 of size 512 next 223\n",
      "2024-02-06 21:22:39.751517: I external/local_tsl/tsl/framework/bfc_allocator.cc:1095] InUse at 7103dcf00 of size 774144 next 224\n",
      "2024-02-06 21:22:39.751527: I external/local_tsl/tsl/framework/bfc_allocator.cc:1095] InUse at 710499f00 of size 774144 next 225\n",
      "2024-02-06 21:22:39.751536: I external/local_tsl/tsl/framework/bfc_allocator.cc:1095] InUse at 710556f00 of size 256 next 226\n",
      "2024-02-06 21:22:39.751545: I external/local_tsl/tsl/framework/bfc_allocator.cc:1095] InUse at 710557000 of size 256 next 227\n",
      "2024-02-06 21:22:39.751554: I external/local_tsl/tsl/framework/bfc_allocator.cc:1095] InUse at 710557100 of size 256 next 228\n",
      "2024-02-06 21:22:39.751563: I external/local_tsl/tsl/framework/bfc_allocator.cc:1095] InUse at 710557200 of size 256 next 229\n",
      "2024-02-06 21:22:39.751571: I external/local_tsl/tsl/framework/bfc_allocator.cc:1095] InUse at 710557300 of size 256 next 230\n",
      "2024-02-06 21:22:39.751580: I external/local_tsl/tsl/framework/bfc_allocator.cc:1095] InUse at 710557400 of size 256 next 231\n",
      "2024-02-06 21:22:39.751589: I external/local_tsl/tsl/framework/bfc_allocator.cc:1095] InUse at 710557500 of size 147456 next 232\n",
      "2024-02-06 21:22:39.751599: I external/local_tsl/tsl/framework/bfc_allocator.cc:1095] InUse at 71057b500 of size 147456 next 233\n",
      "2024-02-06 21:22:39.751609: I external/local_tsl/tsl/framework/bfc_allocator.cc:1095] InUse at 71059f500 of size 256 next 234\n",
      "2024-02-06 21:22:39.751618: I external/local_tsl/tsl/framework/bfc_allocator.cc:1095] InUse at 71059f600 of size 256 next 235\n",
      "2024-02-06 21:22:39.751627: I external/local_tsl/tsl/framework/bfc_allocator.cc:1095] InUse at 71059f700 of size 256 next 236\n",
      "2024-02-06 21:22:39.751637: I external/local_tsl/tsl/framework/bfc_allocator.cc:1095] InUse at 71059f800 of size 256 next 237\n",
      "2024-02-06 21:22:39.751646: I external/local_tsl/tsl/framework/bfc_allocator.cc:1095] InUse at 71059f900 of size 256 next 238\n",
      "2024-02-06 21:22:39.751655: I external/local_tsl/tsl/framework/bfc_allocator.cc:1095] InUse at 71059fa00 of size 256 next 239\n",
      "2024-02-06 21:22:39.751665: I external/local_tsl/tsl/framework/bfc_allocator.cc:1095] InUse at 71059fb00 of size 331776 next 240\n",
      "2024-02-06 21:22:39.751674: I external/local_tsl/tsl/framework/bfc_allocator.cc:1095] InUse at 7105f0b00 of size 331776 next 241\n",
      "2024-02-06 21:22:39.751683: I external/local_tsl/tsl/framework/bfc_allocator.cc:1095] InUse at 710641b00 of size 256 next 242\n",
      "2024-02-06 21:22:39.751692: I external/local_tsl/tsl/framework/bfc_allocator.cc:1095] InUse at 710641c00 of size 256 next 243\n",
      "2024-02-06 21:22:39.751702: I external/local_tsl/tsl/framework/bfc_allocator.cc:1095] InUse at 710641d00 of size 256 next 244\n",
      "2024-02-06 21:22:39.751711: I external/local_tsl/tsl/framework/bfc_allocator.cc:1095] InUse at 710641e00 of size 256 next 245\n",
      "2024-02-06 21:22:39.751720: I external/local_tsl/tsl/framework/bfc_allocator.cc:1095] InUse at 710641f00 of size 256 next 246\n",
      "2024-02-06 21:22:39.751730: I external/local_tsl/tsl/framework/bfc_allocator.cc:1095] InUse at 710642000 of size 256 next 247\n",
      "2024-02-06 21:22:39.751739: I external/local_tsl/tsl/framework/bfc_allocator.cc:1095] InUse at 710642100 of size 82944 next 248\n",
      "2024-02-06 21:22:39.751753: I external/local_tsl/tsl/framework/bfc_allocator.cc:1095] InUse at 710656500 of size 82944 next 249\n",
      "2024-02-06 21:22:39.751763: I external/local_tsl/tsl/framework/bfc_allocator.cc:1095] InUse at 71066a900 of size 256 next 250\n",
      "2024-02-06 21:22:39.751772: I external/local_tsl/tsl/framework/bfc_allocator.cc:1095] InUse at 71066aa00 of size 256 next 251\n",
      "2024-02-06 21:22:39.751781: I external/local_tsl/tsl/framework/bfc_allocator.cc:1095] InUse at 71066ab00 of size 256 next 252\n",
      "2024-02-06 21:22:39.751791: I external/local_tsl/tsl/framework/bfc_allocator.cc:1095] InUse at 71066ac00 of size 256 next 253\n",
      "2024-02-06 21:22:39.751800: I external/local_tsl/tsl/framework/bfc_allocator.cc:1095] InUse at 71066ad00 of size 256 next 254\n",
      "2024-02-06 21:22:39.751809: I external/local_tsl/tsl/framework/bfc_allocator.cc:1095] InUse at 71066ae00 of size 256 next 255\n",
      "2024-02-06 21:22:39.751818: I external/local_tsl/tsl/framework/bfc_allocator.cc:1095] InUse at 71066af00 of size 129024 next 256\n",
      "2024-02-06 21:22:39.751828: I external/local_tsl/tsl/framework/bfc_allocator.cc:1095] InUse at 71068a700 of size 129024 next 257\n",
      "2024-02-06 21:22:39.751837: I external/local_tsl/tsl/framework/bfc_allocator.cc:1095] InUse at 7106a9f00 of size 256 next 258\n",
      "2024-02-06 21:22:39.751846: I external/local_tsl/tsl/framework/bfc_allocator.cc:1095] InUse at 7106aa000 of size 256 next 259\n",
      "2024-02-06 21:22:39.751856: I external/local_tsl/tsl/framework/bfc_allocator.cc:1095] InUse at 7106aa100 of size 256 next 260\n",
      "2024-02-06 21:22:39.751865: I external/local_tsl/tsl/framework/bfc_allocator.cc:1095] InUse at 7106aa200 of size 256 next 261\n",
      "2024-02-06 21:22:39.751875: I external/local_tsl/tsl/framework/bfc_allocator.cc:1095] InUse at 7106aa300 of size 256 next 262\n",
      "2024-02-06 21:22:39.751884: I external/local_tsl/tsl/framework/bfc_allocator.cc:1095] InUse at 7106aa400 of size 256 next 263\n",
      "2024-02-06 21:22:39.751893: I external/local_tsl/tsl/framework/bfc_allocator.cc:1095] InUse at 7106aa500 of size 36864 next 264\n",
      "2024-02-06 21:22:39.751903: I external/local_tsl/tsl/framework/bfc_allocator.cc:1095] InUse at 7106b3500 of size 36864 next 265\n",
      "2024-02-06 21:22:39.751912: I external/local_tsl/tsl/framework/bfc_allocator.cc:1095] InUse at 7106bc500 of size 256 next 266\n",
      "2024-02-06 21:22:39.751922: I external/local_tsl/tsl/framework/bfc_allocator.cc:1095] InUse at 7106bc600 of size 256 next 267\n",
      "2024-02-06 21:22:39.751931: I external/local_tsl/tsl/framework/bfc_allocator.cc:1095] InUse at 7106bc700 of size 256 next 268\n",
      "2024-02-06 21:22:39.751941: I external/local_tsl/tsl/framework/bfc_allocator.cc:1095] InUse at 7106bc800 of size 256 next 269\n",
      "2024-02-06 21:22:39.751950: I external/local_tsl/tsl/framework/bfc_allocator.cc:1095] InUse at 7106bc900 of size 256 next 270\n",
      "2024-02-06 21:22:39.751959: I external/local_tsl/tsl/framework/bfc_allocator.cc:1095] InUse at 7106bca00 of size 256 next 271\n",
      "2024-02-06 21:22:39.751969: I external/local_tsl/tsl/framework/bfc_allocator.cc:1095] InUse at 7106bcb00 of size 20224 next 272\n",
      "2024-02-06 21:22:39.751978: I external/local_tsl/tsl/framework/bfc_allocator.cc:1095] InUse at 7106c1a00 of size 20224 next 273\n",
      "2024-02-06 21:22:39.751988: I external/local_tsl/tsl/framework/bfc_allocator.cc:1095] InUse at 7106c6900 of size 256 next 274\n",
      "2024-02-06 21:22:39.752000: I external/local_tsl/tsl/framework/bfc_allocator.cc:1095] InUse at 7106c6a00 of size 256 next 275\n",
      "2024-02-06 21:22:39.752011: I external/local_tsl/tsl/framework/bfc_allocator.cc:1095] InUse at 7106c6b00 of size 256 next 276\n",
      "2024-02-06 21:22:39.752021: I external/local_tsl/tsl/framework/bfc_allocator.cc:1095] InUse at 7106c6c00 of size 256 next 277\n",
      "2024-02-06 21:22:39.752054: I external/local_tsl/tsl/framework/bfc_allocator.cc:1095] InUse at 7106c6d00 of size 256 next 278\n",
      "2024-02-06 21:22:39.752066: I external/local_tsl/tsl/framework/bfc_allocator.cc:1095] InUse at 7106c6e00 of size 256 next 279\n",
      "2024-02-06 21:22:39.752076: I external/local_tsl/tsl/framework/bfc_allocator.cc:1095] InUse at 7106c6f00 of size 9216 next 280\n",
      "2024-02-06 21:22:39.752085: I external/local_tsl/tsl/framework/bfc_allocator.cc:1095] InUse at 7106c9300 of size 9216 next 281\n",
      "2024-02-06 21:22:39.752094: I external/local_tsl/tsl/framework/bfc_allocator.cc:1095] InUse at 7106cb700 of size 256 next 282\n",
      "2024-02-06 21:22:39.752103: I external/local_tsl/tsl/framework/bfc_allocator.cc:1095] InUse at 7106cb800 of size 256 next 283\n",
      "2024-02-06 21:22:39.752113: I external/local_tsl/tsl/framework/bfc_allocator.cc:1095] InUse at 7106cb900 of size 256 next 284\n",
      "2024-02-06 21:22:39.752122: I external/local_tsl/tsl/framework/bfc_allocator.cc:1095] InUse at 7106cba00 of size 256 next 285\n",
      "2024-02-06 21:22:39.752131: I external/local_tsl/tsl/framework/bfc_allocator.cc:1095] InUse at 7106cbb00 of size 256 next 286\n",
      "2024-02-06 21:22:39.752141: I external/local_tsl/tsl/framework/bfc_allocator.cc:1095] InUse at 7106cbc00 of size 256 next 287\n",
      "2024-02-06 21:22:39.752150: I external/local_tsl/tsl/framework/bfc_allocator.cc:1095] InUse at 7106cbd00 of size 256 next 288\n",
      "2024-02-06 21:22:39.752159: I external/local_tsl/tsl/framework/bfc_allocator.cc:1095] InUse at 7106cbe00 of size 256 next 289\n",
      "2024-02-06 21:22:39.752168: I external/local_tsl/tsl/framework/bfc_allocator.cc:1095] InUse at 7106cbf00 of size 256 next 290\n",
      "2024-02-06 21:22:39.752178: I external/local_tsl/tsl/framework/bfc_allocator.cc:1095] InUse at 7106cc000 of size 256 next 291\n",
      "2024-02-06 21:22:39.752187: I external/local_tsl/tsl/framework/bfc_allocator.cc:1095] InUse at 7106cc100 of size 256 next 292\n",
      "2024-02-06 21:22:39.752196: I external/local_tsl/tsl/framework/bfc_allocator.cc:1095] InUse at 7106cc200 of size 256 next 293\n",
      "2024-02-06 21:22:39.752206: I external/local_tsl/tsl/framework/bfc_allocator.cc:1095] InUse at 7106cc300 of size 256 next 294\n",
      "2024-02-06 21:22:39.752215: I external/local_tsl/tsl/framework/bfc_allocator.cc:1095] InUse at 7106cc400 of size 256 next 295\n",
      "2024-02-06 21:22:39.752224: I external/local_tsl/tsl/framework/bfc_allocator.cc:1095] InUse at 7106cc500 of size 256 next 296\n",
      "2024-02-06 21:22:39.752233: I external/local_tsl/tsl/framework/bfc_allocator.cc:1095] InUse at 7106cc600 of size 256 next 297\n",
      "2024-02-06 21:22:39.752242: I external/local_tsl/tsl/framework/bfc_allocator.cc:1095] InUse at 7106cc700 of size 256 next 298\n",
      "2024-02-06 21:22:39.752253: I external/local_tsl/tsl/framework/bfc_allocator.cc:1095] InUse at 7106cc800 of size 256 next 299\n",
      "2024-02-06 21:22:39.752263: I external/local_tsl/tsl/framework/bfc_allocator.cc:1095] InUse at 7106cc900 of size 6291456 next 300\n",
      "2024-02-06 21:22:39.752274: I external/local_tsl/tsl/framework/bfc_allocator.cc:1095] InUse at 710ccc900 of size 2097152 next 301\n",
      "2024-02-06 21:22:39.752283: I external/local_tsl/tsl/framework/bfc_allocator.cc:1095] InUse at 710ecc900 of size 67108864 next 302\n",
      "2024-02-06 21:22:39.752294: I external/local_tsl/tsl/framework/bfc_allocator.cc:1095] InUse at 714ecc900 of size 67108864 next 303\n",
      "2024-02-06 21:22:39.752304: I external/local_tsl/tsl/framework/bfc_allocator.cc:1095] InUse at 718ecc900 of size 36700160 next 304\n",
      "2024-02-06 21:22:39.752313: I external/local_tsl/tsl/framework/bfc_allocator.cc:1095] InUse at 71b1cc900 of size 36700160 next 305\n",
      "2024-02-06 21:22:39.752323: I external/local_tsl/tsl/framework/bfc_allocator.cc:1095] InUse at 71d4cc900 of size 33554432 next 306\n",
      "2024-02-06 21:22:39.752332: I external/local_tsl/tsl/framework/bfc_allocator.cc:1095] InUse at 71f4cc900 of size 33554432 next 307\n",
      "2024-02-06 21:22:39.752342: I external/local_tsl/tsl/framework/bfc_allocator.cc:1095] InUse at 7214cc900 of size 33554432 next 308\n",
      "2024-02-06 21:22:39.752352: I external/local_tsl/tsl/framework/bfc_allocator.cc:1095] InUse at 7234cc900 of size 29360128 next 309\n",
      "2024-02-06 21:22:39.752361: I external/local_tsl/tsl/framework/bfc_allocator.cc:1095] InUse at 7250cc900 of size 16777216 next 310\n",
      "2024-02-06 21:22:39.752371: I external/local_tsl/tsl/framework/bfc_allocator.cc:1095] InUse at 7260cc900 of size 16777216 next 311\n",
      "2024-02-06 21:22:39.752380: I external/local_tsl/tsl/framework/bfc_allocator.cc:1095] InUse at 7270cc900 of size 16777216 next 312\n",
      "2024-02-06 21:22:39.752389: I external/local_tsl/tsl/framework/bfc_allocator.cc:1095] InUse at 7280cc900 of size 16777216 next 313\n",
      "2024-02-06 21:22:39.752399: I external/local_tsl/tsl/framework/bfc_allocator.cc:1095] InUse at 7290cc900 of size 16777216 next 314\n",
      "2024-02-06 21:22:39.752408: I external/local_tsl/tsl/framework/bfc_allocator.cc:1095] InUse at 72a0cc900 of size 16777216 next 315\n",
      "2024-02-06 21:22:39.752417: I external/local_tsl/tsl/framework/bfc_allocator.cc:1095] InUse at 72b0cc900 of size 16777216 next 316\n",
      "2024-02-06 21:22:39.752426: I external/local_tsl/tsl/framework/bfc_allocator.cc:1095] InUse at 72c0cc900 of size 16777216 next 317\n",
      "2024-02-06 21:22:39.752436: I external/local_tsl/tsl/framework/bfc_allocator.cc:1095] InUse at 72d0cc900 of size 16777216 next 318\n",
      "2024-02-06 21:22:39.752448: I external/local_tsl/tsl/framework/bfc_allocator.cc:1095] InUse at 72e0cc900 of size 12582912 next 319\n",
      "2024-02-06 21:22:39.752458: I external/local_tsl/tsl/framework/bfc_allocator.cc:1095] InUse at 72eccc900 of size 12582912 next 320\n",
      "2024-02-06 21:22:39.752468: I external/local_tsl/tsl/framework/bfc_allocator.cc:1095] InUse at 72f8cc900 of size 8388608 next 321\n",
      "2024-02-06 21:22:39.752477: I external/local_tsl/tsl/framework/bfc_allocator.cc:1095] InUse at 7300cc900 of size 8388608 next 322\n",
      "2024-02-06 21:22:39.752487: I external/local_tsl/tsl/framework/bfc_allocator.cc:1095] InUse at 7308cc900 of size 8388608 next 323\n",
      "2024-02-06 21:22:39.752496: I external/local_tsl/tsl/framework/bfc_allocator.cc:1095] InUse at 7310cc900 of size 8388608 next 324\n",
      "2024-02-06 21:22:39.752505: I external/local_tsl/tsl/framework/bfc_allocator.cc:1095] InUse at 7318cc900 of size 8388608 next 325\n",
      "2024-02-06 21:22:39.752515: I external/local_tsl/tsl/framework/bfc_allocator.cc:1095] InUse at 7320cc900 of size 8388608 next 326\n",
      "2024-02-06 21:22:39.752524: I external/local_tsl/tsl/framework/bfc_allocator.cc:1095] InUse at 7328cc900 of size 8388608 next 327\n",
      "2024-02-06 21:22:39.752533: I external/local_tsl/tsl/framework/bfc_allocator.cc:1095] InUse at 7330cc900 of size 8388608 next 328\n",
      "2024-02-06 21:22:39.752542: I external/local_tsl/tsl/framework/bfc_allocator.cc:1095] InUse at 7338cc900 of size 8388608 next 329\n",
      "2024-02-06 21:22:39.752556: I external/local_tsl/tsl/framework/bfc_allocator.cc:1095] InUse at 7340cc900 of size 5505024 next 330\n",
      "2024-02-06 21:22:39.752568: I external/local_tsl/tsl/framework/bfc_allocator.cc:1095] InUse at 73460c900 of size 4194304 next 331\n",
      "2024-02-06 21:22:39.752578: I external/local_tsl/tsl/framework/bfc_allocator.cc:1095] InUse at 734a0c900 of size 4194304 next 332\n",
      "2024-02-06 21:22:39.752586: I external/local_tsl/tsl/framework/bfc_allocator.cc:1095] InUse at 734e0c900 of size 4194304 next 333\n",
      "2024-02-06 21:22:39.752595: I external/local_tsl/tsl/framework/bfc_allocator.cc:1095] InUse at 73520c900 of size 3145728 next 334\n",
      "2024-02-06 21:22:39.752603: I external/local_tsl/tsl/framework/bfc_allocator.cc:1095] InUse at 73550c900 of size 3145728 next 335\n",
      "2024-02-06 21:22:39.752613: I external/local_tsl/tsl/framework/bfc_allocator.cc:1095] InUse at 73580c900 of size 3145728 next 336\n",
      "2024-02-06 21:22:39.752621: I external/local_tsl/tsl/framework/bfc_allocator.cc:1095] InUse at 735b0c900 of size 3145728 next 337\n",
      "2024-02-06 21:22:39.752633: I external/local_tsl/tsl/framework/bfc_allocator.cc:1095] InUse at 735e0c900 of size 3145728 next 338\n",
      "2024-02-06 21:22:39.752643: I external/local_tsl/tsl/framework/bfc_allocator.cc:1095] InUse at 73610c900 of size 3145728 next 339\n",
      "2024-02-06 21:22:39.752655: I external/local_tsl/tsl/framework/bfc_allocator.cc:1095] InUse at 73640c900 of size 2097152 next 340\n",
      "2024-02-06 21:22:39.752664: I external/local_tsl/tsl/framework/bfc_allocator.cc:1095] InUse at 73660c900 of size 2097152 next 341\n",
      "2024-02-06 21:22:39.752672: I external/local_tsl/tsl/framework/bfc_allocator.cc:1095] InUse at 73680c900 of size 2097152 next 342\n",
      "2024-02-06 21:22:39.752681: I external/local_tsl/tsl/framework/bfc_allocator.cc:1095] InUse at 736a0c900 of size 2097152 next 343\n",
      "2024-02-06 21:22:39.752691: I external/local_tsl/tsl/framework/bfc_allocator.cc:1095] InUse at 736c0c900 of size 2097152 next 344\n",
      "2024-02-06 21:22:39.752701: I external/local_tsl/tsl/framework/bfc_allocator.cc:1095] InUse at 736e0c900 of size 2097152 next 345\n",
      "2024-02-06 21:22:39.752710: I external/local_tsl/tsl/framework/bfc_allocator.cc:1095] InUse at 73700c900 of size 1310720 next 346\n",
      "2024-02-06 21:22:39.752721: I external/local_tsl/tsl/framework/bfc_allocator.cc:1095] InUse at 73714c900 of size 1048576 next 347\n",
      "2024-02-06 21:22:39.752730: I external/local_tsl/tsl/framework/bfc_allocator.cc:1095] InUse at 73724c900 of size 1048576 next 348\n",
      "2024-02-06 21:22:39.752739: I external/local_tsl/tsl/framework/bfc_allocator.cc:1095] InUse at 73734c900 of size 1048576 next 349\n",
      "2024-02-06 21:22:39.752747: I external/local_tsl/tsl/framework/bfc_allocator.cc:1095] InUse at 73744c900 of size 1048576 next 350\n",
      "2024-02-06 21:22:39.752755: I external/local_tsl/tsl/framework/bfc_allocator.cc:1095] InUse at 73754c900 of size 1048576 next 351\n",
      "2024-02-06 21:22:39.752766: I external/local_tsl/tsl/framework/bfc_allocator.cc:1095] InUse at 73764c900 of size 1048576 next 352\n",
      "2024-02-06 21:22:39.752777: I external/local_tsl/tsl/framework/bfc_allocator.cc:1095] InUse at 73774c900 of size 1048576 next 353\n",
      "2024-02-06 21:22:39.752786: I external/local_tsl/tsl/framework/bfc_allocator.cc:1095] InUse at 73784c900 of size 524288 next 354\n",
      "2024-02-06 21:22:39.752795: I external/local_tsl/tsl/framework/bfc_allocator.cc:1095] InUse at 7378cc900 of size 327680 next 355\n",
      "2024-02-06 21:22:39.752804: I external/local_tsl/tsl/framework/bfc_allocator.cc:1095] InUse at 73791c900 of size 327680 next 356\n",
      "2024-02-06 21:22:39.752812: I external/local_tsl/tsl/framework/bfc_allocator.cc:1095] InUse at 73796c900 of size 327680 next 357\n",
      "2024-02-06 21:22:39.752821: I external/local_tsl/tsl/framework/bfc_allocator.cc:1095] InUse at 7379bc900 of size 327680 next 358\n",
      "2024-02-06 21:22:39.752831: I external/local_tsl/tsl/framework/bfc_allocator.cc:1095] InUse at 737a0c900 of size 512 next 359\n",
      "2024-02-06 21:22:39.752842: I external/local_tsl/tsl/framework/bfc_allocator.cc:1095] InUse at 737a0cb00 of size 512 next 360\n",
      "2024-02-06 21:22:39.752853: I external/local_tsl/tsl/framework/bfc_allocator.cc:1095] InUse at 737a0cd00 of size 512 next 361\n",
      "2024-02-06 21:22:39.752862: I external/local_tsl/tsl/framework/bfc_allocator.cc:1095] InUse at 737a0cf00 of size 512 next 362\n",
      "2024-02-06 21:22:39.752871: I external/local_tsl/tsl/framework/bfc_allocator.cc:1095] InUse at 737a0d100 of size 512 next 363\n",
      "2024-02-06 21:22:39.752880: I external/local_tsl/tsl/framework/bfc_allocator.cc:1095] InUse at 737a0d300 of size 512 next 364\n",
      "2024-02-06 21:22:39.752890: I external/local_tsl/tsl/framework/bfc_allocator.cc:1095] InUse at 737a0d500 of size 512 next 365\n",
      "2024-02-06 21:22:39.752898: I external/local_tsl/tsl/framework/bfc_allocator.cc:1095] InUse at 737a0d700 of size 512 next 366\n",
      "2024-02-06 21:22:39.752906: I external/local_tsl/tsl/framework/bfc_allocator.cc:1095] InUse at 737a0d900 of size 256 next 367\n",
      "2024-02-06 21:22:39.752914: I external/local_tsl/tsl/framework/bfc_allocator.cc:1095] InUse at 737a0da00 of size 256 next 368\n",
      "2024-02-06 21:22:39.752923: I external/local_tsl/tsl/framework/bfc_allocator.cc:1095] InUse at 737a0db00 of size 256 next 369\n",
      "2024-02-06 21:22:39.752933: I external/local_tsl/tsl/framework/bfc_allocator.cc:1095] InUse at 737a0dc00 of size 256 next 370\n",
      "2024-02-06 21:22:39.752942: I external/local_tsl/tsl/framework/bfc_allocator.cc:1095] InUse at 737a0dd00 of size 256 next 371\n",
      "2024-02-06 21:22:39.752951: I external/local_tsl/tsl/framework/bfc_allocator.cc:1095] InUse at 737a0de00 of size 256 next 372\n",
      "2024-02-06 21:22:39.752959: I external/local_tsl/tsl/framework/bfc_allocator.cc:1095] InUse at 737a0df00 of size 256 next 373\n",
      "2024-02-06 21:22:39.752967: I external/local_tsl/tsl/framework/bfc_allocator.cc:1095] InUse at 737a0e000 of size 256 next 374\n",
      "2024-02-06 21:22:39.752976: I external/local_tsl/tsl/framework/bfc_allocator.cc:1095] InUse at 737a0e100 of size 256 next 375\n",
      "2024-02-06 21:22:39.752984: I external/local_tsl/tsl/framework/bfc_allocator.cc:1095] InUse at 737a0e200 of size 256 next 376\n",
      "2024-02-06 21:22:39.752992: I external/local_tsl/tsl/framework/bfc_allocator.cc:1095] InUse at 737a0e300 of size 256 next 377\n",
      "2024-02-06 21:22:39.753000: I external/local_tsl/tsl/framework/bfc_allocator.cc:1095] InUse at 737a0e400 of size 256 next 378\n",
      "2024-02-06 21:22:39.753009: I external/local_tsl/tsl/framework/bfc_allocator.cc:1095] InUse at 737a0e500 of size 256 next 379\n",
      "2024-02-06 21:22:39.753018: I external/local_tsl/tsl/framework/bfc_allocator.cc:1095] InUse at 737a0e600 of size 256 next 380\n",
      "2024-02-06 21:22:39.753026: I external/local_tsl/tsl/framework/bfc_allocator.cc:1095] InUse at 737a0e700 of size 256 next 381\n",
      "2024-02-06 21:22:39.753035: I external/local_tsl/tsl/framework/bfc_allocator.cc:1095] InUse at 737a0e800 of size 256 next 382\n",
      "2024-02-06 21:22:39.753044: I external/local_tsl/tsl/framework/bfc_allocator.cc:1095] InUse at 737a0e900 of size 256 next 383\n",
      "2024-02-06 21:22:39.753052: I external/local_tsl/tsl/framework/bfc_allocator.cc:1095] InUse at 737a0ea00 of size 256 next 384\n",
      "2024-02-06 21:22:39.753061: I external/local_tsl/tsl/framework/bfc_allocator.cc:1095] InUse at 737a0eb00 of size 256 next 385\n",
      "2024-02-06 21:22:39.753070: I external/local_tsl/tsl/framework/bfc_allocator.cc:1095] InUse at 737a0ec00 of size 256 next 386\n",
      "2024-02-06 21:22:39.753078: I external/local_tsl/tsl/framework/bfc_allocator.cc:1095] InUse at 737a0ed00 of size 256 next 387\n",
      "2024-02-06 21:22:39.753086: I external/local_tsl/tsl/framework/bfc_allocator.cc:1095] InUse at 737a0ee00 of size 256 next 388\n",
      "2024-02-06 21:22:39.753095: I external/local_tsl/tsl/framework/bfc_allocator.cc:1095] InUse at 737a0ef00 of size 256 next 389\n",
      "2024-02-06 21:22:39.753104: I external/local_tsl/tsl/framework/bfc_allocator.cc:1095] InUse at 737a0f000 of size 256 next 390\n",
      "2024-02-06 21:22:39.753112: I external/local_tsl/tsl/framework/bfc_allocator.cc:1095] InUse at 737a0f100 of size 256 next 391\n",
      "2024-02-06 21:22:39.753121: I external/local_tsl/tsl/framework/bfc_allocator.cc:1095] InUse at 737a0f200 of size 256 next 392\n",
      "2024-02-06 21:22:39.753129: I external/local_tsl/tsl/framework/bfc_allocator.cc:1095] InUse at 737a0f300 of size 256 next 393\n",
      "2024-02-06 21:22:39.753138: I external/local_tsl/tsl/framework/bfc_allocator.cc:1095] InUse at 737a0f400 of size 256 next 394\n",
      "2024-02-06 21:22:39.753147: I external/local_tsl/tsl/framework/bfc_allocator.cc:1095] InUse at 737a0f500 of size 256 next 395\n",
      "2024-02-06 21:22:39.753156: I external/local_tsl/tsl/framework/bfc_allocator.cc:1095] InUse at 737a0f600 of size 256 next 396\n",
      "2024-02-06 21:22:39.753165: I external/local_tsl/tsl/framework/bfc_allocator.cc:1095] InUse at 737a0f700 of size 256 next 397\n",
      "2024-02-06 21:22:39.753173: I external/local_tsl/tsl/framework/bfc_allocator.cc:1095] InUse at 737a0f800 of size 256 next 398\n",
      "2024-02-06 21:22:39.753182: I external/local_tsl/tsl/framework/bfc_allocator.cc:1095] InUse at 737a0f900 of size 256 next 399\n",
      "2024-02-06 21:22:39.753191: I external/local_tsl/tsl/framework/bfc_allocator.cc:1095] InUse at 737a0fa00 of size 256 next 400\n",
      "2024-02-06 21:22:39.753200: I external/local_tsl/tsl/framework/bfc_allocator.cc:1095] InUse at 737a0fb00 of size 256 next 401\n",
      "2024-02-06 21:22:39.753209: I external/local_tsl/tsl/framework/bfc_allocator.cc:1095] InUse at 737a0fc00 of size 256 next 402\n",
      "2024-02-06 21:22:39.753217: I external/local_tsl/tsl/framework/bfc_allocator.cc:1095] InUse at 737a0fd00 of size 256 next 403\n",
      "2024-02-06 21:22:39.753226: I external/local_tsl/tsl/framework/bfc_allocator.cc:1095] InUse at 737a0fe00 of size 256 next 404\n",
      "2024-02-06 21:22:39.753235: I external/local_tsl/tsl/framework/bfc_allocator.cc:1095] InUse at 737a0ff00 of size 256 next 405\n",
      "2024-02-06 21:22:39.753244: I external/local_tsl/tsl/framework/bfc_allocator.cc:1095] InUse at 737a10000 of size 256 next 406\n",
      "2024-02-06 21:22:39.753253: I external/local_tsl/tsl/framework/bfc_allocator.cc:1095] InUse at 737a10100 of size 256 next 407\n",
      "2024-02-06 21:22:39.753262: I external/local_tsl/tsl/framework/bfc_allocator.cc:1095] Free  at 737a10200 of size 728628736 next 18446744073709551615\n",
      "2024-02-06 21:22:39.753270: I external/local_tsl/tsl/framework/bfc_allocator.cc:1100]      Summary of in-use Chunks by size: \n",
      "2024-02-06 21:22:39.753286: I external/local_tsl/tsl/framework/bfc_allocator.cc:1103] 197 Chunks of size 256 totalling 49.2KiB\n",
      "2024-02-06 21:22:39.753297: I external/local_tsl/tsl/framework/bfc_allocator.cc:1103] 36 Chunks of size 512 totalling 18.0KiB\n",
      "2024-02-06 21:22:39.753307: I external/local_tsl/tsl/framework/bfc_allocator.cc:1103] 11 Chunks of size 1024 totalling 11.0KiB\n",
      "2024-02-06 21:22:39.753317: I external/local_tsl/tsl/framework/bfc_allocator.cc:1103] 2 Chunks of size 1280 totalling 2.5KiB\n",
      "2024-02-06 21:22:39.753327: I external/local_tsl/tsl/framework/bfc_allocator.cc:1103] 23 Chunks of size 2048 totalling 46.0KiB\n",
      "2024-02-06 21:22:39.753336: I external/local_tsl/tsl/framework/bfc_allocator.cc:1103] 1 Chunks of size 3072 totalling 3.0KiB\n",
      "2024-02-06 21:22:39.753346: I external/local_tsl/tsl/framework/bfc_allocator.cc:1103] 2 Chunks of size 6912 totalling 13.5KiB\n",
      "2024-02-06 21:22:39.753355: I external/local_tsl/tsl/framework/bfc_allocator.cc:1103] 3 Chunks of size 9216 totalling 27.0KiB\n",
      "2024-02-06 21:22:39.753365: I external/local_tsl/tsl/framework/bfc_allocator.cc:1103] 1 Chunks of size 12288 totalling 12.0KiB\n",
      "2024-02-06 21:22:39.753375: I external/local_tsl/tsl/framework/bfc_allocator.cc:1103] 2 Chunks of size 20224 totalling 39.5KiB\n",
      "2024-02-06 21:22:39.753385: I external/local_tsl/tsl/framework/bfc_allocator.cc:1103] 1 Chunks of size 31488 totalling 30.8KiB\n",
      "2024-02-06 21:22:39.753395: I external/local_tsl/tsl/framework/bfc_allocator.cc:1103] 2 Chunks of size 36864 totalling 72.0KiB\n",
      "2024-02-06 21:22:39.753406: I external/local_tsl/tsl/framework/bfc_allocator.cc:1103] 1 Chunks of size 52992 totalling 51.8KiB\n",
      "2024-02-06 21:22:39.753416: I external/local_tsl/tsl/framework/bfc_allocator.cc:1103] 2 Chunks of size 82944 totalling 162.0KiB\n",
      "2024-02-06 21:22:39.753426: I external/local_tsl/tsl/framework/bfc_allocator.cc:1103] 1 Chunks of size 125440 totalling 122.5KiB\n",
      "2024-02-06 21:22:39.753437: I external/local_tsl/tsl/framework/bfc_allocator.cc:1103] 3 Chunks of size 129024 totalling 378.0KiB\n",
      "2024-02-06 21:22:39.753447: I external/local_tsl/tsl/framework/bfc_allocator.cc:1103] 2 Chunks of size 147456 totalling 288.0KiB\n",
      "2024-02-06 21:22:39.753457: I external/local_tsl/tsl/framework/bfc_allocator.cc:1103] 1 Chunks of size 163840 totalling 160.0KiB\n",
      "2024-02-06 21:22:39.753468: I external/local_tsl/tsl/framework/bfc_allocator.cc:1103] 1 Chunks of size 164864 totalling 161.0KiB\n",
      "2024-02-06 21:22:39.753478: I external/local_tsl/tsl/framework/bfc_allocator.cc:1103] 3 Chunks of size 230400 totalling 675.0KiB\n",
      "2024-02-06 21:22:39.753488: I external/local_tsl/tsl/framework/bfc_allocator.cc:1103] 1 Chunks of size 275456 totalling 269.0KiB\n",
      "2024-02-06 21:22:39.753499: I external/local_tsl/tsl/framework/bfc_allocator.cc:1103] 1 Chunks of size 294656 totalling 287.8KiB\n",
      "2024-02-06 21:22:39.753509: I external/local_tsl/tsl/framework/bfc_allocator.cc:1103] 1 Chunks of size 294912 totalling 288.0KiB\n",
      "2024-02-06 21:22:39.753519: I external/local_tsl/tsl/framework/bfc_allocator.cc:1103] 4 Chunks of size 327680 totalling 1.25MiB\n",
      "2024-02-06 21:22:39.753529: I external/local_tsl/tsl/framework/bfc_allocator.cc:1103] 3 Chunks of size 331776 totalling 972.0KiB\n",
      "2024-02-06 21:22:39.753539: I external/local_tsl/tsl/framework/bfc_allocator.cc:1103] 1 Chunks of size 368640 totalling 360.0KiB\n",
      "2024-02-06 21:22:39.753549: I external/local_tsl/tsl/framework/bfc_allocator.cc:1103] 1 Chunks of size 442368 totalling 432.0KiB\n",
      "2024-02-06 21:22:39.753559: I external/local_tsl/tsl/framework/bfc_allocator.cc:1103] 1 Chunks of size 524288 totalling 512.0KiB\n",
      "2024-02-06 21:22:39.753569: I external/local_tsl/tsl/framework/bfc_allocator.cc:1103] 3 Chunks of size 589824 totalling 1.69MiB\n",
      "2024-02-06 21:22:39.753579: I external/local_tsl/tsl/framework/bfc_allocator.cc:1103] 3 Chunks of size 774144 totalling 2.21MiB\n",
      "2024-02-06 21:22:39.753589: I external/local_tsl/tsl/framework/bfc_allocator.cc:1103] 7 Chunks of size 1048576 totalling 7.00MiB\n",
      "2024-02-06 21:22:39.753599: I external/local_tsl/tsl/framework/bfc_allocator.cc:1103] 1 Chunks of size 1179648 totalling 1.12MiB\n",
      "2024-02-06 21:22:39.753609: I external/local_tsl/tsl/framework/bfc_allocator.cc:1103] 1 Chunks of size 1310720 totalling 1.25MiB\n",
      "2024-02-06 21:22:39.753619: I external/local_tsl/tsl/framework/bfc_allocator.cc:1103] 1 Chunks of size 2064384 totalling 1.97MiB\n",
      "2024-02-06 21:22:39.753629: I external/local_tsl/tsl/framework/bfc_allocator.cc:1103] 7 Chunks of size 2097152 totalling 14.00MiB\n",
      "2024-02-06 21:22:39.753639: I external/local_tsl/tsl/framework/bfc_allocator.cc:1103] 1 Chunks of size 2294784 totalling 2.19MiB\n",
      "2024-02-06 21:22:39.753649: I external/local_tsl/tsl/framework/bfc_allocator.cc:1103] 9 Chunks of size 2359296 totalling 20.25MiB\n",
      "2024-02-06 21:22:39.753659: I external/local_tsl/tsl/framework/bfc_allocator.cc:1103] 3 Chunks of size 2949120 totalling 8.44MiB\n",
      "2024-02-06 21:22:39.753669: I external/local_tsl/tsl/framework/bfc_allocator.cc:1103] 6 Chunks of size 3145728 totalling 18.00MiB\n",
      "2024-02-06 21:22:39.753680: I external/local_tsl/tsl/framework/bfc_allocator.cc:1103] 3 Chunks of size 4194304 totalling 12.00MiB\n",
      "2024-02-06 21:22:39.753690: I external/local_tsl/tsl/framework/bfc_allocator.cc:1103] 3 Chunks of size 4718592 totalling 13.50MiB\n",
      "2024-02-06 21:22:39.753700: I external/local_tsl/tsl/framework/bfc_allocator.cc:1103] 1 Chunks of size 5505024 totalling 5.25MiB\n",
      "2024-02-06 21:22:39.753710: I external/local_tsl/tsl/framework/bfc_allocator.cc:1103] 1 Chunks of size 6291456 totalling 6.00MiB\n",
      "2024-02-06 21:22:39.753720: I external/local_tsl/tsl/framework/bfc_allocator.cc:1103] 9 Chunks of size 8388608 totalling 72.00MiB\n",
      "2024-02-06 21:22:39.753730: I external/local_tsl/tsl/framework/bfc_allocator.cc:1103] 21 Chunks of size 9437184 totalling 189.00MiB\n",
      "2024-02-06 21:22:39.753740: I external/local_tsl/tsl/framework/bfc_allocator.cc:1103] 2 Chunks of size 12582912 totalling 24.00MiB\n",
      "2024-02-06 21:22:39.753749: I external/local_tsl/tsl/framework/bfc_allocator.cc:1103] 9 Chunks of size 16777216 totalling 144.00MiB\n",
      "2024-02-06 21:22:39.753759: I external/local_tsl/tsl/framework/bfc_allocator.cc:1103] 1 Chunks of size 29360128 totalling 28.00MiB\n",
      "2024-02-06 21:22:39.753768: I external/local_tsl/tsl/framework/bfc_allocator.cc:1103] 3 Chunks of size 33554432 totalling 96.00MiB\n",
      "2024-02-06 21:22:39.753778: I external/local_tsl/tsl/framework/bfc_allocator.cc:1103] 2 Chunks of size 36700160 totalling 70.00MiB\n",
      "2024-02-06 21:22:39.753788: I external/local_tsl/tsl/framework/bfc_allocator.cc:1103] 2 Chunks of size 67108864 totalling 128.00MiB\n",
      "2024-02-06 21:22:39.753797: I external/local_tsl/tsl/framework/bfc_allocator.cc:1107] Sum Total of in-use chunks: 872.44MiB\n",
      "2024-02-06 21:22:39.753807: I external/local_tsl/tsl/framework/bfc_allocator.cc:1109] Total bytes in pool: 1643446272 memory_limit_: 1643446272 available bytes: 0 curr_region_allocation_bytes_: 3286892544\n",
      "2024-02-06 21:22:39.753820: I external/local_tsl/tsl/framework/bfc_allocator.cc:1114] Stats: \n",
      "Limit:                      1643446272\n",
      "InUse:                       914817536\n",
      "MaxInUse:                   1626650624\n",
      "NumAllocs:                         948\n",
      "MaxAllocSize:               1242687232\n",
      "Reserved:                            0\n",
      "PeakReserved:                        0\n",
      "LargestFreeBlock:                    0\n",
      "\n",
      "2024-02-06 21:22:39.753856: W external/local_tsl/tsl/framework/bfc_allocator.cc:497] ********************************************************____________________________________________\n"
     ]
    },
    {
     "ename": "ResourceExhaustedError",
     "evalue": "Graph execution error:\n\nDetected at node cluster_1_1/xla_run defined at (most recent call last):\n<stack traces unavailable>\nOut of memory while trying to allocate 549755832000 bytes.\nBufferAssignment OOM Debugging.\nBufferAssignment stats:\n             parameter allocation:   88.89MiB\n              constant allocation:        52B\n        maybe_live_out allocation:  700.11MiB\n     preallocated temp allocation:  512.00GiB\n  preallocated temp fragmentation:         0B (0.00%)\n                 total allocation:  512.69GiB\n              total fragmentation:   44.26MiB (0.01%)\nPeak buffers:\n\tBuffer 1:\n\t\tSize: 256.00GiB\n\t\tOperator: op_type=\"Sum\" op_name=\"Sum_8\" source_file=\"dummy_file_name\" source_line=10\n\t\tXLA Label: fusion\n\t\tShape: f32[262144,262144]\n\t\t==========================\n\n\tBuffer 2:\n\t\tSize: 256.00GiB\n\t\tOperator: op_type=\"Sum\" op_name=\"Sum_8\" source_file=\"dummy_file_name\" source_line=10\n\t\tXLA Label: fusion\n\t\tShape: f32[262144,262144]\n\t\t==========================\n\n\tBuffer 3:\n\t\tSize: 64.00MiB\n\t\tOperator: op_type=\"Conv2D\" op_name=\"model/block1_conv2/Conv2D\" source_file=\"dummy_file_name\" source_line=10\n\t\tXLA Label: custom-call\n\t\tShape: f32[4,64,256,256]\n\t\t==========================\n\n\tBuffer 4:\n\t\tSize: 64.00MiB\n\t\tOperator: op_type=\"Conv2D\" op_name=\"model/block1_conv1/Conv2D\" source_file=\"dummy_file_name\" source_line=10\n\t\tXLA Label: custom-call\n\t\tShape: f32[4,64,256,256]\n\t\t==========================\n\n\tBuffer 5:\n\t\tSize: 35.00MiB\n\t\tOperator: op_type=\"ConcatV2\" op_name=\"model/concatenate_4/concat\" source_file=\"dummy_file_name\" source_line=10\n\t\tXLA Label: fusion\n\t\tShape: f32[4,256,256,35]\n\t\t==========================\n\n\tBuffer 6:\n\t\tSize: 35.00MiB\n\t\tOperator: op_type=\"ConcatV2\" op_name=\"model/concatenate_4/concat\" source_file=\"dummy_file_name\" source_line=10\n\t\tXLA Label: fusion\n\t\tShape: f32[4,35,256,256]\n\t\t==========================\n\n\tBuffer 7:\n\t\tSize: 32.00MiB\n\t\tOperator: op_name=\"XLA_Retvals\"\n\t\tXLA Label: fusion\n\t\tShape: f32[4,256,256,32]\n\t\t==========================\n\n\tBuffer 8:\n\t\tSize: 32.00MiB\n\t\tOperator: op_type=\"Conv2D\" op_name=\"model/block2_conv2/Conv2D\" source_file=\"dummy_file_name\" source_line=10\n\t\tXLA Label: custom-call\n\t\tShape: f32[4,128,128,128]\n\t\t==========================\n\n\tBuffer 9:\n\t\tSize: 32.00MiB\n\t\tOperator: op_type=\"Conv2D\" op_name=\"model/block2_conv1/Conv2D\" source_file=\"dummy_file_name\" source_line=10\n\t\tXLA Label: custom-call\n\t\tShape: f32[4,128,128,128]\n\t\t==========================\n\n\tBuffer 10:\n\t\tSize: 28.00MiB\n\t\tOperator: op_type=\"ConcatV2\" op_name=\"model/concatenate_3/concat\" source_file=\"dummy_file_name\" source_line=10\n\t\tXLA Label: fusion\n\t\tShape: f32[4,112,128,128]\n\t\t==========================\n\n\tBuffer 11:\n\t\tSize: 16.00MiB\n\t\tOperator: op_type=\"Relu\" op_name=\"model/activation_8/Relu\" deduplicated_name=\"fusion.56\"\n\t\tXLA Label: fusion\n\t\tShape: f32[4,16,256,256]\n\t\t==========================\n\n\tBuffer 12:\n\t\tSize: 16.00MiB\n\t\tOperator: op_type=\"Conv2D\" op_name=\"model/conv2d_8/Conv2D\" source_file=\"dummy_file_name\" source_line=10\n\t\tXLA Label: custom-call\n\t\tShape: f32[4,16,256,256]\n\t\t==========================\n\n\tBuffer 13:\n\t\tSize: 16.00MiB\n\t\tOperator: op_type=\"Conv2D\" op_name=\"model/block3_conv4/Conv2D\" source_file=\"dummy_file_name\" source_line=10\n\t\tXLA Label: custom-call\n\t\tShape: f32[4,256,64,64]\n\t\t==========================\n\n\tBuffer 14:\n\t\tSize: 16.00MiB\n\t\tOperator: op_type=\"Conv2D\" op_name=\"model/block3_conv3/Conv2D\" source_file=\"dummy_file_name\" source_line=10\n\t\tXLA Label: custom-call\n\t\tShape: f32[4,256,64,64]\n\t\t==========================\n\n\tBuffer 15:\n\t\tSize: 16.00MiB\n\t\tOperator: op_type=\"Conv2D\" op_name=\"model/block3_conv2/Conv2D\" source_file=\"dummy_file_name\" source_line=10\n\t\tXLA Label: custom-call\n\t\tShape: f32[4,256,64,64]\n\t\t==========================\n\n\n\t [[{{node cluster_1_1/xla_run}}]]\nHint: If you want to see a list of allocated tensors when OOM happens, add report_tensor_allocations_upon_oom to RunOptions for current allocation info. This isn't available when running in Eager mode.\n [Op:__inference_train_function_12105]",
     "output_type": "error",
     "traceback": [
      "\u001B[0;31m---------------------------------------------------------------------------\u001B[0m",
      "\u001B[0;31mResourceExhaustedError\u001B[0m                    Traceback (most recent call last)",
      "Cell \u001B[0;32mIn[21], line 9\u001B[0m\n\u001B[1;32m      6\u001B[0m \u001B[38;5;28;01mif\u001B[39;00m \u001B[38;5;28mlen\u001B[39m(valid_x) \u001B[38;5;241m%\u001B[39m BATCH_SIZE \u001B[38;5;241m!=\u001B[39m \u001B[38;5;241m0\u001B[39m:\n\u001B[1;32m      7\u001B[0m     valid_steps \u001B[38;5;241m+\u001B[39m\u001B[38;5;241m=\u001B[39m \u001B[38;5;241m1\u001B[39m\n\u001B[0;32m----> 9\u001B[0m \u001B[43mmodel\u001B[49m\u001B[38;5;241;43m.\u001B[39;49m\u001B[43mfit\u001B[49m\u001B[43m(\u001B[49m\n\u001B[1;32m     10\u001B[0m \u001B[43m    \u001B[49m\u001B[43mtrain_dataset\u001B[49m\u001B[43m,\u001B[49m\n\u001B[1;32m     11\u001B[0m \u001B[43m    \u001B[49m\u001B[43mvalidation_data\u001B[49m\u001B[38;5;241;43m=\u001B[39;49m\u001B[43mvalid_dataset\u001B[49m\u001B[43m,\u001B[49m\n\u001B[1;32m     12\u001B[0m \u001B[43m    \u001B[49m\u001B[43mepochs\u001B[49m\u001B[38;5;241;43m=\u001B[39;49m\u001B[43mEPOCHS\u001B[49m\u001B[43m,\u001B[49m\n\u001B[1;32m     13\u001B[0m \u001B[43m    \u001B[49m\u001B[43msteps_per_epoch\u001B[49m\u001B[38;5;241;43m=\u001B[39;49m\u001B[43mtrain_steps\u001B[49m\u001B[43m,\u001B[49m\n\u001B[1;32m     14\u001B[0m \u001B[43m    \u001B[49m\u001B[43mvalidation_steps\u001B[49m\u001B[38;5;241;43m=\u001B[39;49m\u001B[43mvalid_steps\u001B[49m\u001B[43m,\u001B[49m\n\u001B[1;32m     15\u001B[0m \u001B[43m    \u001B[49m\u001B[43mcallbacks\u001B[49m\u001B[38;5;241;43m=\u001B[39;49m\u001B[43mcallbacks\u001B[49m\n\u001B[1;32m     16\u001B[0m \u001B[43m)\u001B[49m\n",
      "File \u001B[0;32m~/PycharmProjects/NeuroCovid-Classification/NeuroCovid/lib/python3.11/site-packages/keras/src/utils/traceback_utils.py:70\u001B[0m, in \u001B[0;36mfilter_traceback.<locals>.error_handler\u001B[0;34m(*args, **kwargs)\u001B[0m\n\u001B[1;32m     67\u001B[0m     filtered_tb \u001B[38;5;241m=\u001B[39m _process_traceback_frames(e\u001B[38;5;241m.\u001B[39m__traceback__)\n\u001B[1;32m     68\u001B[0m     \u001B[38;5;66;03m# To get the full stack trace, call:\u001B[39;00m\n\u001B[1;32m     69\u001B[0m     \u001B[38;5;66;03m# `tf.debugging.disable_traceback_filtering()`\u001B[39;00m\n\u001B[0;32m---> 70\u001B[0m     \u001B[38;5;28;01mraise\u001B[39;00m e\u001B[38;5;241m.\u001B[39mwith_traceback(filtered_tb) \u001B[38;5;28;01mfrom\u001B[39;00m \u001B[38;5;28;01mNone\u001B[39;00m\n\u001B[1;32m     71\u001B[0m \u001B[38;5;28;01mfinally\u001B[39;00m:\n\u001B[1;32m     72\u001B[0m     \u001B[38;5;28;01mdel\u001B[39;00m filtered_tb\n",
      "File \u001B[0;32m~/PycharmProjects/NeuroCovid-Classification/NeuroCovid/lib/python3.11/site-packages/tensorflow/python/eager/execute.py:53\u001B[0m, in \u001B[0;36mquick_execute\u001B[0;34m(op_name, num_outputs, inputs, attrs, ctx, name)\u001B[0m\n\u001B[1;32m     51\u001B[0m \u001B[38;5;28;01mtry\u001B[39;00m:\n\u001B[1;32m     52\u001B[0m   ctx\u001B[38;5;241m.\u001B[39mensure_initialized()\n\u001B[0;32m---> 53\u001B[0m   tensors \u001B[38;5;241m=\u001B[39m pywrap_tfe\u001B[38;5;241m.\u001B[39mTFE_Py_Execute(ctx\u001B[38;5;241m.\u001B[39m_handle, device_name, op_name,\n\u001B[1;32m     54\u001B[0m                                       inputs, attrs, num_outputs)\n\u001B[1;32m     55\u001B[0m \u001B[38;5;28;01mexcept\u001B[39;00m core\u001B[38;5;241m.\u001B[39m_NotOkStatusException \u001B[38;5;28;01mas\u001B[39;00m e:\n\u001B[1;32m     56\u001B[0m   \u001B[38;5;28;01mif\u001B[39;00m name \u001B[38;5;129;01mis\u001B[39;00m \u001B[38;5;129;01mnot\u001B[39;00m \u001B[38;5;28;01mNone\u001B[39;00m:\n",
      "\u001B[0;31mResourceExhaustedError\u001B[0m: Graph execution error:\n\nDetected at node cluster_1_1/xla_run defined at (most recent call last):\n<stack traces unavailable>\nOut of memory while trying to allocate 549755832000 bytes.\nBufferAssignment OOM Debugging.\nBufferAssignment stats:\n             parameter allocation:   88.89MiB\n              constant allocation:        52B\n        maybe_live_out allocation:  700.11MiB\n     preallocated temp allocation:  512.00GiB\n  preallocated temp fragmentation:         0B (0.00%)\n                 total allocation:  512.69GiB\n              total fragmentation:   44.26MiB (0.01%)\nPeak buffers:\n\tBuffer 1:\n\t\tSize: 256.00GiB\n\t\tOperator: op_type=\"Sum\" op_name=\"Sum_8\" source_file=\"dummy_file_name\" source_line=10\n\t\tXLA Label: fusion\n\t\tShape: f32[262144,262144]\n\t\t==========================\n\n\tBuffer 2:\n\t\tSize: 256.00GiB\n\t\tOperator: op_type=\"Sum\" op_name=\"Sum_8\" source_file=\"dummy_file_name\" source_line=10\n\t\tXLA Label: fusion\n\t\tShape: f32[262144,262144]\n\t\t==========================\n\n\tBuffer 3:\n\t\tSize: 64.00MiB\n\t\tOperator: op_type=\"Conv2D\" op_name=\"model/block1_conv2/Conv2D\" source_file=\"dummy_file_name\" source_line=10\n\t\tXLA Label: custom-call\n\t\tShape: f32[4,64,256,256]\n\t\t==========================\n\n\tBuffer 4:\n\t\tSize: 64.00MiB\n\t\tOperator: op_type=\"Conv2D\" op_name=\"model/block1_conv1/Conv2D\" source_file=\"dummy_file_name\" source_line=10\n\t\tXLA Label: custom-call\n\t\tShape: f32[4,64,256,256]\n\t\t==========================\n\n\tBuffer 5:\n\t\tSize: 35.00MiB\n\t\tOperator: op_type=\"ConcatV2\" op_name=\"model/concatenate_4/concat\" source_file=\"dummy_file_name\" source_line=10\n\t\tXLA Label: fusion\n\t\tShape: f32[4,256,256,35]\n\t\t==========================\n\n\tBuffer 6:\n\t\tSize: 35.00MiB\n\t\tOperator: op_type=\"ConcatV2\" op_name=\"model/concatenate_4/concat\" source_file=\"dummy_file_name\" source_line=10\n\t\tXLA Label: fusion\n\t\tShape: f32[4,35,256,256]\n\t\t==========================\n\n\tBuffer 7:\n\t\tSize: 32.00MiB\n\t\tOperator: op_name=\"XLA_Retvals\"\n\t\tXLA Label: fusion\n\t\tShape: f32[4,256,256,32]\n\t\t==========================\n\n\tBuffer 8:\n\t\tSize: 32.00MiB\n\t\tOperator: op_type=\"Conv2D\" op_name=\"model/block2_conv2/Conv2D\" source_file=\"dummy_file_name\" source_line=10\n\t\tXLA Label: custom-call\n\t\tShape: f32[4,128,128,128]\n\t\t==========================\n\n\tBuffer 9:\n\t\tSize: 32.00MiB\n\t\tOperator: op_type=\"Conv2D\" op_name=\"model/block2_conv1/Conv2D\" source_file=\"dummy_file_name\" source_line=10\n\t\tXLA Label: custom-call\n\t\tShape: f32[4,128,128,128]\n\t\t==========================\n\n\tBuffer 10:\n\t\tSize: 28.00MiB\n\t\tOperator: op_type=\"ConcatV2\" op_name=\"model/concatenate_3/concat\" source_file=\"dummy_file_name\" source_line=10\n\t\tXLA Label: fusion\n\t\tShape: f32[4,112,128,128]\n\t\t==========================\n\n\tBuffer 11:\n\t\tSize: 16.00MiB\n\t\tOperator: op_type=\"Relu\" op_name=\"model/activation_8/Relu\" deduplicated_name=\"fusion.56\"\n\t\tXLA Label: fusion\n\t\tShape: f32[4,16,256,256]\n\t\t==========================\n\n\tBuffer 12:\n\t\tSize: 16.00MiB\n\t\tOperator: op_type=\"Conv2D\" op_name=\"model/conv2d_8/Conv2D\" source_file=\"dummy_file_name\" source_line=10\n\t\tXLA Label: custom-call\n\t\tShape: f32[4,16,256,256]\n\t\t==========================\n\n\tBuffer 13:\n\t\tSize: 16.00MiB\n\t\tOperator: op_type=\"Conv2D\" op_name=\"model/block3_conv4/Conv2D\" source_file=\"dummy_file_name\" source_line=10\n\t\tXLA Label: custom-call\n\t\tShape: f32[4,256,64,64]\n\t\t==========================\n\n\tBuffer 14:\n\t\tSize: 16.00MiB\n\t\tOperator: op_type=\"Conv2D\" op_name=\"model/block3_conv3/Conv2D\" source_file=\"dummy_file_name\" source_line=10\n\t\tXLA Label: custom-call\n\t\tShape: f32[4,256,64,64]\n\t\t==========================\n\n\tBuffer 15:\n\t\tSize: 16.00MiB\n\t\tOperator: op_type=\"Conv2D\" op_name=\"model/block3_conv2/Conv2D\" source_file=\"dummy_file_name\" source_line=10\n\t\tXLA Label: custom-call\n\t\tShape: f32[4,256,64,64]\n\t\t==========================\n\n\n\t [[{{node cluster_1_1/xla_run}}]]\nHint: If you want to see a list of allocated tensors when OOM happens, add report_tensor_allocations_upon_oom to RunOptions for current allocation info. This isn't available when running in Eager mode.\n [Op:__inference_train_function_12105]"
     ]
    }
   ],
   "source": [
    "train_steps = len(train_x) // BATCH_SIZE\n",
    "valid_steps = len(valid_x) // BATCH_SIZE\n",
    "\n",
    "if len(train_x) % BATCH_SIZE != 0:\n",
    "    train_steps += 1\n",
    "if len(valid_x) % BATCH_SIZE != 0:\n",
    "    valid_steps += 1\n",
    "    \n",
    "model.fit(\n",
    "    train_dataset,\n",
    "    validation_data=valid_dataset,\n",
    "    epochs=EPOCHS,\n",
    "    steps_per_epoch=train_steps,\n",
    "    validation_steps=valid_steps,\n",
    "    callbacks=callbacks\n",
    ")"
   ],
   "metadata": {
    "collapsed": false,
    "ExecuteTime": {
     "end_time": "2024-02-07T00:22:40.320451178Z",
     "start_time": "2024-02-07T00:21:08.516479524Z"
    }
   },
   "id": "73083239f48d587d"
  },
  {
   "cell_type": "code",
   "execution_count": null,
   "outputs": [],
   "source": [
    "test_dataset = tf_dataset(test_x, test_y, batch=BATCH_SIZE)\n",
    "\n",
    "test_steps = len(test_x) // BATCH_SIZE\n",
    "if len(test_x) % BATCH_SIZE != 0:\n",
    "    test_steps += 1\n",
    "    \n",
    "model.evaluate(test_dataset, steps=test_steps)"
   ],
   "metadata": {
    "collapsed": false,
    "ExecuteTime": {
     "end_time": "2024-02-07T00:22:40.345015009Z",
     "start_time": "2024-02-07T00:22:40.324232205Z"
    }
   },
   "id": "532b0056c5b5b13a"
  },
  {
   "cell_type": "markdown",
   "source": [
    "# Results"
   ],
   "metadata": {
    "collapsed": false
   },
   "id": "3359fe5102296faf"
  },
  {
   "cell_type": "code",
   "execution_count": null,
   "outputs": [],
   "source": [
    "def read_image(path):\n",
    "    x = cv2.imread(path, cv2.IMREAD_COLOR)\n",
    "    x = cv2.cvtColor(x, cv2.COLOR_BGR2RGB)\n",
    "    x = cv2.resize(x, (IMAGE_SIZE, IMAGE_SIZE))\n",
    "    x = x/255.0\n",
    "    return x\n",
    "\n",
    "def read_mask(path):\n",
    "    x = cv2.imread(path, cv2.IMREAD_GRAYSCALE)\n",
    "    x = cv2.resize(x, (IMAGE_SIZE, IMAGE_SIZE))\n",
    "    x = np.expand_dims(x, axis=-1)\n",
    "    x = x/255.0\n",
    "    return x"
   ],
   "metadata": {
    "collapsed": false,
    "ExecuteTime": {
     "start_time": "2024-02-07T00:22:40.325214306Z"
    }
   },
   "id": "a4757b8538aeb982"
  },
  {
   "cell_type": "code",
   "execution_count": null,
   "outputs": [],
   "source": [
    "def mask_parse(mask):\n",
    "    mask = np.squeeze(mask)\n",
    "    mask = [mask, mask, mask]\n",
    "    mask = np.transpose(mask, (1, 2, 0))\n",
    "    return mask"
   ],
   "metadata": {
    "collapsed": false,
    "ExecuteTime": {
     "start_time": "2024-02-07T00:22:40.329134458Z"
    }
   },
   "id": "b418951e4678a6fa"
  },
  {
   "cell_type": "code",
   "execution_count": null,
   "outputs": [],
   "source": [
    "for i, (x, y) in enumerate(zip(test_x[:10], test_y[:10])):\n",
    "    x = read_image(x)\n",
    "    y = read_mask(y)\n",
    "    y_pred = model.predict(np.expand_dims(x, axis=0))[0] > 0.5\n",
    "    h, w, _ = x.shape\n",
    "    white_line = np.ones((h, 10, 3))\n",
    "\n",
    "    all_images = [\n",
    "        x, white_line,\n",
    "        mask_parse(y), white_line,\n",
    "        mask_parse(y_pred)\n",
    "    ]\n",
    "    image = np.concatenate(all_images, axis=1)\n",
    "\n",
    "    fig = plt.figure(figsize=(12, 12))\n",
    "    a = fig.add_subplot(1, 1, 1)\n",
    "    imgplot = plt.imshow(image)"
   ],
   "metadata": {
    "collapsed": false,
    "ExecuteTime": {
     "start_time": "2024-02-07T00:22:40.333698724Z"
    }
   },
   "id": "48d8ea77a1967bc0"
  },
  {
   "cell_type": "code",
   "execution_count": null,
   "outputs": [],
   "source": [],
   "metadata": {
    "collapsed": false,
    "ExecuteTime": {
     "start_time": "2024-02-07T00:22:40.337474931Z"
    }
   },
   "id": "1e1271395f6054f6"
  }
 ],
 "metadata": {
  "kernelspec": {
   "display_name": "Python 3",
   "language": "python",
   "name": "python3"
  },
  "language_info": {
   "codemirror_mode": {
    "name": "ipython",
    "version": 2
   },
   "file_extension": ".py",
   "mimetype": "text/x-python",
   "name": "python",
   "nbconvert_exporter": "python",
   "pygments_lexer": "ipython2",
   "version": "2.7.6"
  }
 },
 "nbformat": 4,
 "nbformat_minor": 5
}
