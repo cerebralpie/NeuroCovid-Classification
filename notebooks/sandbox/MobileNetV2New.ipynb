{
 "cells": [
  {
   "cell_type": "code",
   "outputs": [],
   "source": [
    "import os.path\n",
    "import cv2\n",
    "import matplotlib.pyplot as plt\n",
    "\n",
    "import numpy as np\n",
    "import tensorflow as tf\n",
    "import src.metrics as nc_metrics\n",
    "import src.utils as nc_utils\n",
    "import notebooks.sandbox.models as nc_models\n",
    "\n",
    "import time\n",
    "\n",
    "from pathlib import Path\n",
    "from tensorflow.keras import layers\n",
    "from tensorflow.keras import callbacks\n",
    "from tensorflow.keras import losses\n",
    "from tensorflow.keras import metrics\n",
    "from tensorflow.keras import models"
   ],
   "metadata": {
    "collapsed": false,
    "ExecuteTime": {
     "end_time": "2024-02-17T19:07:03.153554873Z",
     "start_time": "2024-02-17T19:07:02.942413563Z"
    }
   },
   "id": "b4be86a0409dcceb",
   "execution_count": 15
  },
  {
   "cell_type": "code",
   "outputs": [],
   "source": [
    "strategy = nc_utils.start_session()\n",
    "\n",
    "ROOT_DIR = \"src/data\"\n",
    "IMAGE_DIR = os.path.join(ROOT_DIR, \"images\")\n",
    "MASK_DIR = os.path.join(ROOT_DIR, \"masks\")\n",
    "\n",
    "BATCH_SIZE = 4\n",
    "LR = 1e-4  # Learning rate\n",
    "LR_FINE = 1e-6 # Fine-tuning learning rate\n",
    "EPOCHS = 300\n",
    "\n",
    "smallest_dimension = nc_utils.get_smallest_image_dimension(IMAGE_DIR)\n",
    "\n",
    "#IMAGE_SIZE = smallest_dimension\n",
    "IMAGE_SIZE = 256\n",
    "IMAGE_SHAPE = (IMAGE_SIZE, IMAGE_SIZE)\n",
    "INPUT_SHAPE = (IMAGE_SIZE, IMAGE_SIZE, 3)"
   ],
   "metadata": {
    "collapsed": false,
    "ExecuteTime": {
     "end_time": "2024-02-17T19:07:03.333114837Z",
     "start_time": "2024-02-17T19:07:03.160510308Z"
    }
   },
   "id": "23daf607bf731b2",
   "execution_count": 16
  },
  {
   "cell_type": "code",
   "outputs": [],
   "source": [
    "(x_train_paths, y_train_paths), (x_valid_paths, y_valid_paths), (\n",
    "x_test_paths,\n",
    "y_test_paths) = nc_utils.load_data(\n",
    "    image_directory=IMAGE_DIR,\n",
    "    mask_directory=MASK_DIR,\n",
    "    split=0.1\n",
    ")\n",
    "\n",
    "train_dataset = nc_utils.get_tensorflow_dataset(\n",
    "    image_mask_paths=(x_train_paths, y_train_paths),\n",
    "    image_size=IMAGE_SIZE,\n",
    "    batch_size=BATCH_SIZE\n",
    ")\n",
    "\n",
    "validation_dataset = nc_utils.get_tensorflow_dataset(\n",
    "    image_mask_paths=(x_valid_paths, y_valid_paths),\n",
    "    image_size=IMAGE_SIZE,\n",
    "    batch_size=BATCH_SIZE\n",
    ")\n",
    "\n",
    "test_dataset = nc_utils.get_tensorflow_dataset(\n",
    "    image_mask_paths=(x_test_paths, y_test_paths),\n",
    "    image_size=IMAGE_SIZE,\n",
    "    batch_size=BATCH_SIZE\n",
    ")\n",
    "\n",
    "data_aug = nc_utils.get_data_augmentation_pipeline()"
   ],
   "metadata": {
    "collapsed": false,
    "ExecuteTime": {
     "end_time": "2024-02-17T19:07:03.402284334Z",
     "start_time": "2024-02-17T19:07:03.230582984Z"
    }
   },
   "id": "50aefcbf63c532ab",
   "execution_count": 17
  },
  {
   "cell_type": "code",
   "outputs": [
    {
     "name": "stdout",
     "output_type": "stream",
     "text": [
      "WARNING:tensorflow:`input_shape` is undefined or non-square, or `rows` is not in [96, 128, 160, 192, 224]. Weights for input shape (224, 224) will be loaded as the default.\n"
     ]
    },
    {
     "name": "stderr",
     "output_type": "stream",
     "text": [
      "2024-02-17 16:07:15.294667: W external/local_tsl/tsl/framework/bfc_allocator.cc:485] Allocator (GPU_0_bfc) ran out of memory trying to allocate 13.5KiB (rounded to 13824)requested by op AddV2\n",
      "If the cause is memory fragmentation maybe the environment variable 'TF_GPU_ALLOCATOR=cuda_malloc_async' will improve the situation. \n",
      "Current allocation summary follows.\n",
      "Current allocation summary follows.\n",
      "2024-02-17 16:07:15.294701: I external/local_tsl/tsl/framework/bfc_allocator.cc:1039] BFCAllocator dump for GPU_0_bfc\n",
      "2024-02-17 16:07:15.294716: I external/local_tsl/tsl/framework/bfc_allocator.cc:1046] Bin (256): \tTotal Chunks: 101, Chunks in use: 101. 25.2KiB allocated for chunks. 25.2KiB in use in bin. 7.4KiB client-requested in use in bin.\n",
      "2024-02-17 16:07:15.294728: I external/local_tsl/tsl/framework/bfc_allocator.cc:1046] Bin (512): \tTotal Chunks: 49, Chunks in use: 49. 30.5KiB allocated for chunks. 30.5KiB in use in bin. 23.0KiB client-requested in use in bin.\n",
      "2024-02-17 16:07:15.294739: I external/local_tsl/tsl/framework/bfc_allocator.cc:1046] Bin (1024): \tTotal Chunks: 11, Chunks in use: 11. 17.0KiB allocated for chunks. 17.0KiB in use in bin. 15.8KiB client-requested in use in bin.\n",
      "2024-02-17 16:07:15.294750: I external/local_tsl/tsl/framework/bfc_allocator.cc:1046] Bin (2048): \tTotal Chunks: 4, Chunks in use: 4. 13.5KiB allocated for chunks. 13.5KiB in use in bin. 13.1KiB client-requested in use in bin.\n",
      "2024-02-17 16:07:15.294761: I external/local_tsl/tsl/framework/bfc_allocator.cc:1046] Bin (4096): \tTotal Chunks: 9, Chunks in use: 8. 51.2KiB allocated for chunks. 45.8KiB in use in bin. 45.2KiB client-requested in use in bin.\n",
      "2024-02-17 16:07:15.294773: I external/local_tsl/tsl/framework/bfc_allocator.cc:1046] Bin (8192): \tTotal Chunks: 8, Chunks in use: 7. 101.2KiB allocated for chunks. 90.0KiB in use in bin. 90.0KiB client-requested in use in bin.\n",
      "2024-02-17 16:07:15.294784: I external/local_tsl/tsl/framework/bfc_allocator.cc:1046] Bin (16384): \tTotal Chunks: 1, Chunks in use: 1. 17.2KiB allocated for chunks. 17.2KiB in use in bin. 13.5KiB client-requested in use in bin.\n",
      "2024-02-17 16:07:15.294795: I external/local_tsl/tsl/framework/bfc_allocator.cc:1046] Bin (32768): \tTotal Chunks: 0, Chunks in use: 0. 0B allocated for chunks. 0B in use in bin. 0B client-requested in use in bin.\n",
      "2024-02-17 16:07:15.294806: I external/local_tsl/tsl/framework/bfc_allocator.cc:1046] Bin (65536): \tTotal Chunks: 0, Chunks in use: 0. 0B allocated for chunks. 0B in use in bin. 0B client-requested in use in bin.\n",
      "2024-02-17 16:07:15.295050: I external/local_tsl/tsl/framework/bfc_allocator.cc:1046] Bin (131072): \tTotal Chunks: 0, Chunks in use: 0. 0B allocated for chunks. 0B in use in bin. 0B client-requested in use in bin.\n",
      "2024-02-17 16:07:15.295067: I external/local_tsl/tsl/framework/bfc_allocator.cc:1046] Bin (262144): \tTotal Chunks: 0, Chunks in use: 0. 0B allocated for chunks. 0B in use in bin. 0B client-requested in use in bin.\n",
      "2024-02-17 16:07:15.295082: I external/local_tsl/tsl/framework/bfc_allocator.cc:1046] Bin (524288): \tTotal Chunks: 0, Chunks in use: 0. 0B allocated for chunks. 0B in use in bin. 0B client-requested in use in bin.\n",
      "2024-02-17 16:07:15.295094: I external/local_tsl/tsl/framework/bfc_allocator.cc:1046] Bin (1048576): \tTotal Chunks: 0, Chunks in use: 0. 0B allocated for chunks. 0B in use in bin. 0B client-requested in use in bin.\n",
      "2024-02-17 16:07:15.295105: I external/local_tsl/tsl/framework/bfc_allocator.cc:1046] Bin (2097152): \tTotal Chunks: 0, Chunks in use: 0. 0B allocated for chunks. 0B in use in bin. 0B client-requested in use in bin.\n",
      "2024-02-17 16:07:15.295117: I external/local_tsl/tsl/framework/bfc_allocator.cc:1046] Bin (4194304): \tTotal Chunks: 0, Chunks in use: 0. 0B allocated for chunks. 0B in use in bin. 0B client-requested in use in bin.\n",
      "2024-02-17 16:07:15.295129: I external/local_tsl/tsl/framework/bfc_allocator.cc:1046] Bin (8388608): \tTotal Chunks: 0, Chunks in use: 0. 0B allocated for chunks. 0B in use in bin. 0B client-requested in use in bin.\n",
      "2024-02-17 16:07:15.295141: I external/local_tsl/tsl/framework/bfc_allocator.cc:1046] Bin (16777216): \tTotal Chunks: 0, Chunks in use: 0. 0B allocated for chunks. 0B in use in bin. 0B client-requested in use in bin.\n",
      "2024-02-17 16:07:15.295153: I external/local_tsl/tsl/framework/bfc_allocator.cc:1046] Bin (33554432): \tTotal Chunks: 0, Chunks in use: 0. 0B allocated for chunks. 0B in use in bin. 0B client-requested in use in bin.\n",
      "2024-02-17 16:07:15.295165: I external/local_tsl/tsl/framework/bfc_allocator.cc:1046] Bin (67108864): \tTotal Chunks: 0, Chunks in use: 0. 0B allocated for chunks. 0B in use in bin. 0B client-requested in use in bin.\n",
      "2024-02-17 16:07:15.295177: I external/local_tsl/tsl/framework/bfc_allocator.cc:1046] Bin (134217728): \tTotal Chunks: 0, Chunks in use: 0. 0B allocated for chunks. 0B in use in bin. 0B client-requested in use in bin.\n",
      "2024-02-17 16:07:15.295189: I external/local_tsl/tsl/framework/bfc_allocator.cc:1046] Bin (268435456): \tTotal Chunks: 0, Chunks in use: 0. 0B allocated for chunks. 0B in use in bin. 0B client-requested in use in bin.\n",
      "2024-02-17 16:07:15.295203: I external/local_tsl/tsl/framework/bfc_allocator.cc:1062] Bin for 13.5KiB was 8.0KiB, Chunk State: \n",
      "2024-02-17 16:07:15.295222: I external/local_tsl/tsl/framework/bfc_allocator.cc:1068]   Size: 11.2KiB | Requested Size: 5.1KiB | in_use: 0 | bin_num: 5, prev:   Size: 768B | Requested Size: 576B | in_use: 1 | bin_num: -1, next:   Size: 9.0KiB | Requested Size: 9.0KiB | in_use: 1 | bin_num: -1\n",
      "2024-02-17 16:07:15.295235: I external/local_tsl/tsl/framework/bfc_allocator.cc:1075] Next region of size 262144\n",
      "2024-02-17 16:07:15.295247: I external/local_tsl/tsl/framework/bfc_allocator.cc:1095] InUse at 7011a0000 of size 1280 next 1\n",
      "2024-02-17 16:07:15.295258: I external/local_tsl/tsl/framework/bfc_allocator.cc:1095] InUse at 7011a0500 of size 256 next 2\n",
      "2024-02-17 16:07:15.295269: I external/local_tsl/tsl/framework/bfc_allocator.cc:1095] InUse at 7011a0600 of size 256 next 3\n",
      "2024-02-17 16:07:15.295280: I external/local_tsl/tsl/framework/bfc_allocator.cc:1095] InUse at 7011a0700 of size 256 next 4\n",
      "2024-02-17 16:07:15.295290: I external/local_tsl/tsl/framework/bfc_allocator.cc:1095] InUse at 7011a0800 of size 256 next 5\n",
      "2024-02-17 16:07:15.295301: I external/local_tsl/tsl/framework/bfc_allocator.cc:1095] InUse at 7011a0900 of size 256 next 6\n",
      "2024-02-17 16:07:15.295311: I external/local_tsl/tsl/framework/bfc_allocator.cc:1095] InUse at 7011a0a00 of size 256 next 7\n",
      "2024-02-17 16:07:15.295321: I external/local_tsl/tsl/framework/bfc_allocator.cc:1095] InUse at 7011a0b00 of size 256 next 8\n",
      "2024-02-17 16:07:15.295331: I external/local_tsl/tsl/framework/bfc_allocator.cc:1095] InUse at 7011a0c00 of size 256 next 9\n",
      "2024-02-17 16:07:15.295342: I external/local_tsl/tsl/framework/bfc_allocator.cc:1095] InUse at 7011a0d00 of size 256 next 10\n",
      "2024-02-17 16:07:15.295353: I external/local_tsl/tsl/framework/bfc_allocator.cc:1095] InUse at 7011a0e00 of size 256 next 12\n",
      "2024-02-17 16:07:15.295363: I external/local_tsl/tsl/framework/bfc_allocator.cc:1095] InUse at 7011a0f00 of size 256 next 13\n",
      "2024-02-17 16:07:15.295374: I external/local_tsl/tsl/framework/bfc_allocator.cc:1095] InUse at 7011a1000 of size 256 next 11\n",
      "2024-02-17 16:07:15.295384: I external/local_tsl/tsl/framework/bfc_allocator.cc:1095] InUse at 7011a1100 of size 256 next 14\n",
      "2024-02-17 16:07:15.295395: I external/local_tsl/tsl/framework/bfc_allocator.cc:1095] InUse at 7011a1200 of size 256 next 17\n",
      "2024-02-17 16:07:15.295405: I external/local_tsl/tsl/framework/bfc_allocator.cc:1095] InUse at 7011a1300 of size 256 next 18\n",
      "2024-02-17 16:07:15.295417: I external/local_tsl/tsl/framework/bfc_allocator.cc:1095] InUse at 7011a1400 of size 256 next 19\n",
      "2024-02-17 16:07:15.295427: I external/local_tsl/tsl/framework/bfc_allocator.cc:1095] InUse at 7011a1500 of size 256 next 20\n",
      "2024-02-17 16:07:15.295437: I external/local_tsl/tsl/framework/bfc_allocator.cc:1095] InUse at 7011a1600 of size 256 next 22\n",
      "2024-02-17 16:07:15.295448: I external/local_tsl/tsl/framework/bfc_allocator.cc:1095] InUse at 7011a1700 of size 256 next 23\n",
      "2024-02-17 16:07:15.295458: I external/local_tsl/tsl/framework/bfc_allocator.cc:1095] InUse at 7011a1800 of size 256 next 21\n",
      "2024-02-17 16:07:15.295469: I external/local_tsl/tsl/framework/bfc_allocator.cc:1095] InUse at 7011a1900 of size 256 next 24\n",
      "2024-02-17 16:07:15.295479: I external/local_tsl/tsl/framework/bfc_allocator.cc:1095] InUse at 7011a1a00 of size 256 next 26\n",
      "2024-02-17 16:07:15.295490: I external/local_tsl/tsl/framework/bfc_allocator.cc:1095] InUse at 7011a1b00 of size 256 next 27\n",
      "2024-02-17 16:07:15.295501: I external/local_tsl/tsl/framework/bfc_allocator.cc:1095] InUse at 7011a1c00 of size 256 next 30\n",
      "2024-02-17 16:07:15.295511: I external/local_tsl/tsl/framework/bfc_allocator.cc:1095] InUse at 7011a1d00 of size 256 next 28\n",
      "2024-02-17 16:07:15.295521: I external/local_tsl/tsl/framework/bfc_allocator.cc:1095] InUse at 7011a1e00 of size 256 next 15\n",
      "2024-02-17 16:07:15.295534: I external/local_tsl/tsl/framework/bfc_allocator.cc:1095] InUse at 7011a1f00 of size 1792 next 16\n",
      "2024-02-17 16:07:15.295544: I external/local_tsl/tsl/framework/bfc_allocator.cc:1095] InUse at 7011a2600 of size 768 next 25\n",
      "2024-02-17 16:07:15.295557: I external/local_tsl/tsl/framework/bfc_allocator.cc:1095] InUse at 7011a2900 of size 256 next 29\n",
      "2024-02-17 16:07:15.295568: I external/local_tsl/tsl/framework/bfc_allocator.cc:1095] InUse at 7011a2a00 of size 256 next 33\n",
      "2024-02-17 16:07:15.295579: I external/local_tsl/tsl/framework/bfc_allocator.cc:1095] InUse at 7011a2b00 of size 256 next 34\n",
      "2024-02-17 16:07:15.295590: I external/local_tsl/tsl/framework/bfc_allocator.cc:1095] InUse at 7011a2c00 of size 256 next 31\n",
      "2024-02-17 16:07:15.295601: I external/local_tsl/tsl/framework/bfc_allocator.cc:1095] InUse at 7011a2d00 of size 512 next 32\n",
      "2024-02-17 16:07:15.295612: I external/local_tsl/tsl/framework/bfc_allocator.cc:1095] InUse at 7011a2f00 of size 256 next 35\n",
      "2024-02-17 16:07:15.295622: I external/local_tsl/tsl/framework/bfc_allocator.cc:1095] InUse at 7011a3000 of size 256 next 36\n",
      "2024-02-17 16:07:15.295634: I external/local_tsl/tsl/framework/bfc_allocator.cc:1095] InUse at 7011a3100 of size 256 next 37\n",
      "2024-02-17 16:07:15.295643: I external/local_tsl/tsl/framework/bfc_allocator.cc:1095] InUse at 7011a3200 of size 256 next 40\n",
      "2024-02-17 16:07:15.295655: I external/local_tsl/tsl/framework/bfc_allocator.cc:1095] InUse at 7011a3300 of size 256 next 41\n",
      "2024-02-17 16:07:15.295666: I external/local_tsl/tsl/framework/bfc_allocator.cc:1095] InUse at 7011a3400 of size 256 next 81\n",
      "2024-02-17 16:07:15.295678: I external/local_tsl/tsl/framework/bfc_allocator.cc:1095] InUse at 7011a3500 of size 256 next 85\n",
      "2024-02-17 16:07:15.295688: I external/local_tsl/tsl/framework/bfc_allocator.cc:1095] InUse at 7011a3600 of size 256 next 86\n",
      "2024-02-17 16:07:15.295699: I external/local_tsl/tsl/framework/bfc_allocator.cc:1095] InUse at 7011a3700 of size 512 next 87\n",
      "2024-02-17 16:07:15.295710: I external/local_tsl/tsl/framework/bfc_allocator.cc:1095] InUse at 7011a3900 of size 512 next 88\n",
      "2024-02-17 16:07:15.295721: I external/local_tsl/tsl/framework/bfc_allocator.cc:1095] InUse at 7011a3b00 of size 512 next 38\n",
      "2024-02-17 16:07:15.295731: I external/local_tsl/tsl/framework/bfc_allocator.cc:1095] InUse at 7011a3d00 of size 1536 next 39\n",
      "2024-02-17 16:07:15.295743: I external/local_tsl/tsl/framework/bfc_allocator.cc:1095] InUse at 7011a4300 of size 256 next 43\n",
      "2024-02-17 16:07:15.295753: I external/local_tsl/tsl/framework/bfc_allocator.cc:1095] InUse at 7011a4400 of size 256 next 42\n",
      "2024-02-17 16:07:15.295763: I external/local_tsl/tsl/framework/bfc_allocator.cc:1095] InUse at 7011a4500 of size 256 next 44\n",
      "2024-02-17 16:07:15.295774: I external/local_tsl/tsl/framework/bfc_allocator.cc:1095] InUse at 7011a4600 of size 256 next 47\n",
      "2024-02-17 16:07:15.295784: I external/local_tsl/tsl/framework/bfc_allocator.cc:1095] InUse at 7011a4700 of size 256 next 48\n",
      "2024-02-17 16:07:15.295795: I external/local_tsl/tsl/framework/bfc_allocator.cc:1095] InUse at 7011a4800 of size 256 next 49\n",
      "2024-02-17 16:07:15.295805: I external/local_tsl/tsl/framework/bfc_allocator.cc:1095] InUse at 7011a4900 of size 256 next 52\n",
      "2024-02-17 16:07:15.295816: I external/local_tsl/tsl/framework/bfc_allocator.cc:1095] InUse at 7011a4a00 of size 256 next 45\n",
      "2024-02-17 16:07:15.295826: I external/local_tsl/tsl/framework/bfc_allocator.cc:1095] InUse at 7011a4b00 of size 1792 next 46\n",
      "2024-02-17 16:07:15.295837: I external/local_tsl/tsl/framework/bfc_allocator.cc:1095] InUse at 7011a5200 of size 256 next 53\n",
      "2024-02-17 16:07:15.295847: I external/local_tsl/tsl/framework/bfc_allocator.cc:1095] InUse at 7011a5300 of size 256 next 54\n",
      "2024-02-17 16:07:15.295857: I external/local_tsl/tsl/framework/bfc_allocator.cc:1095] InUse at 7011a5400 of size 256 next 57\n",
      "2024-02-17 16:07:15.295868: I external/local_tsl/tsl/framework/bfc_allocator.cc:1095] InUse at 7011a5500 of size 256 next 58\n",
      "2024-02-17 16:07:15.295878: I external/local_tsl/tsl/framework/bfc_allocator.cc:1095] InUse at 7011a5600 of size 256 next 59\n",
      "2024-02-17 16:07:15.295888: I external/local_tsl/tsl/framework/bfc_allocator.cc:1095] InUse at 7011a5700 of size 256 next 51\n",
      "2024-02-17 16:07:15.295899: I external/local_tsl/tsl/framework/bfc_allocator.cc:1095] InUse at 7011a5800 of size 1536 next 50\n",
      "2024-02-17 16:07:15.295910: I external/local_tsl/tsl/framework/bfc_allocator.cc:1095] InUse at 7011a5e00 of size 256 next 62\n",
      "2024-02-17 16:07:15.295920: I external/local_tsl/tsl/framework/bfc_allocator.cc:1095] InUse at 7011a5f00 of size 256 next 63\n",
      "2024-02-17 16:07:15.295930: I external/local_tsl/tsl/framework/bfc_allocator.cc:1095] InUse at 7011a6000 of size 256 next 64\n",
      "2024-02-17 16:07:15.295941: I external/local_tsl/tsl/framework/bfc_allocator.cc:1095] InUse at 7011a6100 of size 256 next 65\n",
      "2024-02-17 16:07:15.295951: I external/local_tsl/tsl/framework/bfc_allocator.cc:1095] InUse at 7011a6200 of size 256 next 67\n",
      "2024-02-17 16:07:15.295962: I external/local_tsl/tsl/framework/bfc_allocator.cc:1095] InUse at 7011a6300 of size 256 next 56\n",
      "2024-02-17 16:07:15.295972: I external/local_tsl/tsl/framework/bfc_allocator.cc:1095] InUse at 7011a6400 of size 1536 next 55\n",
      "2024-02-17 16:07:15.295983: I external/local_tsl/tsl/framework/bfc_allocator.cc:1095] InUse at 7011a6a00 of size 256 next 75\n",
      "2024-02-17 16:07:15.295993: I external/local_tsl/tsl/framework/bfc_allocator.cc:1095] InUse at 7011a6b00 of size 256 next 77\n",
      "2024-02-17 16:07:15.296003: I external/local_tsl/tsl/framework/bfc_allocator.cc:1095] InUse at 7011a6c00 of size 256 next 78\n",
      "2024-02-17 16:07:15.296014: I external/local_tsl/tsl/framework/bfc_allocator.cc:1095] InUse at 7011a6d00 of size 256 next 79\n",
      "2024-02-17 16:07:15.296025: I external/local_tsl/tsl/framework/bfc_allocator.cc:1095] InUse at 7011a6e00 of size 256 next 82\n",
      "2024-02-17 16:07:15.296035: I external/local_tsl/tsl/framework/bfc_allocator.cc:1095] InUse at 7011a6f00 of size 256 next 80\n",
      "2024-02-17 16:07:15.296046: I external/local_tsl/tsl/framework/bfc_allocator.cc:1095] InUse at 7011a7000 of size 256 next 61\n",
      "2024-02-17 16:07:15.296056: I external/local_tsl/tsl/framework/bfc_allocator.cc:1095] InUse at 7011a7100 of size 1792 next 60\n",
      "2024-02-17 16:07:15.296067: I external/local_tsl/tsl/framework/bfc_allocator.cc:1095] InUse at 7011a7800 of size 1536 next 66\n",
      "2024-02-17 16:07:15.296077: I external/local_tsl/tsl/framework/bfc_allocator.cc:1095] InUse at 7011a7e00 of size 256 next 68\n",
      "2024-02-17 16:07:15.296088: I external/local_tsl/tsl/framework/bfc_allocator.cc:1095] InUse at 7011a7f00 of size 256 next 69\n",
      "2024-02-17 16:07:15.296099: I external/local_tsl/tsl/framework/bfc_allocator.cc:1095] InUse at 7011a8000 of size 256 next 72\n",
      "2024-02-17 16:07:15.296109: I external/local_tsl/tsl/framework/bfc_allocator.cc:1095] InUse at 7011a8100 of size 256 next 73\n",
      "2024-02-17 16:07:15.296119: I external/local_tsl/tsl/framework/bfc_allocator.cc:1095] InUse at 7011a8200 of size 256 next 74\n",
      "2024-02-17 16:07:15.296130: I external/local_tsl/tsl/framework/bfc_allocator.cc:1095] InUse at 7011a8300 of size 256 next 71\n",
      "2024-02-17 16:07:15.296140: I external/local_tsl/tsl/framework/bfc_allocator.cc:1095] InUse at 7011a8400 of size 1536 next 70\n",
      "2024-02-17 16:07:15.296150: I external/local_tsl/tsl/framework/bfc_allocator.cc:1095] InUse at 7011a8a00 of size 1792 next 76\n",
      "2024-02-17 16:07:15.296161: I external/local_tsl/tsl/framework/bfc_allocator.cc:1095] InUse at 7011a9100 of size 512 next 91\n",
      "2024-02-17 16:07:15.296172: I external/local_tsl/tsl/framework/bfc_allocator.cc:1095] InUse at 7011a9300 of size 256 next 92\n",
      "2024-02-17 16:07:15.296182: I external/local_tsl/tsl/framework/bfc_allocator.cc:1095] InUse at 7011a9400 of size 256 next 93\n",
      "2024-02-17 16:07:15.296192: I external/local_tsl/tsl/framework/bfc_allocator.cc:1095] InUse at 7011a9500 of size 512 next 95\n",
      "2024-02-17 16:07:15.296202: I external/local_tsl/tsl/framework/bfc_allocator.cc:1095] InUse at 7011a9700 of size 512 next 94\n",
      "2024-02-17 16:07:15.296213: I external/local_tsl/tsl/framework/bfc_allocator.cc:1095] InUse at 7011a9900 of size 512 next 96\n",
      "2024-02-17 16:07:15.296223: I external/local_tsl/tsl/framework/bfc_allocator.cc:1095] InUse at 7011a9b00 of size 512 next 98\n",
      "2024-02-17 16:07:15.296234: I external/local_tsl/tsl/framework/bfc_allocator.cc:1095] InUse at 7011a9d00 of size 256 next 99\n",
      "2024-02-17 16:07:15.296244: I external/local_tsl/tsl/framework/bfc_allocator.cc:1095] InUse at 7011a9e00 of size 256 next 100\n",
      "2024-02-17 16:07:15.296254: I external/local_tsl/tsl/framework/bfc_allocator.cc:1095] InUse at 7011a9f00 of size 256 next 103\n",
      "2024-02-17 16:07:15.296264: I external/local_tsl/tsl/framework/bfc_allocator.cc:1095] InUse at 7011aa000 of size 256 next 104\n",
      "2024-02-17 16:07:15.296275: I external/local_tsl/tsl/framework/bfc_allocator.cc:1095] InUse at 7011aa100 of size 512 next 105\n",
      "2024-02-17 16:07:15.296285: I external/local_tsl/tsl/framework/bfc_allocator.cc:1095] InUse at 7011aa300 of size 512 next 106\n",
      "2024-02-17 16:07:15.296296: I external/local_tsl/tsl/framework/bfc_allocator.cc:1095] InUse at 7011aa500 of size 512 next 108\n",
      "2024-02-17 16:07:15.296306: I external/local_tsl/tsl/framework/bfc_allocator.cc:1095] InUse at 7011aa700 of size 512 next 83\n",
      "2024-02-17 16:07:15.296317: I external/local_tsl/tsl/framework/bfc_allocator.cc:1095] InUse at 7011aa900 of size 3072 next 84\n",
      "2024-02-17 16:07:15.296327: I external/local_tsl/tsl/framework/bfc_allocator.cc:1095] InUse at 7011ab500 of size 512 next 110\n",
      "2024-02-17 16:07:15.296338: I external/local_tsl/tsl/framework/bfc_allocator.cc:1095] InUse at 7011ab700 of size 512 next 109\n",
      "2024-02-17 16:07:15.296349: I external/local_tsl/tsl/framework/bfc_allocator.cc:1095] InUse at 7011ab900 of size 512 next 111\n",
      "2024-02-17 16:07:15.296359: I external/local_tsl/tsl/framework/bfc_allocator.cc:1095] InUse at 7011abb00 of size 512 next 113\n",
      "2024-02-17 16:07:15.296370: I external/local_tsl/tsl/framework/bfc_allocator.cc:1095] InUse at 7011abd00 of size 256 next 114\n",
      "2024-02-17 16:07:15.296380: I external/local_tsl/tsl/framework/bfc_allocator.cc:1095] InUse at 7011abe00 of size 256 next 115\n",
      "2024-02-17 16:07:15.296391: I external/local_tsl/tsl/framework/bfc_allocator.cc:1095] InUse at 7011abf00 of size 256 next 118\n",
      "2024-02-17 16:07:15.296401: I external/local_tsl/tsl/framework/bfc_allocator.cc:1095] InUse at 7011ac000 of size 256 next 119\n",
      "2024-02-17 16:07:15.296412: I external/local_tsl/tsl/framework/bfc_allocator.cc:1095] InUse at 7011ac100 of size 512 next 120\n",
      "2024-02-17 16:07:15.296422: I external/local_tsl/tsl/framework/bfc_allocator.cc:1095] InUse at 7011ac300 of size 512 next 121\n",
      "2024-02-17 16:07:15.296433: I external/local_tsl/tsl/framework/bfc_allocator.cc:1095] InUse at 7011ac500 of size 512 next 123\n",
      "2024-02-17 16:07:15.296443: I external/local_tsl/tsl/framework/bfc_allocator.cc:1095] InUse at 7011ac700 of size 512 next 124\n",
      "2024-02-17 16:07:15.296454: I external/local_tsl/tsl/framework/bfc_allocator.cc:1095] InUse at 7011ac900 of size 512 next 125\n",
      "2024-02-17 16:07:15.296464: I external/local_tsl/tsl/framework/bfc_allocator.cc:1095] InUse at 7011acb00 of size 512 next 90\n",
      "2024-02-17 16:07:15.296475: I external/local_tsl/tsl/framework/bfc_allocator.cc:1095] InUse at 7011acd00 of size 6144 next 89\n",
      "2024-02-17 16:07:15.296485: I external/local_tsl/tsl/framework/bfc_allocator.cc:1095] InUse at 7011ae500 of size 3584 next 97\n",
      "2024-02-17 16:07:15.296496: I external/local_tsl/tsl/framework/bfc_allocator.cc:1095] InUse at 7011af300 of size 512 next 126\n",
      "2024-02-17 16:07:15.296507: I external/local_tsl/tsl/framework/bfc_allocator.cc:1095] InUse at 7011af500 of size 512 next 128\n",
      "2024-02-17 16:07:15.296517: I external/local_tsl/tsl/framework/bfc_allocator.cc:1095] InUse at 7011af700 of size 256 next 129\n",
      "2024-02-17 16:07:15.296528: I external/local_tsl/tsl/framework/bfc_allocator.cc:1095] InUse at 7011af800 of size 256 next 130\n",
      "2024-02-17 16:07:15.296538: I external/local_tsl/tsl/framework/bfc_allocator.cc:1095] InUse at 7011af900 of size 256 next 133\n",
      "2024-02-17 16:07:15.296549: I external/local_tsl/tsl/framework/bfc_allocator.cc:1095] InUse at 7011afa00 of size 256 next 131\n",
      "2024-02-17 16:07:15.296561: I external/local_tsl/tsl/framework/bfc_allocator.cc:1095] InUse at 7011afb00 of size 256 next 132\n",
      "2024-02-17 16:07:15.296571: I external/local_tsl/tsl/framework/bfc_allocator.cc:1095] InUse at 7011afc00 of size 256 next 136\n",
      "2024-02-17 16:07:15.296581: I external/local_tsl/tsl/framework/bfc_allocator.cc:1095] InUse at 7011afd00 of size 256 next 137\n",
      "2024-02-17 16:07:15.296591: I external/local_tsl/tsl/framework/bfc_allocator.cc:1095] InUse at 7011afe00 of size 256 next 138\n",
      "2024-02-17 16:07:15.296602: I external/local_tsl/tsl/framework/bfc_allocator.cc:1095] InUse at 7011aff00 of size 768 next 139\n",
      "2024-02-17 16:07:15.296612: I external/local_tsl/tsl/framework/bfc_allocator.cc:1095] InUse at 7011b0200 of size 768 next 140\n",
      "2024-02-17 16:07:15.296623: I external/local_tsl/tsl/framework/bfc_allocator.cc:1095] InUse at 7011b0500 of size 768 next 143\n",
      "2024-02-17 16:07:15.296634: I external/local_tsl/tsl/framework/bfc_allocator.cc:1095] InUse at 7011b0800 of size 768 next 102\n",
      "2024-02-17 16:07:15.296646: I external/local_tsl/tsl/framework/bfc_allocator.cc:1095] InUse at 7011b0b00 of size 6144 next 101\n",
      "2024-02-17 16:07:15.296657: I external/local_tsl/tsl/framework/bfc_allocator.cc:1095] InUse at 7011b2300 of size 6144 next 107\n",
      "2024-02-17 16:07:15.296668: I external/local_tsl/tsl/framework/bfc_allocator.cc:1095] InUse at 7011b3b00 of size 3584 next 112\n",
      "2024-02-17 16:07:15.296678: I external/local_tsl/tsl/framework/bfc_allocator.cc:1095] InUse at 7011b4900 of size 256 next 144\n",
      "2024-02-17 16:07:15.296689: I external/local_tsl/tsl/framework/bfc_allocator.cc:1095] InUse at 7011b4a00 of size 256 next 145\n",
      "2024-02-17 16:07:15.296699: I external/local_tsl/tsl/framework/bfc_allocator.cc:1095] InUse at 7011b4b00 of size 768 next 148\n",
      "2024-02-17 16:07:15.296709: I external/local_tsl/tsl/framework/bfc_allocator.cc:1095] InUse at 7011b4e00 of size 768 next 146\n",
      "2024-02-17 16:07:15.296719: I external/local_tsl/tsl/framework/bfc_allocator.cc:1095] InUse at 7011b5100 of size 768 next 147\n",
      "2024-02-17 16:07:15.296730: I external/local_tsl/tsl/framework/bfc_allocator.cc:1095] InUse at 7011b5400 of size 768 next 150\n",
      "2024-02-17 16:07:15.296740: I external/local_tsl/tsl/framework/bfc_allocator.cc:1095] InUse at 7011b5700 of size 256 next 151\n",
      "2024-02-17 16:07:15.296751: I external/local_tsl/tsl/framework/bfc_allocator.cc:1095] InUse at 7011b5800 of size 256 next 152\n",
      "2024-02-17 16:07:15.296761: I external/local_tsl/tsl/framework/bfc_allocator.cc:1095] InUse at 7011b5900 of size 256 next 155\n",
      "2024-02-17 16:07:15.296772: I external/local_tsl/tsl/framework/bfc_allocator.cc:1095] InUse at 7011b5a00 of size 256 next 156\n",
      "2024-02-17 16:07:15.296782: I external/local_tsl/tsl/framework/bfc_allocator.cc:1095] InUse at 7011b5b00 of size 768 next 157\n",
      "2024-02-17 16:07:15.296793: I external/local_tsl/tsl/framework/bfc_allocator.cc:1095] InUse at 7011b5e00 of size 768 next 117\n",
      "2024-02-17 16:07:15.296803: I external/local_tsl/tsl/framework/bfc_allocator.cc:1095] InUse at 7011b6100 of size 6144 next 116\n",
      "2024-02-17 16:07:15.296814: I external/local_tsl/tsl/framework/bfc_allocator.cc:1095] InUse at 7011b7900 of size 6144 next 122\n",
      "2024-02-17 16:07:15.296824: I external/local_tsl/tsl/framework/bfc_allocator.cc:1095] InUse at 7011b9100 of size 3584 next 127\n",
      "2024-02-17 16:07:15.296835: I external/local_tsl/tsl/framework/bfc_allocator.cc:1095] InUse at 7011b9f00 of size 5376 next 149\n",
      "2024-02-17 16:07:15.296846: I external/local_tsl/tsl/framework/bfc_allocator.cc:1095] InUse at 7011bb400 of size 768 next 158\n",
      "2024-02-17 16:07:15.296857: I external/local_tsl/tsl/framework/bfc_allocator.cc:1095] InUse at 7011bb700 of size 768 next 160\n",
      "2024-02-17 16:07:15.296867: I external/local_tsl/tsl/framework/bfc_allocator.cc:1095] Free  at 7011bba00 of size 11520 next 135\n",
      "2024-02-17 16:07:15.296878: I external/local_tsl/tsl/framework/bfc_allocator.cc:1095] InUse at 7011be700 of size 9216 next 134\n",
      "2024-02-17 16:07:15.296889: I external/local_tsl/tsl/framework/bfc_allocator.cc:1095] InUse at 7011c0b00 of size 5376 next 165\n",
      "2024-02-17 16:07:15.296900: I external/local_tsl/tsl/framework/bfc_allocator.cc:1095] InUse at 7011c2000 of size 768 next 162\n",
      "2024-02-17 16:07:15.296910: I external/local_tsl/tsl/framework/bfc_allocator.cc:1095] InUse at 7011c2300 of size 768 next 163\n",
      "2024-02-17 16:07:15.296939: I external/local_tsl/tsl/framework/bfc_allocator.cc:1095] InUse at 7011c2600 of size 768 next 161\n",
      "2024-02-17 16:07:15.296950: I external/local_tsl/tsl/framework/bfc_allocator.cc:1095] InUse at 7011c2900 of size 768 next 164\n",
      "2024-02-17 16:07:15.296961: I external/local_tsl/tsl/framework/bfc_allocator.cc:1095] InUse at 7011c2c00 of size 256 next 166\n",
      "2024-02-17 16:07:15.296971: I external/local_tsl/tsl/framework/bfc_allocator.cc:1095] InUse at 7011c2d00 of size 256 next 167\n",
      "2024-02-17 16:07:15.296982: I external/local_tsl/tsl/framework/bfc_allocator.cc:1095] InUse at 7011c2e00 of size 256 next 170\n",
      "2024-02-17 16:07:15.296993: I external/local_tsl/tsl/framework/bfc_allocator.cc:1095] InUse at 7011c2f00 of size 256 next 171\n",
      "2024-02-17 16:07:15.297003: I external/local_tsl/tsl/framework/bfc_allocator.cc:1095] InUse at 7011c3000 of size 768 next 172\n",
      "2024-02-17 16:07:15.297014: I external/local_tsl/tsl/framework/bfc_allocator.cc:1095] InUse at 7011c3300 of size 768 next 173\n",
      "2024-02-17 16:07:15.297024: I external/local_tsl/tsl/framework/bfc_allocator.cc:1095] InUse at 7011c3600 of size 768 next 175\n",
      "2024-02-17 16:07:15.297035: I external/local_tsl/tsl/framework/bfc_allocator.cc:1095] InUse at 7011c3900 of size 768 next 176\n",
      "2024-02-17 16:07:15.297046: I external/local_tsl/tsl/framework/bfc_allocator.cc:1095] InUse at 7011c3c00 of size 1280 next 142\n",
      "2024-02-17 16:07:15.297056: I external/local_tsl/tsl/framework/bfc_allocator.cc:1095] InUse at 7011c4100 of size 13824 next 141\n",
      "2024-02-17 16:07:15.297067: I external/local_tsl/tsl/framework/bfc_allocator.cc:1095] InUse at 7011c7700 of size 5376 next 180\n",
      "2024-02-17 16:07:15.297077: I external/local_tsl/tsl/framework/bfc_allocator.cc:1095] InUse at 7011c8c00 of size 768 next 179\n",
      "2024-02-17 16:07:15.297088: I external/local_tsl/tsl/framework/bfc_allocator.cc:1095] InUse at 7011c8f00 of size 768 next 177\n",
      "2024-02-17 16:07:15.297098: I external/local_tsl/tsl/framework/bfc_allocator.cc:1095] InUse at 7011c9200 of size 768 next 178\n",
      "2024-02-17 16:07:15.297108: I external/local_tsl/tsl/framework/bfc_allocator.cc:1095] InUse at 7011c9500 of size 256 next 181\n",
      "2024-02-17 16:07:15.297120: I external/local_tsl/tsl/framework/bfc_allocator.cc:1095] InUse at 7011c9600 of size 256 next 182\n",
      "2024-02-17 16:07:15.297130: I external/local_tsl/tsl/framework/bfc_allocator.cc:1095] Free  at 7011c9700 of size 5632 next 154\n",
      "2024-02-17 16:07:15.297141: I external/local_tsl/tsl/framework/bfc_allocator.cc:1095] InUse at 7011cad00 of size 13824 next 153\n",
      "2024-02-17 16:07:15.297151: I external/local_tsl/tsl/framework/bfc_allocator.cc:1095] InUse at 7011ce300 of size 13824 next 159\n",
      "2024-02-17 16:07:15.297162: I external/local_tsl/tsl/framework/bfc_allocator.cc:1095] InUse at 7011d1900 of size 13824 next 169\n",
      "2024-02-17 16:07:15.297172: I external/local_tsl/tsl/framework/bfc_allocator.cc:1095] InUse at 7011d4f00 of size 13824 next 168\n",
      "2024-02-17 16:07:15.297182: I external/local_tsl/tsl/framework/bfc_allocator.cc:1095] InUse at 7011d8500 of size 13824 next 174\n",
      "2024-02-17 16:07:15.297194: I external/local_tsl/tsl/framework/bfc_allocator.cc:1095] InUse at 7011dbb00 of size 17664 next 18446744073709551615\n",
      "2024-02-17 16:07:15.297204: I external/local_tsl/tsl/framework/bfc_allocator.cc:1100]      Summary of in-use Chunks by size: \n",
      "2024-02-17 16:07:15.297221: I external/local_tsl/tsl/framework/bfc_allocator.cc:1103] 101 Chunks of size 256 totalling 25.2KiB\n",
      "2024-02-17 16:07:15.297235: I external/local_tsl/tsl/framework/bfc_allocator.cc:1103] 25 Chunks of size 512 totalling 12.5KiB\n",
      "2024-02-17 16:07:15.297248: I external/local_tsl/tsl/framework/bfc_allocator.cc:1103] 24 Chunks of size 768 totalling 18.0KiB\n",
      "2024-02-17 16:07:15.297261: I external/local_tsl/tsl/framework/bfc_allocator.cc:1103] 2 Chunks of size 1280 totalling 2.5KiB\n",
      "2024-02-17 16:07:15.297273: I external/local_tsl/tsl/framework/bfc_allocator.cc:1103] 5 Chunks of size 1536 totalling 7.5KiB\n",
      "2024-02-17 16:07:15.297284: I external/local_tsl/tsl/framework/bfc_allocator.cc:1103] 4 Chunks of size 1792 totalling 7.0KiB\n",
      "2024-02-17 16:07:15.297296: I external/local_tsl/tsl/framework/bfc_allocator.cc:1103] 1 Chunks of size 3072 totalling 3.0KiB\n",
      "2024-02-17 16:07:15.297308: I external/local_tsl/tsl/framework/bfc_allocator.cc:1103] 3 Chunks of size 3584 totalling 10.5KiB\n",
      "2024-02-17 16:07:15.297320: I external/local_tsl/tsl/framework/bfc_allocator.cc:1103] 3 Chunks of size 5376 totalling 15.8KiB\n",
      "2024-02-17 16:07:15.297332: I external/local_tsl/tsl/framework/bfc_allocator.cc:1103] 5 Chunks of size 6144 totalling 30.0KiB\n",
      "2024-02-17 16:07:15.297343: I external/local_tsl/tsl/framework/bfc_allocator.cc:1103] 1 Chunks of size 9216 totalling 9.0KiB\n",
      "2024-02-17 16:07:15.297355: I external/local_tsl/tsl/framework/bfc_allocator.cc:1103] 6 Chunks of size 13824 totalling 81.0KiB\n",
      "2024-02-17 16:07:15.297367: I external/local_tsl/tsl/framework/bfc_allocator.cc:1103] 1 Chunks of size 17664 totalling 17.2KiB\n",
      "2024-02-17 16:07:15.297379: I external/local_tsl/tsl/framework/bfc_allocator.cc:1107] Sum Total of in-use chunks: 239.2KiB\n",
      "2024-02-17 16:07:15.297392: I external/local_tsl/tsl/framework/bfc_allocator.cc:1109] Total bytes in pool: 262144 memory_limit_: 262144 available bytes: 0 curr_region_allocation_bytes_: 524288\n",
      "2024-02-17 16:07:15.297408: I external/local_tsl/tsl/framework/bfc_allocator.cc:1114] Stats: \n",
      "Limit:                          262144\n",
      "InUse:                          244992\n",
      "MaxInUse:                       245248\n",
      "NumAllocs:                         331\n",
      "MaxAllocSize:                    18432\n",
      "Reserved:                            0\n",
      "PeakReserved:                        0\n",
      "LargestFreeBlock:                    0\n",
      "\n",
      "2024-02-17 16:07:15.297457: W external/local_tsl/tsl/framework/bfc_allocator.cc:497] ********************************************___******************_*********************************x\n",
      "2024-02-17 16:07:15.297475: W tensorflow/core/framework/op_kernel.cc:1827] RESOURCE_EXHAUSTED: failed to allocate memory\n"
     ]
    },
    {
     "ename": "ResourceExhaustedError",
     "evalue": "{{function_node __wrapped__AddV2_device_/job:localhost/replica:0/task:0/device:GPU:0}} failed to allocate memory [Op:AddV2] name: ",
     "output_type": "error",
     "traceback": [
      "\u001B[0;31m---------------------------------------------------------------------------\u001B[0m",
      "\u001B[0;31mResourceExhaustedError\u001B[0m                    Traceback (most recent call last)",
      "Cell \u001B[0;32mIn[18], line 3\u001B[0m\n\u001B[1;32m      1\u001B[0m \u001B[38;5;66;03m# Initiating model on GPU\u001B[39;00m\n\u001B[1;32m      2\u001B[0m \u001B[38;5;28;01mwith\u001B[39;00m strategy\u001B[38;5;241m.\u001B[39mscope():\n\u001B[0;32m----> 3\u001B[0m     model \u001B[38;5;241m=\u001B[39m \u001B[43mnc_models\u001B[49m\u001B[38;5;241;43m.\u001B[39;49m\u001B[43mmobilenetv2_unet_model\u001B[49m\u001B[43m(\u001B[49m\u001B[43minput_shape\u001B[49m\u001B[38;5;241;43m=\u001B[39;49m\u001B[43mINPUT_SHAPE\u001B[49m\u001B[43m,\u001B[49m\u001B[43m \u001B[49m\u001B[43maugment_data\u001B[49m\u001B[38;5;241;43m=\u001B[39;49m\u001B[38;5;28;43;01mTrue\u001B[39;49;00m\u001B[43m)\u001B[49m\n\u001B[1;32m      4\u001B[0m     metrics\u001B[38;5;241m=\u001B[39m[nc_metrics\u001B[38;5;241m.\u001B[39mcontinuous_dice_coefficient, nc_metrics\u001B[38;5;241m.\u001B[39mdice_coefficient, nc_metrics\u001B[38;5;241m.\u001B[39msurface_distance_metric,\n\u001B[1;32m      5\u001B[0m              metrics\u001B[38;5;241m.\u001B[39mMeanIoU(\u001B[38;5;241m2\u001B[39m), metrics\u001B[38;5;241m.\u001B[39mRootMeanSquaredError(),\n\u001B[1;32m      6\u001B[0m              metrics\u001B[38;5;241m.\u001B[39mRecall(), metrics\u001B[38;5;241m.\u001B[39mPrecision(), metrics\u001B[38;5;241m.\u001B[39mAccuracy()]\n\u001B[1;32m      7\u001B[0m     loss\u001B[38;5;241m=\u001B[39mnc_metrics\u001B[38;5;241m.\u001B[39mcdc_loss\n",
      "File \u001B[0;32m~/PycharmProjects/NeuroCovid-Classification/notebooks/sandbox/models.py:481\u001B[0m, in \u001B[0;36mmobilenetv2_unet_model\u001B[0;34m(input_shape, num_classes, augment_data)\u001B[0m\n\u001B[1;32m    478\u001B[0m     x \u001B[38;5;241m=\u001B[39m nc_utils\u001B[38;5;241m.\u001B[39mget_data_augmentation_pipeline()(x)\n\u001B[1;32m    480\u001B[0m \u001B[38;5;66;03m# Encoding layers\u001B[39;00m\n\u001B[0;32m--> 481\u001B[0m encoder \u001B[38;5;241m=\u001B[39m \u001B[43mMobileNetV2\u001B[49m\u001B[43m(\u001B[49m\u001B[43minput_tensor\u001B[49m\u001B[38;5;241;43m=\u001B[39;49m\u001B[43mx\u001B[49m\u001B[43m,\u001B[49m\u001B[43m \u001B[49m\u001B[43mweights\u001B[49m\u001B[38;5;241;43m=\u001B[39;49m\u001B[38;5;124;43m\"\u001B[39;49m\u001B[38;5;124;43mimagenet\u001B[39;49m\u001B[38;5;124;43m\"\u001B[39;49m\u001B[43m,\u001B[49m\u001B[43m \u001B[49m\u001B[43minclude_top\u001B[49m\u001B[38;5;241;43m=\u001B[39;49m\u001B[38;5;28;43;01mFalse\u001B[39;49;00m\u001B[43m,\u001B[49m\u001B[43m \u001B[49m\u001B[43malpha\u001B[49m\u001B[38;5;241;43m=\u001B[39;49m\u001B[38;5;241;43m0.35\u001B[39;49m\u001B[43m)\u001B[49m\n\u001B[1;32m    482\u001B[0m skip_connection_names \u001B[38;5;241m=\u001B[39m [\u001B[38;5;124m\"\u001B[39m\u001B[38;5;124minput_1\u001B[39m\u001B[38;5;124m\"\u001B[39m, \u001B[38;5;124m\"\u001B[39m\u001B[38;5;124mblock_1_expand_relu\u001B[39m\u001B[38;5;124m\"\u001B[39m, \u001B[38;5;124m\"\u001B[39m\u001B[38;5;124mblock_3_expand_relu\u001B[39m\u001B[38;5;124m\"\u001B[39m, \u001B[38;5;124m\"\u001B[39m\u001B[38;5;124mblock_6_expand_relu\u001B[39m\u001B[38;5;124m\"\u001B[39m]\n\u001B[1;32m    483\u001B[0m encoder_output \u001B[38;5;241m=\u001B[39m encoder\u001B[38;5;241m.\u001B[39mget_layer(\u001B[38;5;124m\"\u001B[39m\u001B[38;5;124mblock_13_expand_relu\u001B[39m\u001B[38;5;124m\"\u001B[39m)\u001B[38;5;241m.\u001B[39moutput\n",
      "File \u001B[0;32m~/PycharmProjects/NeuroCovid-Classification/NeuroCovid/lib/python3.11/site-packages/keras/src/applications/mobilenet_v2.py:387\u001B[0m, in \u001B[0;36mMobileNetV2\u001B[0;34m(input_shape, alpha, include_top, weights, input_tensor, pooling, classes, classifier_activation, **kwargs)\u001B[0m\n\u001B[1;32m    381\u001B[0m x \u001B[38;5;241m=\u001B[39m _inverted_res_block(\n\u001B[1;32m    382\u001B[0m     x, filters\u001B[38;5;241m=\u001B[39m\u001B[38;5;241m64\u001B[39m, alpha\u001B[38;5;241m=\u001B[39malpha, stride\u001B[38;5;241m=\u001B[39m\u001B[38;5;241m1\u001B[39m, expansion\u001B[38;5;241m=\u001B[39m\u001B[38;5;241m6\u001B[39m, block_id\u001B[38;5;241m=\u001B[39m\u001B[38;5;241m7\u001B[39m\n\u001B[1;32m    383\u001B[0m )\n\u001B[1;32m    384\u001B[0m x \u001B[38;5;241m=\u001B[39m _inverted_res_block(\n\u001B[1;32m    385\u001B[0m     x, filters\u001B[38;5;241m=\u001B[39m\u001B[38;5;241m64\u001B[39m, alpha\u001B[38;5;241m=\u001B[39malpha, stride\u001B[38;5;241m=\u001B[39m\u001B[38;5;241m1\u001B[39m, expansion\u001B[38;5;241m=\u001B[39m\u001B[38;5;241m6\u001B[39m, block_id\u001B[38;5;241m=\u001B[39m\u001B[38;5;241m8\u001B[39m\n\u001B[1;32m    386\u001B[0m )\n\u001B[0;32m--> 387\u001B[0m x \u001B[38;5;241m=\u001B[39m \u001B[43m_inverted_res_block\u001B[49m\u001B[43m(\u001B[49m\n\u001B[1;32m    388\u001B[0m \u001B[43m    \u001B[49m\u001B[43mx\u001B[49m\u001B[43m,\u001B[49m\u001B[43m \u001B[49m\u001B[43mfilters\u001B[49m\u001B[38;5;241;43m=\u001B[39;49m\u001B[38;5;241;43m64\u001B[39;49m\u001B[43m,\u001B[49m\u001B[43m \u001B[49m\u001B[43malpha\u001B[49m\u001B[38;5;241;43m=\u001B[39;49m\u001B[43malpha\u001B[49m\u001B[43m,\u001B[49m\u001B[43m \u001B[49m\u001B[43mstride\u001B[49m\u001B[38;5;241;43m=\u001B[39;49m\u001B[38;5;241;43m1\u001B[39;49m\u001B[43m,\u001B[49m\u001B[43m \u001B[49m\u001B[43mexpansion\u001B[49m\u001B[38;5;241;43m=\u001B[39;49m\u001B[38;5;241;43m6\u001B[39;49m\u001B[43m,\u001B[49m\u001B[43m \u001B[49m\u001B[43mblock_id\u001B[49m\u001B[38;5;241;43m=\u001B[39;49m\u001B[38;5;241;43m9\u001B[39;49m\n\u001B[1;32m    389\u001B[0m \u001B[43m\u001B[49m\u001B[43m)\u001B[49m\n\u001B[1;32m    391\u001B[0m x \u001B[38;5;241m=\u001B[39m _inverted_res_block(\n\u001B[1;32m    392\u001B[0m     x, filters\u001B[38;5;241m=\u001B[39m\u001B[38;5;241m96\u001B[39m, alpha\u001B[38;5;241m=\u001B[39malpha, stride\u001B[38;5;241m=\u001B[39m\u001B[38;5;241m1\u001B[39m, expansion\u001B[38;5;241m=\u001B[39m\u001B[38;5;241m6\u001B[39m, block_id\u001B[38;5;241m=\u001B[39m\u001B[38;5;241m10\u001B[39m\n\u001B[1;32m    393\u001B[0m )\n\u001B[1;32m    394\u001B[0m x \u001B[38;5;241m=\u001B[39m _inverted_res_block(\n\u001B[1;32m    395\u001B[0m     x, filters\u001B[38;5;241m=\u001B[39m\u001B[38;5;241m96\u001B[39m, alpha\u001B[38;5;241m=\u001B[39malpha, stride\u001B[38;5;241m=\u001B[39m\u001B[38;5;241m1\u001B[39m, expansion\u001B[38;5;241m=\u001B[39m\u001B[38;5;241m6\u001B[39m, block_id\u001B[38;5;241m=\u001B[39m\u001B[38;5;241m11\u001B[39m\n\u001B[1;32m    396\u001B[0m )\n",
      "File \u001B[0;32m~/PycharmProjects/NeuroCovid-Classification/NeuroCovid/lib/python3.11/site-packages/keras/src/applications/mobilenet_v2.py:543\u001B[0m, in \u001B[0;36m_inverted_res_block\u001B[0;34m(inputs, expansion, stride, alpha, filters, block_id)\u001B[0m\n\u001B[1;32m    540\u001B[0m x \u001B[38;5;241m=\u001B[39m layers\u001B[38;5;241m.\u001B[39mReLU(\u001B[38;5;241m6.0\u001B[39m, name\u001B[38;5;241m=\u001B[39mprefix \u001B[38;5;241m+\u001B[39m \u001B[38;5;124m\"\u001B[39m\u001B[38;5;124mdepthwise_relu\u001B[39m\u001B[38;5;124m\"\u001B[39m)(x)\n\u001B[1;32m    542\u001B[0m \u001B[38;5;66;03m# Project with a pointwise 1x1 convolution.\u001B[39;00m\n\u001B[0;32m--> 543\u001B[0m x \u001B[38;5;241m=\u001B[39m \u001B[43mlayers\u001B[49m\u001B[38;5;241;43m.\u001B[39;49m\u001B[43mConv2D\u001B[49m\u001B[43m(\u001B[49m\n\u001B[1;32m    544\u001B[0m \u001B[43m    \u001B[49m\u001B[43mpointwise_filters\u001B[49m\u001B[43m,\u001B[49m\n\u001B[1;32m    545\u001B[0m \u001B[43m    \u001B[49m\u001B[43mkernel_size\u001B[49m\u001B[38;5;241;43m=\u001B[39;49m\u001B[38;5;241;43m1\u001B[39;49m\u001B[43m,\u001B[49m\n\u001B[1;32m    546\u001B[0m \u001B[43m    \u001B[49m\u001B[43mpadding\u001B[49m\u001B[38;5;241;43m=\u001B[39;49m\u001B[38;5;124;43m\"\u001B[39;49m\u001B[38;5;124;43msame\u001B[39;49m\u001B[38;5;124;43m\"\u001B[39;49m\u001B[43m,\u001B[49m\n\u001B[1;32m    547\u001B[0m \u001B[43m    \u001B[49m\u001B[43muse_bias\u001B[49m\u001B[38;5;241;43m=\u001B[39;49m\u001B[38;5;28;43;01mFalse\u001B[39;49;00m\u001B[43m,\u001B[49m\n\u001B[1;32m    548\u001B[0m \u001B[43m    \u001B[49m\u001B[43mactivation\u001B[49m\u001B[38;5;241;43m=\u001B[39;49m\u001B[38;5;28;43;01mNone\u001B[39;49;00m\u001B[43m,\u001B[49m\n\u001B[1;32m    549\u001B[0m \u001B[43m    \u001B[49m\u001B[43mname\u001B[49m\u001B[38;5;241;43m=\u001B[39;49m\u001B[43mprefix\u001B[49m\u001B[43m \u001B[49m\u001B[38;5;241;43m+\u001B[39;49m\u001B[43m \u001B[49m\u001B[38;5;124;43m\"\u001B[39;49m\u001B[38;5;124;43mproject\u001B[39;49m\u001B[38;5;124;43m\"\u001B[39;49m\u001B[43m,\u001B[49m\n\u001B[1;32m    550\u001B[0m \u001B[43m\u001B[49m\u001B[43m)\u001B[49m\u001B[43m(\u001B[49m\u001B[43mx\u001B[49m\u001B[43m)\u001B[49m\n\u001B[1;32m    551\u001B[0m x \u001B[38;5;241m=\u001B[39m layers\u001B[38;5;241m.\u001B[39mBatchNormalization(\n\u001B[1;32m    552\u001B[0m     axis\u001B[38;5;241m=\u001B[39mchannel_axis,\n\u001B[1;32m    553\u001B[0m     epsilon\u001B[38;5;241m=\u001B[39m\u001B[38;5;241m1e-3\u001B[39m,\n\u001B[1;32m    554\u001B[0m     momentum\u001B[38;5;241m=\u001B[39m\u001B[38;5;241m0.999\u001B[39m,\n\u001B[1;32m    555\u001B[0m     name\u001B[38;5;241m=\u001B[39mprefix \u001B[38;5;241m+\u001B[39m \u001B[38;5;124m\"\u001B[39m\u001B[38;5;124mproject_BN\u001B[39m\u001B[38;5;124m\"\u001B[39m,\n\u001B[1;32m    556\u001B[0m )(x)\n\u001B[1;32m    558\u001B[0m \u001B[38;5;28;01mif\u001B[39;00m in_channels \u001B[38;5;241m==\u001B[39m pointwise_filters \u001B[38;5;129;01mand\u001B[39;00m stride \u001B[38;5;241m==\u001B[39m \u001B[38;5;241m1\u001B[39m:\n",
      "File \u001B[0;32m~/PycharmProjects/NeuroCovid-Classification/NeuroCovid/lib/python3.11/site-packages/keras/src/utils/traceback_utils.py:70\u001B[0m, in \u001B[0;36mfilter_traceback.<locals>.error_handler\u001B[0;34m(*args, **kwargs)\u001B[0m\n\u001B[1;32m     67\u001B[0m     filtered_tb \u001B[38;5;241m=\u001B[39m _process_traceback_frames(e\u001B[38;5;241m.\u001B[39m__traceback__)\n\u001B[1;32m     68\u001B[0m     \u001B[38;5;66;03m# To get the full stack trace, call:\u001B[39;00m\n\u001B[1;32m     69\u001B[0m     \u001B[38;5;66;03m# `tf.debugging.disable_traceback_filtering()`\u001B[39;00m\n\u001B[0;32m---> 70\u001B[0m     \u001B[38;5;28;01mraise\u001B[39;00m e\u001B[38;5;241m.\u001B[39mwith_traceback(filtered_tb) \u001B[38;5;28;01mfrom\u001B[39;00m \u001B[38;5;28;01mNone\u001B[39;00m\n\u001B[1;32m     71\u001B[0m \u001B[38;5;28;01mfinally\u001B[39;00m:\n\u001B[1;32m     72\u001B[0m     \u001B[38;5;28;01mdel\u001B[39;00m filtered_tb\n",
      "File \u001B[0;32m~/PycharmProjects/NeuroCovid-Classification/NeuroCovid/lib/python3.11/site-packages/keras/src/backend.py:2100\u001B[0m, in \u001B[0;36mRandomGenerator.random_uniform\u001B[0;34m(self, shape, minval, maxval, dtype, nonce)\u001B[0m\n\u001B[1;32m   2098\u001B[0m     \u001B[38;5;28;01mif\u001B[39;00m nonce:\n\u001B[1;32m   2099\u001B[0m         seed \u001B[38;5;241m=\u001B[39m tf\u001B[38;5;241m.\u001B[39mrandom\u001B[38;5;241m.\u001B[39mexperimental\u001B[38;5;241m.\u001B[39mstateless_fold_in(seed, nonce)\n\u001B[0;32m-> 2100\u001B[0m     \u001B[38;5;28;01mreturn\u001B[39;00m \u001B[43mtf\u001B[49m\u001B[38;5;241;43m.\u001B[39;49m\u001B[43mrandom\u001B[49m\u001B[38;5;241;43m.\u001B[39;49m\u001B[43mstateless_uniform\u001B[49m\u001B[43m(\u001B[49m\n\u001B[1;32m   2101\u001B[0m \u001B[43m        \u001B[49m\u001B[43mshape\u001B[49m\u001B[38;5;241;43m=\u001B[39;49m\u001B[43mshape\u001B[49m\u001B[43m,\u001B[49m\n\u001B[1;32m   2102\u001B[0m \u001B[43m        \u001B[49m\u001B[43mminval\u001B[49m\u001B[38;5;241;43m=\u001B[39;49m\u001B[43mminval\u001B[49m\u001B[43m,\u001B[49m\n\u001B[1;32m   2103\u001B[0m \u001B[43m        \u001B[49m\u001B[43mmaxval\u001B[49m\u001B[38;5;241;43m=\u001B[39;49m\u001B[43mmaxval\u001B[49m\u001B[43m,\u001B[49m\n\u001B[1;32m   2104\u001B[0m \u001B[43m        \u001B[49m\u001B[43mdtype\u001B[49m\u001B[38;5;241;43m=\u001B[39;49m\u001B[43mdtype\u001B[49m\u001B[43m,\u001B[49m\n\u001B[1;32m   2105\u001B[0m \u001B[43m        \u001B[49m\u001B[43mseed\u001B[49m\u001B[38;5;241;43m=\u001B[39;49m\u001B[43mseed\u001B[49m\u001B[43m,\u001B[49m\n\u001B[1;32m   2106\u001B[0m \u001B[43m    \u001B[49m\u001B[43m)\u001B[49m\n\u001B[1;32m   2107\u001B[0m \u001B[38;5;28;01mreturn\u001B[39;00m tf\u001B[38;5;241m.\u001B[39mrandom\u001B[38;5;241m.\u001B[39muniform(\n\u001B[1;32m   2108\u001B[0m     shape\u001B[38;5;241m=\u001B[39mshape,\n\u001B[1;32m   2109\u001B[0m     minval\u001B[38;5;241m=\u001B[39mminval,\n\u001B[0;32m   (...)\u001B[0m\n\u001B[1;32m   2112\u001B[0m     seed\u001B[38;5;241m=\u001B[39m\u001B[38;5;28mself\u001B[39m\u001B[38;5;241m.\u001B[39mmake_legacy_seed(),\n\u001B[1;32m   2113\u001B[0m )\n",
      "\u001B[0;31mResourceExhaustedError\u001B[0m: {{function_node __wrapped__AddV2_device_/job:localhost/replica:0/task:0/device:GPU:0}} failed to allocate memory [Op:AddV2] name: "
     ]
    }
   ],
   "source": [
    "# Initiating model on GPU\n",
    "with strategy.scope():\n",
    "    model = nc_models.mobilenetv2_unet_model(input_shape=INPUT_SHAPE, augment_data=True)\n",
    "    metrics=[nc_metrics.continuous_dice_coefficient, nc_metrics.dice_coefficient, metrics.MeanIoU(2), metrics.RootMeanSquaredError(),\n",
    "             nc_metrics.bahd, nc_metrics.surface_distance_metric, metrics.Recall(), metrics.Precision(), metrics.Accuracy()]\n",
    "    loss=nc_metrics.cdc_loss\n",
    "    opt=tf.keras.optimizers.Nadam(LR)"
   ],
   "metadata": {
    "collapsed": false,
    "ExecuteTime": {
     "end_time": "2024-02-17T19:07:16.011678797Z",
     "start_time": "2024-02-17T19:07:03.349117429Z"
    }
   },
   "id": "802f65cbcf2d401f",
   "execution_count": 18
  },
  {
   "cell_type": "code",
   "outputs": [],
   "source": [
    "model.summary()"
   ],
   "metadata": {
    "collapsed": false,
    "ExecuteTime": {
     "end_time": "2024-02-17T19:07:16.114777387Z",
     "start_time": "2024-02-17T19:07:16.013283389Z"
    }
   },
   "id": "4c758720873bdef8",
   "execution_count": null
  },
  {
   "cell_type": "code",
   "outputs": [],
   "source": [
    "# Compiling model\n",
    "model.compile(optimizer=opt,\n",
    "              loss=loss,\n",
    "              metrics=metrics)\n",
    "\n",
    "early_stopping = callbacks.EarlyStopping(monitor='val_loss',\n",
    "                                         patience=10,\n",
    "                                         restore_best_weights=True)\n",
    "reduce_learning = callbacks.ReduceLROnPlateau(monitor='val_loss',\n",
    "                                              factor=0.1,\n",
    "                                              patience=4)"
   ],
   "metadata": {
    "collapsed": false,
    "ExecuteTime": {
     "start_time": "2024-02-17T19:07:16.057257058Z"
    }
   },
   "id": "1641caecb5699dea",
   "execution_count": null
  },
  {
   "cell_type": "code",
   "outputs": [],
   "source": [
    "train_steps = len(x_train_paths) // BATCH_SIZE\n",
    "valid_steps = len(x_valid_paths) // BATCH_SIZE\n",
    "\n",
    "if len(x_train_paths) % BATCH_SIZE != 0:\n",
    "    train_steps += 1\n",
    "if len(x_valid_paths) % BATCH_SIZE != 0:\n",
    "    valid_steps += 1\n",
    "\n",
    "\n",
    "\n",
    "try:\n",
    "    initial_time = time.time()\n",
    "    history = model.fit(\n",
    "        train_dataset,\n",
    "        epochs=EPOCHS,\n",
    "        validation_data=validation_dataset,\n",
    "        callbacks=[early_stopping, reduce_learning],\n",
    "        steps_per_epoch=train_steps,\n",
    "        validation_steps=valid_steps)\n",
    "    final_time = time.time()\n",
    "    total_train_time = final_time - initial_time\n",
    "except Exception as e:\n",
    "    print(\"An error occurred:\", e)"
   ],
   "metadata": {
    "collapsed": false,
    "ExecuteTime": {
     "start_time": "2024-02-17T19:07:16.057509388Z"
    }
   },
   "id": "f163d4b271463759",
   "execution_count": null
  },
  {
   "cell_type": "code",
   "outputs": [],
   "source": [
    "print(total_train_time)"
   ],
   "metadata": {
    "collapsed": false,
    "ExecuteTime": {
     "start_time": "2024-02-17T19:07:16.057704883Z"
    }
   },
   "id": "99198db7111efb8b",
   "execution_count": null
  },
  {
   "cell_type": "code",
   "outputs": [],
   "source": [
    "# Fine-Tune\n",
    "fine_tune_at = int(nc_models.MOBILENETV2_SIZE * 0.7)\n",
    "for layer in model.layers[fine_tune_at:nc_models.MOBILENETV2_SIZE]:\n",
    "    layer.trainable = True"
   ],
   "metadata": {
    "collapsed": false
   },
   "id": "20b666cd0c48aec1"
  },
  {
   "cell_type": "code",
   "outputs": [],
   "source": [
    "# Compiling model\n",
    "opt = tf.keras.optimizers.Nadam(LR_FINE)\n",
    "model.compile(optimizer=opt,\n",
    "              loss=loss,\n",
    "              metrics=metrics)\n",
    "\n",
    "early_stopping = callbacks.EarlyStopping(monitor='val_loss',\n",
    "                                         patience=10,\n",
    "                                         restore_best_weights=True)\n",
    "reduce_learning = callbacks.ReduceLROnPlateau(monitor='val_loss',\n",
    "                                              factor=0.1,\n",
    "                                              patience=4)"
   ],
   "metadata": {
    "collapsed": false
   },
   "id": "da5a4844ef95a235"
  },
  {
   "cell_type": "code",
   "outputs": [],
   "source": [
    "try:\n",
    "    initial_time = time.time()\n",
    "    history = model.fit(\n",
    "        train_dataset,\n",
    "        epochs=EPOCHS,\n",
    "        validation_data=validation_dataset,\n",
    "        callbacks=[early_stopping, reduce_learning],\n",
    "        steps_per_epoch=train_steps,\n",
    "        validation_steps=valid_steps)\n",
    "    final_time = time.time()\n",
    "    total_train_time = final_time - initial_time\n",
    "except Exception as e:\n",
    "    print(\"An error occurred:\", e)"
   ],
   "metadata": {
    "collapsed": false
   },
   "id": "374bc1d47f25a50d"
  },
  {
   "cell_type": "code",
   "outputs": [],
   "source": [
    "print(total_train_time)"
   ],
   "metadata": {
    "collapsed": false
   },
   "id": "defd72d6d03f16cd"
  },
  {
   "cell_type": "code",
   "outputs": [],
   "source": [
    "test_steps = len(x_test_paths) // BATCH_SIZE\n",
    "if len(x_test_paths) % BATCH_SIZE != 0:\n",
    "    test_steps += 1\n",
    "\n",
    "initial_time = time.time()\n",
    "model.evaluate(test_dataset, steps=test_steps)\n",
    "final_time = time.time()\n",
    "\n",
    "total_eval_time = final_time - initial_time"
   ],
   "metadata": {
    "collapsed": false,
    "ExecuteTime": {
     "start_time": "2024-02-17T19:07:16.057833691Z"
    }
   },
   "id": "43c46df0e44f192d",
   "execution_count": null
  },
  {
   "cell_type": "code",
   "outputs": [],
   "source": [
    "print(total_eval_time)"
   ],
   "metadata": {
    "collapsed": false,
    "ExecuteTime": {
     "start_time": "2024-02-17T19:07:16.057987524Z"
    }
   },
   "id": "84cebbaab2ebeefa",
   "execution_count": null
  },
  {
   "cell_type": "markdown",
   "source": [
    "# Results"
   ],
   "metadata": {
    "collapsed": false
   },
   "id": "8fa4d12baa49c986"
  },
  {
   "cell_type": "code",
   "outputs": [],
   "source": [
    "def read_image(path):\n",
    "    x = cv2.imread(path, cv2.IMREAD_COLOR)\n",
    "    x = cv2.cvtColor(x, cv2.COLOR_BGR2RGB)\n",
    "    x = cv2.resize(x, (IMAGE_SIZE, IMAGE_SIZE))\n",
    "    x = x/255.0\n",
    "    return x\n",
    "\n",
    "def read_mask(path):\n",
    "    x = cv2.imread(path, cv2.IMREAD_GRAYSCALE)\n",
    "    x = cv2.resize(x, (IMAGE_SIZE, IMAGE_SIZE))\n",
    "    x = np.expand_dims(x, axis=-1)\n",
    "    x = x/255.0\n",
    "    return x"
   ],
   "metadata": {
    "collapsed": false,
    "ExecuteTime": {
     "start_time": "2024-02-17T19:07:16.058089523Z"
    }
   },
   "id": "4f0e49e055848b67",
   "execution_count": null
  },
  {
   "cell_type": "code",
   "outputs": [],
   "source": [
    "def mask_parse(mask):\n",
    "    mask = np.squeeze(mask)\n",
    "    mask = [mask, mask, mask]\n",
    "    mask = np.transpose(mask, (1, 2, 0))\n",
    "    return mask"
   ],
   "metadata": {
    "collapsed": false,
    "ExecuteTime": {
     "start_time": "2024-02-17T19:07:16.058204189Z"
    }
   },
   "id": "117575c9f58d1753",
   "execution_count": null
  },
  {
   "cell_type": "code",
   "outputs": [],
   "source": [
    "for i, (x, y) in enumerate(zip(x_test_paths[:10], y_test_paths[:10])):\n",
    "    x = read_image(x)\n",
    "    y = read_mask(y)\n",
    "    y_pred = model.predict(np.expand_dims(x, axis=0))[0] > 0.5\n",
    "    h, w, _ = x.shape\n",
    "    white_line = np.ones((h, 10, 3))\n",
    "\n",
    "    all_images = [\n",
    "        x, white_line,\n",
    "        mask_parse(y), white_line,\n",
    "        mask_parse(y_pred)\n",
    "    ]\n",
    "    image = np.concatenate(all_images, axis=1)\n",
    "\n",
    "    fig = plt.figure(figsize=(12, 12))\n",
    "    a = fig.add_subplot(1, 1, 1)\n",
    "    imgplot = plt.imshow(image)"
   ],
   "metadata": {
    "collapsed": false,
    "ExecuteTime": {
     "start_time": "2024-02-17T19:07:16.058313550Z"
    }
   },
   "id": "d6790b0190051e9c",
   "execution_count": null
  }
 ],
 "metadata": {
  "kernelspec": {
   "display_name": "Python 3",
   "language": "python",
   "name": "python3"
  },
  "language_info": {
   "codemirror_mode": {
    "name": "ipython",
    "version": 2
   },
   "file_extension": ".py",
   "mimetype": "text/x-python",
   "name": "python",
   "nbconvert_exporter": "python",
   "pygments_lexer": "ipython2",
   "version": "2.7.6"
  }
 },
 "nbformat": 4,
 "nbformat_minor": 5
}
