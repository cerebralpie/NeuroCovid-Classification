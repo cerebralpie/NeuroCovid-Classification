{
 "cells": [
  {
   "cell_type": "code",
   "execution_count": null,
   "id": "initial_id",
   "metadata": {
    "collapsed": true,
    "is_executing": true,
    "ExecuteTime": {
     "start_time": "2024-02-16T00:13:43.074258996Z"
    }
   },
   "outputs": [
    {
     "name": "stderr",
     "output_type": "stream",
     "text": [
      "2024-02-15 21:13:43.741822: E external/local_xla/xla/stream_executor/cuda/cuda_dnn.cc:9261] Unable to register cuDNN factory: Attempting to register factory for plugin cuDNN when one has already been registered\n",
      "2024-02-15 21:13:43.741887: E external/local_xla/xla/stream_executor/cuda/cuda_fft.cc:607] Unable to register cuFFT factory: Attempting to register factory for plugin cuFFT when one has already been registered\n",
      "2024-02-15 21:13:43.743550: E external/local_xla/xla/stream_executor/cuda/cuda_blas.cc:1515] Unable to register cuBLAS factory: Attempting to register factory for plugin cuBLAS when one has already been registered\n",
      "2024-02-15 21:13:43.753561: I tensorflow/core/platform/cpu_feature_guard.cc:182] This TensorFlow binary is optimized to use available CPU instructions in performance-critical operations.\n",
      "To enable the following instructions: AVX2 FMA, in other operations, rebuild TensorFlow with the appropriate compiler flags.\n",
      "2024-02-15 21:13:45.483033: W tensorflow/compiler/tf2tensorrt/utils/py_utils.cc:38] TF-TRT Warning: Could not find TensorRT\n"
     ]
    }
   ],
   "source": [
    "import os.path\n",
    "\n",
    "import numpy as np\n",
    "import tensorflow as tf\n",
    "import src.metrics as nc_metrics\n",
    "import src.utils as nc_utils\n",
    "import notebooks.sandbox.models as nc_models\n",
    "\n",
    "from pathlib import Path\n",
    "from tensorflow.keras import layers\n",
    "from tensorflow.keras import callbacks\n",
    "from tensorflow.keras import losses\n",
    "from tensorflow.keras import metrics\n",
    "from tensorflow.keras import models"
   ]
  },
  {
   "cell_type": "code",
   "outputs": [],
   "source": [
    "strategy = nc_utils.start_session()"
   ],
   "metadata": {
    "collapsed": false,
    "is_executing": true,
    "ExecuteTime": {
     "start_time": "2024-02-16T00:13:10.405492169Z"
    }
   },
   "id": "7f1f084401e90dea",
   "execution_count": null
  },
  {
   "cell_type": "code",
   "outputs": [],
   "source": [
    "ROOT_DIR = \".\"\n",
    "IMAGE_DIR = os.path.join(ROOT_DIR, \"images\")\n",
    "MASK_DIR = os.path.join(ROOT_DIR, \"masks\")\n",
    "\n",
    "BATCH_SIZE = 16\n",
    "LR = 1e-4   # Learning rate\n",
    "EPOCHS = 300"
   ],
   "metadata": {
    "collapsed": false,
    "ExecuteTime": {
     "end_time": "2024-02-13T21:21:37.828582549Z",
     "start_time": "2024-02-13T21:21:37.639612946Z"
    }
   },
   "id": "25a3573e912bbc1f",
   "execution_count": 3
  },
  {
   "cell_type": "code",
   "outputs": [],
   "source": [
    "smallest_dimension = nc_utils.get_smallest_image_dimension(IMAGE_DIR)"
   ],
   "metadata": {
    "collapsed": false,
    "ExecuteTime": {
     "end_time": "2024-02-13T21:21:37.831335536Z",
     "start_time": "2024-02-13T21:21:37.646900088Z"
    }
   },
   "id": "8ff34397a884ebaa",
   "execution_count": 4
  },
  {
   "cell_type": "code",
   "outputs": [],
   "source": [
    "IMAGE_SIZE = smallest_dimension\n",
    "IMAGE_SHAPE = (IMAGE_SIZE, IMAGE_SIZE)\n",
    "INPUT_SHAPE = (IMAGE_SIZE, IMAGE_SIZE, 3)"
   ],
   "metadata": {
    "collapsed": false,
    "ExecuteTime": {
     "end_time": "2024-02-13T21:21:37.872640740Z",
     "start_time": "2024-02-13T21:21:37.824674729Z"
    }
   },
   "id": "d8f23f46ed2e8e6c",
   "execution_count": 5
  },
  {
   "cell_type": "code",
   "outputs": [
    {
     "name": "stdout",
     "output_type": "stream",
     "text": [
      "512\n",
      "(512, 512)\n",
      "(512, 512, 3)\n"
     ]
    }
   ],
   "source": [
    "print(IMAGE_SIZE)\n",
    "print(IMAGE_SHAPE)\n",
    "print(INPUT_SHAPE)"
   ],
   "metadata": {
    "collapsed": false,
    "ExecuteTime": {
     "end_time": "2024-02-13T21:21:37.874558156Z",
     "start_time": "2024-02-13T21:21:37.825278114Z"
    }
   },
   "id": "7caef2b325b9fe10",
   "execution_count": 6
  },
  {
   "cell_type": "code",
   "outputs": [
    {
     "name": "stdout",
     "output_type": "stream",
     "text": [
      "image_directory: <class 'str'>\n",
      "mask_directory: <class 'str'>\n",
      "image_paths: <class 'list'>\n",
      "mask_paths: <class 'list'>\n",
      "image_paths[0]: <class 'str'>\n",
      "mask_paths[0]: <class 'str'>\n"
     ]
    }
   ],
   "source": [
    "(x_train_paths, y_train_paths), (x_valid_paths, y_valid_paths), (x_test_paths,\n",
    " y_test_paths) = nc_utils.load_data(\n",
    "    image_directory=IMAGE_DIR,\n",
    "    mask_directory=MASK_DIR,\n",
    "    split=0.1\n",
    ")"
   ],
   "metadata": {
    "collapsed": false,
    "ExecuteTime": {
     "end_time": "2024-02-13T21:21:37.876687476Z",
     "start_time": "2024-02-13T21:21:37.825614413Z"
    }
   },
   "id": "ec6b24544dea89ad",
   "execution_count": 7
  },
  {
   "cell_type": "code",
   "outputs": [
    {
     "name": "stdout",
     "output_type": "stream",
     "text": [
      "['./images/tumor (159).png', './images/tumor (250).png', './images/tumor (304).png', './images/tumor (53).png', './images/tumor (115).png', './images/tumor (170).png', './images/tumor (42).png', './images/tumor (41).png', './images/tumor (89).png', './images/tumor (290).png', './images/tumor (112).png', './images/tumor (315).png', './images/tumor (32).png', './images/tumor (84).png', './images/tumor (296).png', './images/tumor (226).png', './images/tumor (204).png', './images/tumor (281).png', './images/tumor (195).png', './images/tumor (19).png', './images/tumor (326).png', './images/tumor (154).png', './images/tumor (269).png', './images/tumor (63).png', './images/tumor (111).png', './images/tumor (156).png', './images/tumor (72).png', './images/tumor (142).png', './images/tumor (48).png', './images/tumor (324).png', './images/tumor (169).png', './images/tumor (243).png', './images/tumor (228).png', './images/tumor (275).png', './images/tumor (147).png', './images/tumor (26).png', './images/tumor (135).png', './images/tumor (66).png', './images/tumor (77).png', './images/tumor (11).png', './images/tumor (157).png', './images/tumor (193).png', './images/tumor (329).png', './images/tumor (274).png', './images/tumor (124).png', './images/tumor (266).png', './images/tumor (17).png', './images/tumor (208).png', './images/tumor (34).png', './images/tumor (323).png', './images/tumor (37).png', './images/tumor (172).png', './images/tumor (225).png', './images/tumor (2).png', './images/tumor (43).png', './images/tumor (58).png', './images/tumor (299).png', './images/tumor (144).png', './images/tumor (261).png', './images/tumor (231).png', './images/tumor (181).png', './images/tumor (196).png', './images/tumor (256).png', './images/tumor (15).png', './images/tumor (189).png', './images/tumor (108).png', './images/tumor (153).png', './images/tumor (136).png', './images/tumor (219).png', './images/tumor (162).png', './images/tumor (300).png', './images/tumor (113).png', './images/tumor (313).png', './images/tumor (187).png', './images/tumor (1).png', './images/tumor (61).png', './images/tumor (320).png', './images/tumor (35).png', './images/tumor (295).png', './images/tumor (232).png', './images/tumor (109).png', './images/tumor (133).png', './images/tumor (100).png', './images/tumor (51).png', './images/tumor (198).png', './images/tumor (306).png', './images/tumor (57).png', './images/tumor (49).png', './images/tumor (85).png', './images/tumor (171).png', './images/tumor (205).png', './images/tumor (330).png', './images/tumor (145).png', './images/tumor (152).png', './images/tumor (285).png', './images/tumor (234).png', './images/tumor (319).png', './images/tumor (279).png', './images/tumor (215).png', './images/tumor (310).png', './images/tumor (27).png', './images/tumor (31).png', './images/tumor (69).png', './images/tumor (81).png', './images/tumor (239).png', './images/tumor (166).png', './images/tumor (221).png', './images/tumor (278).png', './images/tumor (209).png', './images/tumor (8).png', './images/tumor (71).png', './images/tumor (134).png', './images/tumor (254).png', './images/tumor (283).png', './images/tumor (280).png', './images/tumor (177).png', './images/tumor (60).png', './images/tumor (328).png', './images/tumor (143).png', './images/tumor (291).png', './images/tumor (24).png', './images/tumor (55).png', './images/tumor (141).png', './images/tumor (83).png', './images/tumor (245).png', './images/tumor (14).png', './images/tumor (114).png', './images/tumor (255).png', './images/tumor (174).png', './images/tumor (244).png', './images/tumor (284).png', './images/tumor (22).png', './images/tumor (30).png', './images/tumor (186).png', './images/tumor (309).png', './images/tumor (214).png', './images/tumor (197).png', './images/tumor (182).png', './images/tumor (223).png', './images/tumor (207).png', './images/tumor (246).png', './images/tumor (99).png', './images/tumor (125).png', './images/tumor (65).png', './images/tumor (308).png', './images/tumor (148).png', './images/tumor (98).png', './images/tumor (132).png', './images/tumor (316).png', './images/tumor (13).png', './images/tumor (18).png', './images/tumor (160).png', './images/tumor (120).png', './images/tumor (282).png', './images/tumor (76).png', './images/tumor (286).png', './images/tumor (96).png', './images/tumor (44).png', './images/tumor (46).png', './images/tumor (163).png', './images/tumor (318).png', './images/tumor (101).png', './images/tumor (293).png', './images/tumor (150).png', './images/tumor (20).png', './images/tumor (5).png', './images/tumor (68).png', './images/tumor (302).png', './images/tumor (294).png', './images/tumor (146).png', './images/tumor (6).png', './images/tumor (183).png', './images/tumor (40).png', './images/tumor (262).png', './images/tumor (178).png', './images/tumor (70).png', './images/tumor (29).png', './images/tumor (94).png', './images/tumor (119).png', './images/tumor (200).png', './images/tumor (311).png', './images/tumor (242).png', './images/tumor (168).png', './images/tumor (277).png', './images/tumor (151).png', './images/tumor (220).png', './images/tumor (176).png', './images/tumor (23).png', './images/tumor (179).png', './images/tumor (54).png', './images/tumor (240).png', './images/tumor (128).png', './images/tumor (317).png', './images/tumor (307).png', './images/tumor (91).png', './images/tumor (292).png', './images/tumor (4).png', './images/tumor (28).png', './images/tumor (80).png', './images/tumor (86).png', './images/tumor (164).png', './images/tumor (249).png', './images/tumor (75).png', './images/tumor (251).png', './images/tumor (123).png', './images/tumor (227).png', './images/tumor (218).png', './images/tumor (79).png', './images/tumor (260).png', './images/tumor (131).png', './images/tumor (106).png', './images/tumor (10).png', './images/tumor (263).png', './images/tumor (211).png', './images/tumor (236).png', './images/tumor (202).png', './images/tumor (47).png', './images/tumor (287).png', './images/tumor (59).png', './images/tumor (327).png', './images/tumor (217).png', './images/tumor (25).png', './images/tumor (102).png', './images/tumor (265).png', './images/tumor (161).png', './images/tumor (276).png', './images/tumor (138).png', './images/tumor (3).png', './images/tumor (248).png', './images/tumor (185).png', './images/tumor (117).png', './images/tumor (264).png', './images/tumor (216).png', './images/tumor (270).png', './images/tumor (303).png', './images/tumor (127).png', './images/tumor (122).png', './images/tumor (188).png', './images/tumor (45).png', './images/tumor (192).png', './images/tumor (21).png', './images/tumor (203).png', './images/tumor (201).png', './images/tumor (325).png', './images/tumor (39).png', './images/tumor (105).png', './images/tumor (252).png', './images/tumor (118).png', './images/tumor (322).png', './images/tumor (110).png', './images/tumor (139).png', './images/tumor (238).png', './images/tumor (158).png', './images/tumor (12).png', './images/tumor (116).png', './images/tumor (155).png', './images/tumor (305).png', './images/tumor (191).png', './images/tumor (229).png', './images/tumor (253).png', './images/tumor (298).png', './images/tumor (273).png', './images/tumor (268).png', './images/tumor (16).png']\n"
     ]
    }
   ],
   "source": [
    "print(x_train_paths)"
   ],
   "metadata": {
    "collapsed": false,
    "ExecuteTime": {
     "end_time": "2024-02-13T21:21:37.890763835Z",
     "start_time": "2024-02-13T21:21:37.825880014Z"
    }
   },
   "id": "32a9d8be672f35a8",
   "execution_count": 8
  },
  {
   "cell_type": "code",
   "outputs": [
    {
     "name": "stdout",
     "output_type": "stream",
     "text": [
      "['./masks/tumor (159)_mask.png', './masks/tumor (250)_mask.png', './masks/tumor (304)_mask.png', './masks/tumor (53)_mask.png', './masks/tumor (115)_mask.png', './masks/tumor (170)_mask.png', './masks/tumor (42)_mask.png', './masks/tumor (41)_mask.png', './masks/tumor (89)_mask.png', './masks/tumor (290)_mask.png', './masks/tumor (112)_mask.png', './masks/tumor (315)_mask.png', './masks/tumor (32)_mask.png', './masks/tumor (84)_mask.png', './masks/tumor (296)_mask.png', './masks/tumor (226)_mask.png', './masks/tumor (204)_mask.png', './masks/tumor (281)_mask.png', './masks/tumor (195)_mask.png', './masks/tumor (19)_mask.png', './masks/tumor (326)_mask.png', './masks/tumor (154)_mask.png', './masks/tumor (269)_mask.png', './masks/tumor (63)_mask.png', './masks/tumor (111)_mask.png', './masks/tumor (156)_mask.png', './masks/tumor (72)_mask.png', './masks/tumor (142)_mask.png', './masks/tumor (48)_mask.png', './masks/tumor (324)_mask.png', './masks/tumor (169)_mask.png', './masks/tumor (243)_mask.png', './masks/tumor (228)_mask.png', './masks/tumor (275)_mask.png', './masks/tumor (147)_mask.png', './masks/tumor (26)_mask.png', './masks/tumor (135)_mask.png', './masks/tumor (66)_mask.png', './masks/tumor (77)_mask.png', './masks/tumor (11)_mask.png', './masks/tumor (157)_mask.png', './masks/tumor (193)_mask.png', './masks/tumor (329)_mask.png', './masks/tumor (274)_mask.png', './masks/tumor (124)_mask.png', './masks/tumor (266)_mask.png', './masks/tumor (17)_mask.png', './masks/tumor (208)_mask.png', './masks/tumor (34)_mask.png', './masks/tumor (323)_mask.png', './masks/tumor (37)_mask.png', './masks/tumor (172)_mask.png', './masks/tumor (225)_mask.png', './masks/tumor (2)_mask.png', './masks/tumor (43)_mask.png', './masks/tumor (58)_mask.png', './masks/tumor (299)_mask.png', './masks/tumor (144)_mask.png', './masks/tumor (261)_mask.png', './masks/tumor (231)_mask.png', './masks/tumor (181)_mask.png', './masks/tumor (196)_mask.png', './masks/tumor (256)_mask.png', './masks/tumor (15)_mask.png', './masks/tumor (189)_mask.png', './masks/tumor (108)_mask.png', './masks/tumor (153)_mask.png', './masks/tumor (136)_mask.png', './masks/tumor (219)_mask.png', './masks/tumor (162)_mask.png', './masks/tumor (300)_mask.png', './masks/tumor (113)_mask.png', './masks/tumor (313)_mask.png', './masks/tumor (187)_mask.png', './masks/tumor (1)_mask.png', './masks/tumor (61)_mask.png', './masks/tumor (320)_mask.png', './masks/tumor (35)_mask.png', './masks/tumor (295)_mask.png', './masks/tumor (232)_mask.png', './masks/tumor (109)_mask.png', './masks/tumor (133)_mask.png', './masks/tumor (100)_mask.png', './masks/tumor (51)_mask.png', './masks/tumor (198)_mask.png', './masks/tumor (306)_mask.png', './masks/tumor (57)_mask.png', './masks/tumor (49)_mask.png', './masks/tumor (85)_mask.png', './masks/tumor (171)_mask.png', './masks/tumor (205)_mask.png', './masks/tumor (330)_mask.png', './masks/tumor (145)_mask.png', './masks/tumor (152)_mask.png', './masks/tumor (285)_mask.png', './masks/tumor (234)_mask.png', './masks/tumor (319)_mask.png', './masks/tumor (279)_mask.png', './masks/tumor (215)_mask.png', './masks/tumor (310)_mask.png', './masks/tumor (27)_mask.png', './masks/tumor (31)_mask.png', './masks/tumor (69)_mask.png', './masks/tumor (81)_mask.png', './masks/tumor (239)_mask.png', './masks/tumor (166)_mask.png', './masks/tumor (221)_mask.png', './masks/tumor (278)_mask.png', './masks/tumor (209)_mask.png', './masks/tumor (8)_mask.png', './masks/tumor (71)_mask.png', './masks/tumor (134)_mask.png', './masks/tumor (254)_mask.png', './masks/tumor (283)_mask.png', './masks/tumor (280)_mask.png', './masks/tumor (177)_mask.png', './masks/tumor (60)_mask.png', './masks/tumor (328)_mask.png', './masks/tumor (143)_mask.png', './masks/tumor (291)_mask.png', './masks/tumor (24)_mask.png', './masks/tumor (55)_mask.png', './masks/tumor (141)_mask.png', './masks/tumor (83)_mask.png', './masks/tumor (245)_mask.png', './masks/tumor (14)_mask.png', './masks/tumor (114)_mask.png', './masks/tumor (255)_mask.png', './masks/tumor (174)_mask.png', './masks/tumor (244)_mask.png', './masks/tumor (284)_mask.png', './masks/tumor (22)_mask.png', './masks/tumor (30)_mask.png', './masks/tumor (186)_mask.png', './masks/tumor (309)_mask.png', './masks/tumor (214)_mask.png', './masks/tumor (197)_mask.png', './masks/tumor (182)_mask.png', './masks/tumor (223)_mask.png', './masks/tumor (207)_mask.png', './masks/tumor (246)_mask.png', './masks/tumor (99)_mask.png', './masks/tumor (125)_mask.png', './masks/tumor (65)_mask.png', './masks/tumor (308)_mask.png', './masks/tumor (148)_mask.png', './masks/tumor (98)_mask.png', './masks/tumor (132)_mask.png', './masks/tumor (316)_mask.png', './masks/tumor (13)_mask.png', './masks/tumor (18)_mask.png', './masks/tumor (160)_mask.png', './masks/tumor (120)_mask.png', './masks/tumor (282)_mask.png', './masks/tumor (76)_mask.png', './masks/tumor (286)_mask.png', './masks/tumor (96)_mask.png', './masks/tumor (44)_mask.png', './masks/tumor (46)_mask.png', './masks/tumor (163)_mask.png', './masks/tumor (318)_mask.png', './masks/tumor (101)_mask.png', './masks/tumor (293)_mask.png', './masks/tumor (150)_mask.png', './masks/tumor (20)_mask.png', './masks/tumor (5)_mask.png', './masks/tumor (68)_mask.png', './masks/tumor (302)_mask.png', './masks/tumor (294)_mask.png', './masks/tumor (146)_mask.png', './masks/tumor (6)_mask.png', './masks/tumor (183)_mask.png', './masks/tumor (40)_mask.png', './masks/tumor (262)_mask.png', './masks/tumor (178)_mask.png', './masks/tumor (70)_mask.png', './masks/tumor (29)_mask.png', './masks/tumor (94)_mask.png', './masks/tumor (119)_mask.png', './masks/tumor (200)_mask.png', './masks/tumor (311)_mask.png', './masks/tumor (242)_mask.png', './masks/tumor (168)_mask.png', './masks/tumor (277)_mask.png', './masks/tumor (151)_mask.png', './masks/tumor (220)_mask.png', './masks/tumor (176)_mask.png', './masks/tumor (23)_mask.png', './masks/tumor (179)_mask.png', './masks/tumor (54)_mask.png', './masks/tumor (240)_mask.png', './masks/tumor (128)_mask.png', './masks/tumor (317)_mask.png', './masks/tumor (307)_mask.png', './masks/tumor (91)_mask.png', './masks/tumor (292)_mask.png', './masks/tumor (4)_mask.png', './masks/tumor (28)_mask.png', './masks/tumor (80)_mask.png', './masks/tumor (86)_mask.png', './masks/tumor (164)_mask.png', './masks/tumor (249)_mask.png', './masks/tumor (75)_mask.png', './masks/tumor (251)_mask.png', './masks/tumor (123)_mask.png', './masks/tumor (227)_mask.png', './masks/tumor (218)_mask.png', './masks/tumor (79)_mask.png', './masks/tumor (260)_mask.png', './masks/tumor (131)_mask.png', './masks/tumor (106)_mask.png', './masks/tumor (10)_mask.png', './masks/tumor (263)_mask.png', './masks/tumor (211)_mask.png', './masks/tumor (236)_mask.png', './masks/tumor (202)_mask.png', './masks/tumor (47)_mask.png', './masks/tumor (287)_mask.png', './masks/tumor (59)_mask.png', './masks/tumor (327)_mask.png', './masks/tumor (217)_mask.png', './masks/tumor (25)_mask.png', './masks/tumor (102)_mask.png', './masks/tumor (265)_mask.png', './masks/tumor (161)_mask.png', './masks/tumor (276)_mask.png', './masks/tumor (138)_mask.png', './masks/tumor (3)_mask.png', './masks/tumor (248)_mask.png', './masks/tumor (185)_mask.png', './masks/tumor (117)_mask.png', './masks/tumor (264)_mask.png', './masks/tumor (216)_mask.png', './masks/tumor (270)_mask.png', './masks/tumor (303)_mask.png', './masks/tumor (127)_mask.png', './masks/tumor (122)_mask.png', './masks/tumor (188)_mask.png', './masks/tumor (45)_mask.png', './masks/tumor (192)_mask.png', './masks/tumor (21)_mask.png', './masks/tumor (203)_mask.png', './masks/tumor (201)_mask.png', './masks/tumor (325)_mask.png', './masks/tumor (39)_mask.png', './masks/tumor (105)_mask.png', './masks/tumor (252)_mask.png', './masks/tumor (118)_mask.png', './masks/tumor (322)_mask.png', './masks/tumor (110)_mask.png', './masks/tumor (139)_mask.png', './masks/tumor (238)_mask.png', './masks/tumor (158)_mask.png', './masks/tumor (12)_mask.png', './masks/tumor (116)_mask.png', './masks/tumor (155)_mask.png', './masks/tumor (305)_mask.png', './masks/tumor (191)_mask.png', './masks/tumor (229)_mask.png', './masks/tumor (253)_mask.png', './masks/tumor (298)_mask.png', './masks/tumor (273)_mask.png', './masks/tumor (268)_mask.png', './masks/tumor (16)_mask.png']\n"
     ]
    }
   ],
   "source": [
    "print(y_train_paths)"
   ],
   "metadata": {
    "collapsed": false,
    "ExecuteTime": {
     "end_time": "2024-02-13T21:21:37.893035583Z",
     "start_time": "2024-02-13T21:21:37.826710819Z"
    }
   },
   "id": "3d52fe34994e1594",
   "execution_count": 9
  },
  {
   "cell_type": "code",
   "outputs": [],
   "source": [
    "train_dataset = nc_utils.get_tensorflow_dataset(\n",
    "    image_mask_paths=(x_train_paths, y_train_paths),\n",
    "    image_size=IMAGE_SIZE,\n",
    "    batch_size=BATCH_SIZE\n",
    ")"
   ],
   "metadata": {
    "collapsed": false,
    "ExecuteTime": {
     "end_time": "2024-02-13T21:21:38.105898503Z",
     "start_time": "2024-02-13T21:21:37.827192548Z"
    }
   },
   "id": "be452c6ffc002ceb",
   "execution_count": 10
  },
  {
   "cell_type": "code",
   "outputs": [],
   "source": [
    "validation_dataset = nc_utils.get_tensorflow_dataset(\n",
    "    image_mask_paths=(x_valid_paths, y_valid_paths),\n",
    "    image_size=IMAGE_SIZE,\n",
    "    batch_size=BATCH_SIZE\n",
    ")"
   ],
   "metadata": {
    "collapsed": false,
    "ExecuteTime": {
     "end_time": "2024-02-13T21:21:38.137820207Z",
     "start_time": "2024-02-13T21:21:38.102261438Z"
    }
   },
   "id": "de907ac5978b833d",
   "execution_count": 11
  },
  {
   "cell_type": "code",
   "outputs": [],
   "source": [
    "test_dataset = nc_utils.get_tensorflow_dataset(\n",
    "    image_mask_paths=(x_test_paths, y_test_paths),\n",
    "    image_size=IMAGE_SIZE,\n",
    "    batch_size=BATCH_SIZE\n",
    ")"
   ],
   "metadata": {
    "collapsed": false,
    "ExecuteTime": {
     "end_time": "2024-02-13T21:21:38.169869901Z",
     "start_time": "2024-02-13T21:21:38.129470395Z"
    }
   },
   "id": "a7576bd3bdccfc8e",
   "execution_count": 12
  },
  {
   "cell_type": "markdown",
   "source": [
    "# Model Creation"
   ],
   "metadata": {
    "collapsed": false
   },
   "id": "fa93338329a43725"
  },
  {
   "cell_type": "code",
   "outputs": [],
   "source": [
    "data_aug = nc_utils.get_data_augmentation_pipeline()"
   ],
   "metadata": {
    "collapsed": false,
    "ExecuteTime": {
     "end_time": "2024-02-13T21:21:38.184396563Z",
     "start_time": "2024-02-13T21:21:38.163178300Z"
    }
   },
   "id": "e5583a8419fe75b7",
   "execution_count": 13
  },
  {
   "cell_type": "code",
   "outputs": [],
   "source": [
    "# Initiating model on GPU\n",
    "with strategy.scope():\n",
    "    model = nc_models.unet_model(input_shape=INPUT_SHAPE, augment_data=True)"
   ],
   "metadata": {
    "collapsed": false,
    "ExecuteTime": {
     "end_time": "2024-02-13T21:21:39.241823801Z",
     "start_time": "2024-02-13T21:21:38.181704020Z"
    }
   },
   "id": "515835daa92fdd67",
   "execution_count": 14
  },
  {
   "cell_type": "code",
   "outputs": [],
   "source": [
    "# Compiling model\n",
    "model.compile(optimizer=tf.keras.optimizers.Nadam(LR),\n",
    "              loss='binary_crossentropy',\n",
    "              metrics=[nc_metrics.dice_coefficient, nc_metrics.continuous_dice_coefficient])"
   ],
   "metadata": {
    "collapsed": false,
    "ExecuteTime": {
     "end_time": "2024-02-13T21:21:39.278142174Z",
     "start_time": "2024-02-13T21:21:39.246066505Z"
    }
   },
   "id": "238db94374edcf26",
   "execution_count": 15
  },
  {
   "cell_type": "code",
   "outputs": [],
   "source": [
    "early_stopping = callbacks.EarlyStopping(monitor = 'val_loss',\n",
    "                                         patience = 5, mode = 'max',\n",
    "                                         restore_best_weights = True)\n",
    "\n",
    "# Model Checkpoint"
   ],
   "metadata": {
    "collapsed": false,
    "ExecuteTime": {
     "end_time": "2024-02-13T21:21:39.280366687Z",
     "start_time": "2024-02-13T21:21:39.273684570Z"
    }
   },
   "id": "1ea32e13b7d6d46f",
   "execution_count": 16
  },
  {
   "cell_type": "code",
   "outputs": [],
   "source": [
    "train_steps = len(x_train_paths) // BATCH_SIZE\n",
    "valid_steps = len(x_valid_paths) // BATCH_SIZE\n",
    "\n",
    "if len(x_train_paths) % BATCH_SIZE != 0:\n",
    "    train_steps += 1\n",
    "if len(x_valid_paths) % BATCH_SIZE != 0:\n",
    "    valid_steps += 1\n",
    "    "
   ],
   "metadata": {
    "collapsed": false,
    "ExecuteTime": {
     "end_time": "2024-02-13T21:21:39.291474701Z",
     "start_time": "2024-02-13T21:21:39.280158591Z"
    }
   },
   "id": "acb7ea8d8ea664bf",
   "execution_count": 17
  },
  {
   "cell_type": "code",
   "outputs": [
    {
     "name": "stdout",
     "output_type": "stream",
     "text": [
      "Epoch 1/300\n"
     ]
    },
    {
     "name": "stderr",
     "output_type": "stream",
     "text": [
      "2024-02-13 18:21:48.388926: E tensorflow/core/grappler/optimizers/meta_optimizer.cc:961] layout failed: INVALID_ARGUMENT: Size of values 0 does not match size of permutation 4 @ fanin shape inmodel/dropout/dropout/SelectV2-2-TransposeNHWCToNCHW-LayoutOptimizer\n"
     ]
    },
    {
     "name": "stdout",
     "output_type": "stream",
     "text": [
      "image_path <class 'str'>\n",
      "raw_image_array: <class 'numpy.ndarray'>\n",
      "resized_image_array <class 'numpy.ndarray'>\n",
      "image_path <class 'str'>\n",
      "raw_image_array: <class 'numpy.ndarray'>\n",
      "resized_image_array <class 'numpy.ndarray'>\n",
      "image_path <class 'str'>\n",
      "raw_image_array: <class 'numpy.ndarray'>\n",
      "resized_image_array <class 'numpy.ndarray'>\n",
      "An error occurred: Graph execution error:\n",
      "\n",
      "Detected at node PyFunc defined at (most recent call last):\n",
      "<stack traces unavailable>\n",
      "0-th value returned by pyfunc_0 is double, but expects float\n",
      "\t [[{{node PyFunc}}]]\n",
      "\t [[MultiDeviceIteratorGetNextFromShard]]\n",
      "\t [[RemoteCall]]\n",
      "\t [[IteratorGetNext]] [Op:__inference_train_function_11650]\n",
      "image_path <class 'str'>\n",
      "raw_image_array: <class 'numpy.ndarray'>\n",
      "resized_image_array <class 'numpy.ndarray'>\n"
     ]
    }
   ],
   "source": [
    "try:\n",
    "    history = model.fit(\n",
    "        train_dataset,\n",
    "        epochs=EPOCHS,\n",
    "        validation_data=validation_dataset,\n",
    "        callbacks=[early_stopping],\n",
    "        steps_per_epoch=train_steps,\n",
    "        validation_steps=valid_steps)\n",
    "except Exception as e:\n",
    "    print(\"An error occurred:\", e)"
   ],
   "metadata": {
    "collapsed": false,
    "ExecuteTime": {
     "end_time": "2024-02-13T21:21:49.692648405Z",
     "start_time": "2024-02-13T21:21:39.291043952Z"
    }
   },
   "id": "5e0c8632c56f2497",
   "execution_count": 18
  },
  {
   "cell_type": "code",
   "outputs": [],
   "source": [],
   "metadata": {
    "collapsed": false,
    "ExecuteTime": {
     "end_time": "2024-02-13T21:21:49.695925005Z",
     "start_time": "2024-02-13T21:21:49.689900415Z"
    }
   },
   "id": "2ab8a303ee04dfe5",
   "execution_count": 18
  }
 ],
 "metadata": {
  "kernelspec": {
   "display_name": "Python 3",
   "language": "python",
   "name": "python3"
  },
  "language_info": {
   "codemirror_mode": {
    "name": "ipython",
    "version": 2
   },
   "file_extension": ".py",
   "mimetype": "text/x-python",
   "name": "python",
   "nbconvert_exporter": "python",
   "pygments_lexer": "ipython2",
   "version": "2.7.6"
  }
 },
 "nbformat": 4,
 "nbformat_minor": 5
}
