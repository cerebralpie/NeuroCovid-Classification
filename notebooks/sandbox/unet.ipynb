{
 "cells": [
  {
   "cell_type": "code",
   "execution_count": 1,
   "id": "initial_id",
   "metadata": {
    "collapsed": true,
    "ExecuteTime": {
     "end_time": "2024-02-10T19:05:57.435799062Z",
     "start_time": "2024-02-10T19:05:53.645868355Z"
    }
   },
   "outputs": [
    {
     "name": "stderr",
     "output_type": "stream",
     "text": [
      "2024-02-10 16:05:54.345382: E external/local_xla/xla/stream_executor/cuda/cuda_dnn.cc:9261] Unable to register cuDNN factory: Attempting to register factory for plugin cuDNN when one has already been registered\n",
      "2024-02-10 16:05:54.345456: E external/local_xla/xla/stream_executor/cuda/cuda_fft.cc:607] Unable to register cuFFT factory: Attempting to register factory for plugin cuFFT when one has already been registered\n",
      "2024-02-10 16:05:54.347541: E external/local_xla/xla/stream_executor/cuda/cuda_blas.cc:1515] Unable to register cuBLAS factory: Attempting to register factory for plugin cuBLAS when one has already been registered\n",
      "2024-02-10 16:05:54.360169: I tensorflow/core/platform/cpu_feature_guard.cc:182] This TensorFlow binary is optimized to use available CPU instructions in performance-critical operations.\n",
      "To enable the following instructions: AVX2 FMA, in other operations, rebuild TensorFlow with the appropriate compiler flags.\n",
      "2024-02-10 16:05:55.692895: W tensorflow/compiler/tf2tensorrt/utils/py_utils.cc:38] TF-TRT Warning: Could not find TensorRT\n"
     ]
    }
   ],
   "source": [
    "import numpy as np\n",
    "import tensorflow as tf\n",
    "import src.metrics as nc_metrics\n",
    "import src.utils as nc_utils\n",
    "\n",
    "from pathlib import Path\n",
    "from tensorflow.keras import layers\n",
    "from tensorflow.keras import callbacks\n",
    "from tensorflow.keras import losses\n",
    "from tensorflow.keras import metrics\n",
    "from tensorflow.keras import models"
   ]
  },
  {
   "cell_type": "code",
   "outputs": [
    {
     "name": "stderr",
     "output_type": "stream",
     "text": [
      "2024-02-10 16:05:58.851936: I external/local_xla/xla/stream_executor/cuda/cuda_executor.cc:901] successful NUMA node read from SysFS had negative value (-1), but there must be at least one NUMA node, so returning NUMA node zero. See more at https://github.com/torvalds/linux/blob/v6.0/Documentation/ABI/testing/sysfs-bus-pci#L344-L355\n",
      "2024-02-10 16:05:58.903876: I external/local_xla/xla/stream_executor/cuda/cuda_executor.cc:901] successful NUMA node read from SysFS had negative value (-1), but there must be at least one NUMA node, so returning NUMA node zero. See more at https://github.com/torvalds/linux/blob/v6.0/Documentation/ABI/testing/sysfs-bus-pci#L344-L355\n",
      "2024-02-10 16:05:58.904133: I external/local_xla/xla/stream_executor/cuda/cuda_executor.cc:901] successful NUMA node read from SysFS had negative value (-1), but there must be at least one NUMA node, so returning NUMA node zero. See more at https://github.com/torvalds/linux/blob/v6.0/Documentation/ABI/testing/sysfs-bus-pci#L344-L355\n",
      "2024-02-10 16:05:58.905358: I external/local_xla/xla/stream_executor/cuda/cuda_executor.cc:901] successful NUMA node read from SysFS had negative value (-1), but there must be at least one NUMA node, so returning NUMA node zero. See more at https://github.com/torvalds/linux/blob/v6.0/Documentation/ABI/testing/sysfs-bus-pci#L344-L355\n",
      "2024-02-10 16:05:58.905654: I external/local_xla/xla/stream_executor/cuda/cuda_executor.cc:901] successful NUMA node read from SysFS had negative value (-1), but there must be at least one NUMA node, so returning NUMA node zero. See more at https://github.com/torvalds/linux/blob/v6.0/Documentation/ABI/testing/sysfs-bus-pci#L344-L355\n",
      "2024-02-10 16:05:58.905900: I external/local_xla/xla/stream_executor/cuda/cuda_executor.cc:901] successful NUMA node read from SysFS had negative value (-1), but there must be at least one NUMA node, so returning NUMA node zero. See more at https://github.com/torvalds/linux/blob/v6.0/Documentation/ABI/testing/sysfs-bus-pci#L344-L355\n",
      "2024-02-10 16:05:58.951028: I external/local_xla/xla/stream_executor/cuda/cuda_executor.cc:901] successful NUMA node read from SysFS had negative value (-1), but there must be at least one NUMA node, so returning NUMA node zero. See more at https://github.com/torvalds/linux/blob/v6.0/Documentation/ABI/testing/sysfs-bus-pci#L344-L355\n",
      "2024-02-10 16:05:58.951296: I external/local_xla/xla/stream_executor/cuda/cuda_executor.cc:901] successful NUMA node read from SysFS had negative value (-1), but there must be at least one NUMA node, so returning NUMA node zero. See more at https://github.com/torvalds/linux/blob/v6.0/Documentation/ABI/testing/sysfs-bus-pci#L344-L355\n",
      "2024-02-10 16:05:58.951499: I external/local_xla/xla/stream_executor/cuda/cuda_executor.cc:901] successful NUMA node read from SysFS had negative value (-1), but there must be at least one NUMA node, so returning NUMA node zero. See more at https://github.com/torvalds/linux/blob/v6.0/Documentation/ABI/testing/sysfs-bus-pci#L344-L355\n",
      "2024-02-10 16:05:58.951650: I tensorflow/core/common_runtime/gpu/gpu_device.cc:1929] Created device /job:localhost/replica:0/task:0/device:GPU:0 with 1447 MB memory:  -> device: 0, name: NVIDIA GeForce 920MX, pci bus id: 0000:01:00.0, compute capability: 5.0\n"
     ]
    }
   ],
   "source": [
    "strategy = nc_utils.start_session()"
   ],
   "metadata": {
    "collapsed": false,
    "ExecuteTime": {
     "end_time": "2024-02-10T19:05:58.962221153Z",
     "start_time": "2024-02-10T19:05:58.954915539Z"
    }
   },
   "id": "7f1f084401e90dea",
   "execution_count": 2
  },
  {
   "cell_type": "code",
   "outputs": [],
   "source": [
    "ROOT_DIR = Path(\".\")\n",
    "IMAGE_DIR = ROOT_DIR / \"images\"\n",
    "MASK_DIR = ROOT_DIR / \"masks\"\n",
    "\n",
    "BATCH_SIZE = 16\n",
    "LR = 1e-4   # Learning rate\n",
    "EPOCHS = 300"
   ],
   "metadata": {
    "collapsed": false,
    "ExecuteTime": {
     "end_time": "2024-02-10T19:06:00.463023555Z",
     "start_time": "2024-02-10T19:06:00.454208664Z"
    }
   },
   "id": "25a3573e912bbc1f",
   "execution_count": 3
  },
  {
   "cell_type": "code",
   "outputs": [],
   "source": [
    "smallest_dimension = nc_utils.get_smallest_image_dimension(IMAGE_DIR)"
   ],
   "metadata": {
    "collapsed": false,
    "ExecuteTime": {
     "end_time": "2024-02-10T19:06:35.701335100Z",
     "start_time": "2024-02-10T19:06:35.565481372Z"
    }
   },
   "id": "8ff34397a884ebaa",
   "execution_count": 5
  },
  {
   "cell_type": "code",
   "outputs": [],
   "source": [
    "IMAGE_SIZE = smallest_dimension\n",
    "IMAGE_SHAPE = (IMAGE_SIZE, IMAGE_SIZE)\n",
    "INPUT_SHAPE = (IMAGE_SIZE, IMAGE_SIZE, 3)"
   ],
   "metadata": {
    "collapsed": false,
    "ExecuteTime": {
     "end_time": "2024-02-10T19:06:39.083237768Z",
     "start_time": "2024-02-10T19:06:39.073718089Z"
    }
   },
   "id": "d8f23f46ed2e8e6c",
   "execution_count": 6
  },
  {
   "cell_type": "code",
   "outputs": [
    {
     "name": "stdout",
     "output_type": "stream",
     "text": [
      "512\n",
      "(512, 512)\n",
      "(512, 512, 3)\n"
     ]
    }
   ],
   "source": [
    "print(IMAGE_SIZE)\n",
    "print(IMAGE_SHAPE)\n",
    "print(INPUT_SHAPE)"
   ],
   "metadata": {
    "collapsed": false,
    "ExecuteTime": {
     "end_time": "2024-02-10T19:06:39.964286375Z",
     "start_time": "2024-02-10T19:06:39.954300977Z"
    }
   },
   "id": "7caef2b325b9fe10",
   "execution_count": 7
  },
  {
   "cell_type": "code",
   "outputs": [],
   "source": [
    "(x_train_paths, y_train_paths), (x_valid_paths, y_valid_paths), (x_test_paths,\n",
    " y_test_paths) = nc_utils.load_data(\n",
    "    image_directory=IMAGE_DIR,\n",
    "    mask_directory=MASK_DIR,\n",
    "    split=0.1\n",
    ")"
   ],
   "metadata": {
    "collapsed": false,
    "ExecuteTime": {
     "end_time": "2024-02-09T20:59:32.125943778Z",
     "start_time": "2024-02-09T20:59:32.068522820Z"
    }
   },
   "id": "ec6b24544dea89ad",
   "execution_count": 4
  },
  {
   "cell_type": "code",
   "outputs": [],
   "source": [
    "train_dataset = nc_utils.get_tensorflow_dataset(\n",
    "    image_mask_paths=(x_train_paths, y_train_paths),\n",
    "    image_size=IMAGE_SIZE,\n",
    "    batch_size=BATCH_SIZE\n",
    ")"
   ],
   "metadata": {
    "collapsed": false,
    "ExecuteTime": {
     "end_time": "2024-02-09T21:00:46.664995237Z",
     "start_time": "2024-02-09T21:00:46.551305911Z"
    }
   },
   "id": "be452c6ffc002ceb",
   "execution_count": 5
  },
  {
   "cell_type": "code",
   "outputs": [],
   "source": [
    "validation_dataset = nc_utils.get_tensorflow_dataset(\n",
    "    image_mask_paths=(x_valid_paths, y_valid_paths),\n",
    "    image_size=IMAGE_SIZE,\n",
    "    batch_size=BATCH_SIZE\n",
    ")"
   ],
   "metadata": {
    "collapsed": false,
    "ExecuteTime": {
     "end_time": "2024-02-09T21:00:51.720573515Z",
     "start_time": "2024-02-09T21:00:51.692663305Z"
    }
   },
   "id": "de907ac5978b833d",
   "execution_count": 6
  },
  {
   "cell_type": "code",
   "outputs": [],
   "source": [
    "test_dataset = nc_utils.get_tensorflow_dataset(\n",
    "    image_mask_paths=(x_test_paths, y_test_paths),\n",
    "    image_size=IMAGE_SIZE,\n",
    "    batch_size=BATCH_SIZE\n",
    ")"
   ],
   "metadata": {
    "collapsed": false,
    "ExecuteTime": {
     "end_time": "2024-02-09T21:00:57.381112208Z",
     "start_time": "2024-02-09T21:00:57.328487803Z"
    }
   },
   "id": "a7576bd3bdccfc8e",
   "execution_count": 7
  },
  {
   "cell_type": "markdown",
   "source": [
    "# Model Creation"
   ],
   "metadata": {
    "collapsed": false
   },
   "id": "fa93338329a43725"
  },
  {
   "cell_type": "code",
   "outputs": [],
   "source": [
    "data_aug = nc_utils.get_data_augmentation_pipeline()"
   ],
   "metadata": {
    "collapsed": false
   },
   "id": "e5583a8419fe75b7"
  },
  {
   "cell_type": "code",
   "outputs": [],
   "source": [
    "# Initiating model on GPU\n",
    "with strategy.scope():\n",
    "    inputs = layers.Input(shape=INPUT_SHAPE)\n",
    "    \n",
    "    x = inputs\n",
    "    x = data_aug(x)\n",
    "    \n",
    "    encoding_layers = []\n",
    "    for i in range(4):\n",
    "        "
   ],
   "metadata": {
    "collapsed": false
   },
   "id": "515835daa92fdd67"
  }
 ],
 "metadata": {
  "kernelspec": {
   "display_name": "Python 3",
   "language": "python",
   "name": "python3"
  },
  "language_info": {
   "codemirror_mode": {
    "name": "ipython",
    "version": 2
   },
   "file_extension": ".py",
   "mimetype": "text/x-python",
   "name": "python",
   "nbconvert_exporter": "python",
   "pygments_lexer": "ipython2",
   "version": "2.7.6"
  }
 },
 "nbformat": 4,
 "nbformat_minor": 5
}
